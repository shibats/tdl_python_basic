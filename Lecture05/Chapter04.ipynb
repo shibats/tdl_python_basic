{
 "cells": [
  {
   "cell_type": "markdown",
   "metadata": {},
   "source": [
    "# Lecture 5 ライブラリの活用"
   ]
  },
  {
   "cell_type": "markdown",
   "metadata": {},
   "source": [
    "## 数値演算ライブラリを使う"
   ]
  },
  {
   "cell_type": "markdown",
   "metadata": {},
   "source": [
    "### numpyを使う"
   ]
  },
  {
   "cell_type": "code",
   "execution_count": null,
   "metadata": {},
   "outputs": [],
   "source": [
    " # 数値演算ライブラリをインポート\n",
    "import numpy as np"
   ]
  },
  {
   "cell_type": "code",
   "execution_count": null,
   "metadata": {},
   "outputs": [],
   "source": [
    "l = [1, 2, 3, 4]  # リストを定義\n",
    "# リストから行列を作る\n",
    "arr = np.array(l)"
   ]
  },
  {
   "cell_type": "code",
   "execution_count": null,
   "metadata": {},
   "outputs": [],
   "source": [
    "arr  # 確認"
   ]
  },
  {
   "cell_type": "code",
   "execution_count": null,
   "metadata": {},
   "outputs": [],
   "source": [
    "arr + 10  # 行列の足し算"
   ]
  },
  {
   "cell_type": "code",
   "execution_count": null,
   "metadata": {},
   "outputs": [],
   "source": [
    "arr * 10  # 行列のかけ算"
   ]
  },
  {
   "cell_type": "markdown",
   "metadata": {},
   "source": [
    "### リストとarrayの実行速度比較"
   ]
  },
  {
   "cell_type": "code",
   "execution_count": null,
   "metadata": {},
   "outputs": [],
   "source": [
    "def array_add(l, n):\n",
    "    # lのリストに対して行列の加算をする\n",
    "    for n in range(len(l)):\n",
    "        l[n] = l[n]+n\n",
    "    return l"
   ]
  },
  {
   "cell_type": "code",
   "execution_count": null,
   "metadata": {},
   "outputs": [],
   "source": [
    "l = [0]*10000  # 1万の0を持つリスト"
   ]
  },
  {
   "cell_type": "code",
   "execution_count": null,
   "metadata": {},
   "outputs": [],
   "source": [
    "# 実行時間を計測\n",
    "%timeit -n 1000 array_add(l, 10)"
   ]
  },
  {
   "cell_type": "code",
   "execution_count": null,
   "metadata": {},
   "outputs": [],
   "source": [
    "%timeit -n 1000 a = np.zeros(10000); a += 10"
   ]
  },
  {
   "cell_type": "markdown",
   "metadata": {},
   "source": [
    "### 行列で音声を扱う"
   ]
  },
  {
   "cell_type": "code",
   "execution_count": null,
   "metadata": {},
   "outputs": [],
   "source": [
    "!pip install tdl_pybasic"
   ]
  },
  {
   "cell_type": "code",
   "execution_count": null,
   "metadata": {},
   "outputs": [],
   "source": [
    "from tdl_pybasic.array import load_sound, show_player, load_image, show_image"
   ]
  },
  {
   "cell_type": "code",
   "execution_count": null,
   "metadata": {},
   "outputs": [],
   "source": [
    "# サンプリング周波数とリストを得る\n",
    "f, sl = load_sound()"
   ]
  },
  {
   "cell_type": "code",
   "execution_count": null,
   "metadata": {},
   "outputs": [],
   "source": [
    "sound_arr = np.array(sl)  # 行列に変換"
   ]
  },
  {
   "cell_type": "code",
   "execution_count": null,
   "metadata": {},
   "outputs": [],
   "source": [
    "sound_arr  # 確認"
   ]
  },
  {
   "cell_type": "code",
   "execution_count": null,
   "metadata": {},
   "outputs": [],
   "source": [
    "# 音を聞く\n",
    "show_player(f, sound_arr)"
   ]
  },
  {
   "cell_type": "code",
   "execution_count": null,
   "metadata": {},
   "outputs": [],
   "source": [
    "# 画像をリストとして読み込む\n",
    "l = load_image()"
   ]
  },
  {
   "cell_type": "code",
   "execution_count": null,
   "metadata": {},
   "outputs": [],
   "source": [
    "image_arr = np.array(l)  # 行列に変換"
   ]
  },
  {
   "cell_type": "code",
   "execution_count": null,
   "metadata": {},
   "outputs": [],
   "source": [
    "show_image(image_arr)  # 画像を表示"
   ]
  },
  {
   "cell_type": "code",
   "execution_count": null,
   "metadata": {},
   "outputs": [],
   "source": [
    "# ぼかしフィルタを作る\n",
    "a3 = [[1]*9]*9\n",
    "# データ型を指定してarrayを生成\n",
    "blur_filter = np.array(a3, dtype=\"float64\")\n",
    "blur_filter *= 1/81"
   ]
  },
  {
   "cell_type": "code",
   "execution_count": null,
   "metadata": {},
   "outputs": [],
   "source": [
    "blur_filter  # フィルタの内容を確認"
   ]
  },
  {
   "cell_type": "code",
   "execution_count": null,
   "metadata": {},
   "outputs": [],
   "source": [
    "# 画像処理用のライブラリをインポート\n",
    "from scipy import ndimage"
   ]
  },
  {
   "cell_type": "code",
   "execution_count": null,
   "metadata": {},
   "outputs": [],
   "source": [
    "# 畳み込み\n",
    "r = ndimage.convolve(image_arr, blur_filter)\n",
    "# 最大，最小を設定\n",
    "r[r > 255] = 255\n",
    "r[r < 0] = 0"
   ]
  },
  {
   "cell_type": "code",
   "execution_count": null,
   "metadata": {},
   "outputs": [],
   "source": [
    "# show_image()の中身\n",
    "from io import BytesIO\n",
    "from PIL import Image\n",
    "import IPython\n",
    "\n",
    "img_arr = np.array(r, 'uint8')  # 整数型に変換\n",
    "# 画像オブジェクトを作る\n",
    "im = Image.fromarray(img_arr)\n",
    " # データ書きだし用のオブジェクトを作る\n",
    "buf = BytesIO()\n",
    "im.save(buf,\"PNG\")  # 画像を保存\n",
    "data = buf.getvalue()  # 画像データを取得\n",
    "# 表示\n",
    "IPython.display.display(IPython.display.Image(data))"
   ]
  },
  {
   "cell_type": "markdown",
   "metadata": {},
   "source": [
    "### pandasを使う"
   ]
  },
  {
   "cell_type": "code",
   "execution_count": null,
   "metadata": {},
   "outputs": [],
   "source": [
    "# データ処理用のライブラリを読み込む\n",
    "import pandas as pd\n",
    "url = \"https://raw.githubusercontent.com/shibats/minpy_samplecodes_4th/master/Chapter12/total_fertility_rate.csv\"\n",
    "df = pd.read_csv(url)   # 日本の出生率(合計特殊出生率)を読み込む"
   ]
  },
  {
   "cell_type": "code",
   "execution_count": null,
   "metadata": {},
   "outputs": [],
   "source": [
    "df  # 読み込んだデータを表示"
   ]
  },
  {
   "cell_type": "code",
   "execution_count": null,
   "metadata": {},
   "outputs": [],
   "source": [
    "df.T.plot()  # グラフを表示"
   ]
  },
  {
   "cell_type": "code",
   "execution_count": null,
   "metadata": {},
   "outputs": [],
   "source": [
    "# ある企業の10年間の株価データを読み込む\n",
    "url = \"https://raw.githubusercontent.com/shibats/tdl_python_basic/main/Lecture05/stock_chart.csv\"\n",
    "stockchart = pd.read_csv(url)"
   ]
  },
  {
   "cell_type": "code",
   "execution_count": null,
   "metadata": {},
   "outputs": [],
   "source": [
    "stockchart[:10] # データを表示(直近10件)"
   ]
  },
  {
   "cell_type": "code",
   "execution_count": null,
   "metadata": {},
   "outputs": [],
   "source": [
    "stockchart.describe() # 統計量を表示"
   ]
  },
  {
   "cell_type": "code",
   "execution_count": null,
   "metadata": {},
   "outputs": [],
   "source": [
    "stockchart['close'][-40:].plot()"
   ]
  },
  {
   "cell_type": "markdown",
   "metadata": {},
   "source": [
    "#### 最小二乗法を使った多項式近似(線形回帰)"
   ]
  },
  {
   "cell_type": "code",
   "execution_count": null,
   "metadata": {},
   "outputs": [],
   "source": [
    "x = np.arange(40)  # 近似用にx軸の数(0から39まで)を作る\n",
    "y = stockchart['close'][-40:]  # 近似するデータ"
   ]
  },
  {
   "cell_type": "code",
   "execution_count": null,
   "metadata": {},
   "outputs": [],
   "source": [
    "# 1次式で近似\n",
    "cf1 = np.polyfit(x, y, 1)"
   ]
  },
  {
   "cell_type": "markdown",
   "metadata": {},
   "source": [
    "<div style=\"font-size: 200%;\">\n",
    "$$\n",
    "y = ax+b\n",
    "$$\n",
    "</div>"
   ]
  },
  {
   "cell_type": "code",
   "execution_count": null,
   "metadata": {},
   "outputs": [],
   "source": [
    "cf1  # 近似結果(係数と切片)を表示"
   ]
  },
  {
   "cell_type": "code",
   "execution_count": null,
   "metadata": {},
   "outputs": [],
   "source": [
    "from matplotlib import pyplot as plt\n",
    "\n",
    "# 元のデータと，近似した結果をグラフ描画する\n",
    "plt.plot(x, y, linestyle=':')\n",
    "plt.plot(x, np.poly1d(cf1)(x))"
   ]
  },
  {
   "cell_type": "code",
   "execution_count": null,
   "metadata": {},
   "outputs": [],
   "source": [
    "# 近似式の次数を上げてためす\n",
    "cf2 = np.polyfit(x, y, 2) # 2次\n",
    "cf8 = np.polyfit(x, y, 8) # 8次"
   ]
  },
  {
   "cell_type": "code",
   "execution_count": null,
   "metadata": {},
   "outputs": [],
   "source": [
    "# 各次数の係数を確認する(指数表示)\n",
    "cf8"
   ]
  },
  {
   "cell_type": "code",
   "execution_count": null,
   "metadata": {},
   "outputs": [],
   "source": [
    "# 元のデータと，近似した結果をグラフ描画する\n",
    "plt.plot(x, y, linestyle=':')\n",
    "plt.plot(x, np.poly1d(cf1)(x))\n",
    "plt.plot(x, np.poly1d(cf2)(x))\n",
    "plt.plot(x, np.poly1d(cf8)(x))"
   ]
  },
  {
   "cell_type": "code",
   "execution_count": null,
   "metadata": {},
   "outputs": [],
   "source": [
    "# 10件延長して，補間結果が正しいか確認する\n",
    "\n",
    "xl = np.arange(50)\n",
    "# 実際の株価(10件延長)\n",
    "plt.plot(xl, stockchart['close'][-50:], linestyle=\":\")\n",
    "# 次数8の補間式を使って先までグラフを描く\n",
    "plt.plot(xl, np.poly1d(cf8)(xl))"
   ]
  },
  {
   "cell_type": "markdown",
   "metadata": {},
   "source": [
    "※ スライドに戻ります"
   ]
  },
  {
   "cell_type": "code",
   "execution_count": null,
   "metadata": {},
   "outputs": [],
   "source": []
  }
 ],
 "metadata": {
  "kernelspec": {
   "display_name": "Python 3",
   "language": "python",
   "name": "python3"
  },
  "language_info": {
   "codemirror_mode": {
    "name": "ipython",
    "version": 3
   },
   "file_extension": ".py",
   "mimetype": "text/x-python",
   "name": "python",
   "nbconvert_exporter": "python",
   "pygments_lexer": "ipython3",
   "version": "3.7.3"
  }
 },
 "nbformat": 4,
 "nbformat_minor": 2
}
