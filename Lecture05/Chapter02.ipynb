{
 "cells": [
  {
   "cell_type": "markdown",
   "metadata": {},
   "source": [
    "# Lecture 5 ライブラリの活用"
   ]
  },
  {
   "cell_type": "markdown",
   "metadata": {},
   "source": [
    "## 標準ライブラリ"
   ]
  },
  {
   "cell_type": "markdown",
   "metadata": {},
   "source": [
    "### ランダムウォーク"
   ]
  },
  {
   "cell_type": "code",
   "execution_count": null,
   "metadata": {},
   "outputs": [],
   "source": [
    "# 乱数生成用の関数をインポート\n",
    "from random import random"
   ]
  },
  {
   "cell_type": "code",
   "execution_count": null,
   "metadata": {},
   "outputs": [],
   "source": [
    "def throw_coin():\n",
    "    # コインを投げる\n",
    "    # 表 0，裏 1\n",
    "    if random() > 0.5:\n",
    "        return 0\n",
    "    return 1"
   ]
  },
  {
   "cell_type": "code",
   "execution_count": null,
   "metadata": {},
   "outputs": [],
   "source": [
    "throw_coin()"
   ]
  },
  {
   "cell_type": "code",
   "execution_count": null,
   "metadata": {},
   "outputs": [],
   "source": [
    "# 表=進む(+1)，裏=戻る(-1)を100回繰り返す\n",
    "\n",
    "t = []  # 結果のリストを初期化\n",
    "p = 0  # 初期位置\n",
    "for i in range(100):\n",
    "    t.append(p)\n",
    "    c = throw_coin()\n",
    "    if c == 0:\n",
    "        p += 1\n",
    "    else:\n",
    "        p -= 1\n",
    "    \"\"\"\n",
    "    以下のようにしたらどうなるか考えてみましょう\n",
    "    if throw_coin() == 0:\n",
    "        p += 1\n",
    "    \"\"\""
   ]
  },
  {
   "cell_type": "code",
   "execution_count": null,
   "metadata": {},
   "outputs": [],
   "source": [
    "t  # 結果を確認"
   ]
  },
  {
   "cell_type": "code",
   "execution_count": null,
   "metadata": {},
   "outputs": [],
   "source": [
    "t[-1]  # 最終位置を確認"
   ]
  },
  {
   "cell_type": "code",
   "execution_count": null,
   "metadata": {},
   "outputs": [],
   "source": [
    "# 関数にする\n",
    "def r_walk(times):\n",
    "    # 指定回数ランダムウォークを繰り返す\n",
    "    t = []  # 結果のリストを初期化\n",
    "    p = 0  # 初期位置\n",
    "    for i in range(times):\n",
    "        t.append(p)\n",
    "        c = throw_coin()\n",
    "        if c == 0:\n",
    "            p += 1\n",
    "        else:\n",
    "            p -= 1\n",
    "    # 結果のリストを返す\n",
    "    return t"
   ]
  },
  {
   "cell_type": "code",
   "execution_count": null,
   "metadata": {},
   "outputs": [],
   "source": [
    "# 15回のランダムウォークを実行\n",
    "r_walk(15)"
   ]
  },
  {
   "cell_type": "code",
   "execution_count": null,
   "metadata": {},
   "outputs": [],
   "source": [
    "# グラフ描画ライブラリをインポート\n",
    "import matplotlib.pyplot as plt"
   ]
  },
  {
   "cell_type": "code",
   "execution_count": null,
   "metadata": {},
   "outputs": [],
   "source": [
    "# ランダムウォークを3回実行，結果をグラフに\n",
    "for i in range(3):\n",
    "    l = r_walk(15)\n",
    "    plt.plot(l)\n"
   ]
  },
  {
   "cell_type": "code",
   "execution_count": null,
   "metadata": {},
   "outputs": [],
   "source": [
    "# 20回のランダムウォークを10万回繰り返す\n",
    "pl = []  # 結果のリストを初期化\n",
    "for i in range(100000):\n",
    "    l = r_walk(20)\n",
    "    pl.append(l[-1]) # 結果のみを保存\n"
   ]
  },
  {
   "cell_type": "code",
   "execution_count": null,
   "metadata": {},
   "outputs": [],
   "source": [
    "pl[:20]  # 先頭の20個を表示"
   ]
  },
  {
   "cell_type": "code",
   "execution_count": null,
   "metadata": {},
   "outputs": [],
   "source": [
    "# 統計計算ライブラリをインポート\n",
    "from statistics import mean, median, variance, stdev"
   ]
  },
  {
   "cell_type": "code",
   "execution_count": null,
   "metadata": {},
   "outputs": [],
   "source": [
    "print(mean(pl),    # 平均(算術平均)\n",
    "        median(pl),  # 中央値\n",
    "        variance(pl), # 分散\n",
    "        stdev(pl)      # 標準偏差\n",
    "     )\n"
   ]
  },
  {
   "cell_type": "code",
   "execution_count": null,
   "metadata": {},
   "outputs": [],
   "source": [
    "# 出現数を数える\n",
    "# ライブラリをインポート\n",
    "from collections import Counter"
   ]
  },
  {
   "cell_type": "code",
   "execution_count": null,
   "metadata": {},
   "outputs": [],
   "source": [
    "c = Counter(pl)"
   ]
  },
  {
   "cell_type": "code",
   "execution_count": null,
   "metadata": {},
   "outputs": [],
   "source": [
    "len(c)  # 要素数"
   ]
  },
  {
   "cell_type": "code",
   "execution_count": null,
   "metadata": {},
   "outputs": [],
   "source": [
    "c[1]  # 終末位置が1の数"
   ]
  },
  {
   "cell_type": "code",
   "execution_count": null,
   "metadata": {},
   "outputs": [],
   "source": [
    "c[0]  # 終末位置が0の数"
   ]
  },
  {
   "cell_type": "code",
   "execution_count": null,
   "metadata": {},
   "outputs": [],
   "source": [
    "max(c), min(c)  # 最大値，最小値"
   ]
  },
  {
   "cell_type": "code",
   "execution_count": null,
   "metadata": {},
   "outputs": [],
   "source": [
    "# 結果をグラフに描画する\n",
    "for idx in c:\n",
    "    plt.scatter(idx, c[idx])"
   ]
  },
  {
   "cell_type": "markdown",
   "metadata": {},
   "source": [
    "きれいな正規分布になっていますね。\n",
    "\n",
    "※ スライドに戻ります"
   ]
  },
  {
   "cell_type": "code",
   "execution_count": null,
   "metadata": {},
   "outputs": [],
   "source": []
  }
 ],
 "metadata": {
  "kernelspec": {
   "display_name": "Python 3",
   "language": "python",
   "name": "python3"
  },
  "language_info": {
   "codemirror_mode": {
    "name": "ipython",
    "version": 3
   },
   "file_extension": ".py",
   "mimetype": "text/x-python",
   "name": "python",
   "nbconvert_exporter": "python",
   "pygments_lexer": "ipython3",
   "version": "3.7.3"
  }
 },
 "nbformat": 4,
 "nbformat_minor": 2
}
