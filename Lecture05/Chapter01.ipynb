{
 "cells": [
  {
   "cell_type": "markdown",
   "metadata": {},
   "source": [
    "# Lecture 5 ライブラリの活用"
   ]
  },
  {
   "cell_type": "markdown",
   "metadata": {},
   "source": [
    "## ライブラリとは"
   ]
  },
  {
   "cell_type": "code",
   "execution_count": null,
   "metadata": {},
   "outputs": [],
   "source": [
    "# 乱数ライブラリ(random)をインポート\n",
    "import random"
   ]
  },
  {
   "cell_type": "code",
   "execution_count": null,
   "metadata": {},
   "outputs": [],
   "source": [
    "# ドット区切りで乱数発生用の関数を呼び出す\n",
    "random.random() # 0 <= n < 1の乱数を生成"
   ]
  },
  {
   "cell_type": "code",
   "execution_count": null,
   "metadata": {},
   "outputs": [],
   "source": [
    "# fromインポートで関数を直接読み込む\n",
    "from random import seed, random, shuffle"
   ]
  },
  {
   "cell_type": "code",
   "execution_count": null,
   "metadata": {},
   "outputs": [],
   "source": [
    "random()  # 乱数を生成"
   ]
  },
  {
   "cell_type": "code",
   "execution_count": null,
   "metadata": {},
   "outputs": [],
   "source": [
    "# 換字暗号の変換テーブルを作る\n",
    "t = []\n",
    "for cn in range(ord('a'), ord('z')+1):\n",
    "    t.append(chr(cn))\n",
    "t  # aからzまでの文字列のリストを生成"
   ]
  },
  {
   "cell_type": "code",
   "execution_count": null,
   "metadata": {},
   "outputs": [],
   "source": [
    "shuffle(t)  # リストをシャッフル"
   ]
  },
  {
   "cell_type": "code",
   "execution_count": null,
   "metadata": {},
   "outputs": [],
   "source": [
    "t  # 内容を確認"
   ]
  },
  {
   "cell_type": "markdown",
   "metadata": {},
   "source": [
    "### コイン問題をライブラリで解いてみよう\n",
    "\n",
    "コインを投げ，出た裏表を記録する。\n",
    "\n",
    "これを10万回繰り返す。\n",
    "\n",
    "連続して裏の出た回数を調べて，\n",
    "\n",
    "最長のものを答える。"
   ]
  },
  {
   "cell_type": "code",
   "execution_count": null,
   "metadata": {},
   "outputs": [],
   "source": [
    "def throw_coin():\n",
    "    # コインを投げる\n",
    "    # 表 0，裏 1\n",
    "    if random() > 0.5:\n",
    "        return 0\n",
    "    return 1"
   ]
  },
  {
   "cell_type": "code",
   "execution_count": null,
   "metadata": {},
   "outputs": [],
   "source": [
    "throw_coin()"
   ]
  },
  {
   "cell_type": "code",
   "execution_count": null,
   "metadata": {},
   "outputs": [],
   "source": [
    "seed(0)   # シード値を固定\n",
    "random()  # 乱数を生成"
   ]
  },
  {
   "cell_type": "code",
   "execution_count": null,
   "metadata": {},
   "outputs": [],
   "source": [
    "seed(0)\n",
    "throw_coin()"
   ]
  },
  {
   "cell_type": "code",
   "execution_count": null,
   "metadata": {},
   "outputs": [],
   "source": [
    "# コインの裏表をリストに記録\n",
    "seed(0)   # 初期化\n",
    "coin_l = []   # 記録用のリストを初期化\n",
    "for i in range(100000): # 10万回ループを実行\n",
    "    r = throw_coin() # コインを投げる\n",
    "    # 複合演算子を使ってリストに結果を追加\n",
    "    coin_l += [r]"
   ]
  },
  {
   "cell_type": "code",
   "execution_count": null,
   "metadata": {},
   "outputs": [],
   "source": [
    "# 記録を20ずつに区切る\n",
    "parts2 = []\n",
    "for i in range(0, len(coin_l), 20):\n",
    "    # 20飛びのインデックスを使いループ\n",
    "    parts2 += [coin_l[i:i+20]]"
   ]
  },
  {
   "cell_type": "code",
   "execution_count": null,
   "metadata": {},
   "outputs": [],
   "source": [
    "# すべての要素について調べる\n",
    "count_l = []\n",
    "for t_part in parts2:\n",
    "    t_cnt = 0  # 裏の数を初期化\n",
    "    for h_t in t_part:  # リストの要素でループ\n",
    "        if h_t == 1:\n",
    "            # 取り出した要素が裏だったら\n",
    "            t_cnt += 1\n",
    "    count_l += [t_cnt]"
   ]
  },
  {
   "cell_type": "code",
   "execution_count": null,
   "metadata": {},
   "outputs": [],
   "source": [
    "# 最大値，最小値を表示\n",
    "max(count_l), min(count_l)"
   ]
  },
  {
   "cell_type": "code",
   "execution_count": null,
   "metadata": {},
   "outputs": [],
   "source": [
    "# 統計計算ライブラリをインポート\n",
    "from statistics import mean, median, variance, stdev"
   ]
  },
  {
   "cell_type": "code",
   "execution_count": null,
   "metadata": {},
   "outputs": [],
   "source": [
    "# 平均(算術平均)\n",
    "mean(count_l)"
   ]
  },
  {
   "cell_type": "code",
   "execution_count": null,
   "metadata": {},
   "outputs": [],
   "source": [
    "# 中央値\n",
    "median(count_l)"
   ]
  },
  {
   "cell_type": "code",
   "execution_count": null,
   "metadata": {},
   "outputs": [],
   "source": [
    "# 分散\n",
    "variance(count_l)"
   ]
  },
  {
   "cell_type": "code",
   "execution_count": null,
   "metadata": {},
   "outputs": [],
   "source": [
    "# 標準偏差\n",
    "stdev(count_l)"
   ]
  },
  {
   "cell_type": "code",
   "execution_count": null,
   "metadata": {},
   "outputs": [],
   "source": [
    "# グラフ描画ライブラリをインポート\n",
    "import matplotlib.pyplot as plt"
   ]
  },
  {
   "cell_type": "code",
   "execution_count": null,
   "metadata": {},
   "outputs": [],
   "source": [
    "# 頻度のリストを作る\n",
    "# 20の0を持つリストとして初期化\n",
    "freq = [0]*20\n",
    "for i in count_l: # 裏の出現数リストでループ\n",
    "    freq[i] += 1"
   ]
  },
  {
   "cell_type": "code",
   "execution_count": null,
   "metadata": {},
   "outputs": [],
   "source": [
    "plt.plot(freq)  # グラフを描画"
   ]
  },
  {
   "cell_type": "code",
   "execution_count": null,
   "metadata": {},
   "outputs": [],
   "source": []
  }
 ],
 "metadata": {
  "kernelspec": {
   "display_name": "Python 3",
   "language": "python",
   "name": "python3"
  },
  "language_info": {
   "codemirror_mode": {
    "name": "ipython",
    "version": 3
   },
   "file_extension": ".py",
   "mimetype": "text/x-python",
   "name": "python",
   "nbconvert_exporter": "python",
   "pygments_lexer": "ipython3",
   "version": "3.7.3"
  }
 },
 "nbformat": 4,
 "nbformat_minor": 2
}
