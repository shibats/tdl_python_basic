{
 "cells": [
  {
   "cell_type": "markdown",
   "metadata": {},
   "source": [
    "# Lecture 7 Pythonともっと仲良くなる"
   ]
  },
  {
   "cell_type": "markdown",
   "metadata": {},
   "source": [
    "## 分類で覚える組み込み型"
   ]
  },
  {
   "cell_type": "markdown",
   "metadata": {},
   "source": [
    "### シーケンス\n",
    "\n",
    "複数の要素を持つ組み込み型。リスト型，文字列型，タプル型，辞書型，set型。"
   ]
  },
  {
   "cell_type": "code",
   "execution_count": null,
   "metadata": {},
   "outputs": [],
   "source": [
    "!pip install tdl_pybasic\n",
    "from tdl_pybasic.draw_graph import store_data, draw_graph"
   ]
  },
  {
   "cell_type": "code",
   "execution_count": null,
   "metadata": {},
   "outputs": [],
   "source": [
    "# シーケンスはループに添えることができる\n",
    "\n",
    "# リスト\n",
    "income = [8320, 8670, 9062, 9307, 9709]  # 直近5年の売り上げ\n",
    "for inc in income:\n",
    "    store_data(inc)\n",
    "    \n",
    "draw_graph()"
   ]
  },
  {
   "cell_type": "code",
   "execution_count": null,
   "metadata": {},
   "outputs": [],
   "source": [
    "j_str = \"この文字列が縦書きになります\"\n",
    "for s in j_str:\n",
    "    print(s)"
   ]
  },
  {
   "cell_type": "code",
   "execution_count": null,
   "metadata": {},
   "outputs": [],
   "source": [
    "# 辞書をループに添えるとキーのループになる\n",
    "address_d = {\"郵便番号\":\"100-0014\",\n",
    "             \"住所\":\"東京都千代田区永田町1-7−1\",\n",
    "             \"名称\":\"国会議事堂\"}\n",
    "\n",
    "for key in address_d:\n",
    "    # キーを左寄せして表示\n",
    "    print(f\"{key:　<5} : {address_d[key]}\")"
   ]
  },
  {
   "cell_type": "code",
   "execution_count": null,
   "metadata": {},
   "outputs": [],
   "source": [
    "# キーの追加順は維持される\n",
    "address_d[\"地域コード\"] = \"001\"\n",
    "for key in address_d:\n",
    "    print(key)"
   ]
  },
  {
   "cell_type": "markdown",
   "metadata": {},
   "source": [
    "### 書き換え可能，書き換え不能\n",
    "\n",
    "mutable(可変) : リスト型，辞書型，set型\n",
    "\n",
    "immutable(不変) : 文字列型，タプル型"
   ]
  },
  {
   "cell_type": "code",
   "execution_count": null,
   "metadata": {},
   "outputs": [],
   "source": [
    "# リスト(書き換え可能)\n",
    "income = [8320, 8670, 9062, 9307, 9709]"
   ]
  },
  {
   "cell_type": "code",
   "execution_count": null,
   "metadata": {},
   "outputs": [],
   "source": [
    "# インデックスを指定して値を修正\n",
    "income[0] = 8330"
   ]
  },
  {
   "cell_type": "code",
   "execution_count": null,
   "metadata": {},
   "outputs": [],
   "source": [
    "# タプル(書き換え不可能)\n",
    "income_t = (8320, 8670, 9062, 9307, 9709)"
   ]
  },
  {
   "cell_type": "code",
   "execution_count": null,
   "metadata": {},
   "outputs": [],
   "source": [
    "# インデックスを指定して値を修正しようとするとエラー\n",
    "income_t[0] = 8330"
   ]
  },
  {
   "cell_type": "code",
   "execution_count": null,
   "metadata": {},
   "outputs": [],
   "source": [
    "# 文字列も書き換えができない(エラーになる)\n",
    "a_str = \"abce\"\n",
    "a_str[3] = \"d\""
   ]
  },
  {
   "cell_type": "code",
   "execution_count": null,
   "metadata": {},
   "outputs": [],
   "source": [
    "# 書き換えたいときは，演算子を使う\n",
    "new_str = a_str[:3]+\"d\"\n",
    "new_str"
   ]
  },
  {
   "cell_type": "code",
   "execution_count": null,
   "metadata": {},
   "outputs": [],
   "source": [
    "# あるいはメソッドを使い\n",
    "# 新しい文字列オブジェクトを作る\n",
    "new_str = a_str.replace(\"e\", \"d\")\n",
    "new_str"
   ]
  },
  {
   "cell_type": "code",
   "execution_count": null,
   "metadata": {},
   "outputs": [],
   "source": [
    "# replace()メソッドだけでは値は書き換わらない\n",
    "# (書き換え不能なので)\n",
    "a_str.replace(\"e\", \"d\")\n",
    "a_str"
   ]
  },
  {
   "cell_type": "code",
   "execution_count": null,
   "metadata": {},
   "outputs": [],
   "source": [
    "# リストのように書き換え可能なデータ型では\n",
    "# メソッド呼び出しの結果オブジェクト自体が\n",
    "# 書き換わることがある(破壊的操作)\n",
    "income.sort()\n",
    "income"
   ]
  },
  {
   "cell_type": "code",
   "execution_count": null,
   "metadata": {},
   "outputs": [],
   "source": [
    "# 書き換え不能なデータ型は辞書のキーになる\n",
    "d2 = {\"name\": \"steve\"}"
   ]
  },
  {
   "cell_type": "code",
   "execution_count": null,
   "metadata": {},
   "outputs": [],
   "source": [
    "# 書き換え可能なデータ型は辞書のキーになれない\n",
    "d3 = {[\"100\", \"0014\"]: \"東京都千代田区永田町\"}"
   ]
  },
  {
   "cell_type": "code",
   "execution_count": null,
   "metadata": {},
   "outputs": [],
   "source": [
    "# タプルならOK\n",
    "d3 = {(\"100\", \"0014\"): \"東京都千代田区永田町\"}"
   ]
  },
  {
   "cell_type": "code",
   "execution_count": null,
   "metadata": {},
   "outputs": [],
   "source": [
    "# 書き換え不能なset型，frozenset型\n",
    "fs = frozenset([0, 1])"
   ]
  },
  {
   "cell_type": "code",
   "execution_count": null,
   "metadata": {},
   "outputs": [],
   "source": [
    "d4 = {fs, \"ON/OFF\"}"
   ]
  },
  {
   "cell_type": "code",
   "execution_count": null,
   "metadata": {},
   "outputs": [],
   "source": [
    "# set型は書き換え可能なので辞書のキーになれない\n",
    "s = {0, 1}\n",
    "d5 = {s, \"ON/OFF\"}"
   ]
  },
  {
   "cell_type": "code",
   "execution_count": null,
   "metadata": {},
   "outputs": [],
   "source": [
    "# オマケ トリプルクオーテーション\n",
    "s = \"\"\"三重の引用符を使って\n",
    "文字列リテラルを定義すると\n",
    "改行を含めることができます\n",
    "\"\"\"\n",
    "s"
   ]
  },
  {
   "cell_type": "code",
   "execution_count": null,
   "metadata": {},
   "outputs": [],
   "source": [
    "def some_function():\n",
    "    s = \"\"\"でも\n",
    "インデントは\n",
    "崩れます\"\"\"\n",
    "    print(s)\n",
    "\n",
    "some_function()"
   ]
  },
  {
   "cell_type": "markdown",
   "metadata": {},
   "source": [
    "※ スライドに戻ります"
   ]
  },
  {
   "cell_type": "code",
   "execution_count": null,
   "metadata": {},
   "outputs": [],
   "source": []
  }
 ],
 "metadata": {
  "kernelspec": {
   "display_name": "Python 3",
   "language": "python",
   "name": "python3"
  },
  "language_info": {
   "codemirror_mode": {
    "name": "ipython",
    "version": 3
   },
   "file_extension": ".py",
   "mimetype": "text/x-python",
   "name": "python",
   "nbconvert_exporter": "python",
   "pygments_lexer": "ipython3",
   "version": "3.7.3"
  }
 },
 "nbformat": 4,
 "nbformat_minor": 2
}
