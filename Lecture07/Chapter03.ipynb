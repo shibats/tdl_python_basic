{
 "cells": [
  {
   "cell_type": "markdown",
   "metadata": {},
   "source": [
    "# Lecture 7 Pythonともっと仲良くなる"
   ]
  },
  {
   "cell_type": "markdown",
   "metadata": {},
   "source": [
    "## 便利な関数\n",
    "\n",
    "len(), max()，min()などの他にもある，よく使われる組み込み関数"
   ]
  },
  {
   "cell_type": "markdown",
   "metadata": {},
   "source": [
    "### 演算用の関数"
   ]
  },
  {
   "cell_type": "code",
   "execution_count": null,
   "metadata": {},
   "outputs": [],
   "source": [
    "# 演算用の関数\n",
    "sum(income)  # 合算"
   ]
  },
  {
   "cell_type": "code",
   "execution_count": null,
   "metadata": {},
   "outputs": [],
   "source": [
    "# 平均値(算術平均)\n",
    "sum(income)/len(income)"
   ]
  },
  {
   "cell_type": "code",
   "execution_count": null,
   "metadata": {},
   "outputs": [],
   "source": [
    "# if文のor(いずれかの条件が成り立つなら真)\n",
    "l = [0, 0, 0, 1]\n",
    "if l[0] or l[1] or l[2] or l[3]:\n",
    "    print(\"リストには0以外の値が含まれています\")"
   ]
  },
  {
   "cell_type": "code",
   "execution_count": null,
   "metadata": {},
   "outputs": [],
   "source": [
    "any(l)  # "
   ]
  },
  {
   "cell_type": "code",
   "execution_count": null,
   "metadata": {},
   "outputs": [],
   "source": [
    "if any(l):\n",
    "    print(\"リストには0以外の値が含まれています\")"
   ]
  },
  {
   "cell_type": "code",
   "execution_count": null,
   "metadata": {},
   "outputs": [],
   "source": [
    "input(\"星座を教えてください:\")"
   ]
  },
  {
   "cell_type": "code",
   "execution_count": null,
   "metadata": {},
   "outputs": [],
   "source": [
    "sign = input(\"星座を教えてください:\")\n",
    "sign # 結果を確認"
   ]
  },
  {
   "cell_type": "markdown",
   "metadata": {},
   "source": [
    "### その他の便利な関数"
   ]
  },
  {
   "cell_type": "code",
   "execution_count": null,
   "metadata": {},
   "outputs": [],
   "source": [
    "# enumerate()関数 - ループのカウントを簡単に作れる\n",
    "income = [8320, 8670, 9062, 9307, 9709]  # 直近5年の売り上げ\n",
    "for idx, item in enumerate(income):\n",
    "    # idxに0からの順番が代入される\n",
    "    print(idx, item)"
   ]
  },
  {
   "cell_type": "code",
   "execution_count": null,
   "metadata": {},
   "outputs": [],
   "source": [
    "for idx, item in enumerate(income):\n",
    "    # idxに0からの順番が代入される\n",
    "    print(f\"{2016+idx}年の売り上げは{item}万円でした\")"
   ]
  },
  {
   "cell_type": "code",
   "execution_count": null,
   "metadata": {},
   "outputs": [],
   "source": [
    "# 文字列の順序を逆転する\n",
    "j_str = \"よのなかねかおかおかねかなのよ\"\n",
    "r_str = \"\"\n",
    "for i in j_str:\n",
    "    r_str = i+r_str\n",
    "\n",
    "r_str"
   ]
  },
  {
   "cell_type": "code",
   "execution_count": null,
   "metadata": {},
   "outputs": [],
   "source": [
    "# 回文の判定\n",
    "j_str == r_str"
   ]
  },
  {
   "cell_type": "code",
   "execution_count": null,
   "metadata": {},
   "outputs": [],
   "source": [
    "# reversed()関数 - シーケンスの逆転\n",
    "\n",
    "for i in reversed(j_str):\n",
    "    print(i, end=\"\")  # 改行無しで表示"
   ]
  },
  {
   "cell_type": "code",
   "execution_count": null,
   "metadata": {},
   "outputs": [],
   "source": [
    "r_str = ''.join(reversed(j_str))\n",
    "\n",
    "r_str"
   ]
  },
  {
   "cell_type": "code",
   "execution_count": null,
   "metadata": {},
   "outputs": [],
   "source": [
    "j_str == r_str"
   ]
  },
  {
   "cell_type": "code",
   "execution_count": null,
   "metadata": {},
   "outputs": [],
   "source": [
    "def check_palindrome(in_str):\n",
    "    # 回文かどうかを判定する\n",
    "    r_str = ''.join(reversed(in_str))\n",
    "    if in_str == r_str:\n",
    "        return True\n",
    "    return False\n"
   ]
  },
  {
   "cell_type": "code",
   "execution_count": null,
   "metadata": {},
   "outputs": [],
   "source": [
    "# よのなかねかおかおかねかなのよ, わたしまけましたわ\n",
    "# おかしがすきすきすがしかお\n",
    "check_palindrome(\"よのなかねかおかおかねかなのよ\")"
   ]
  },
  {
   "cell_type": "code",
   "execution_count": null,
   "metadata": {},
   "outputs": [],
   "source": [
    "j_str = input(\"回文を入力:\")\n",
    "if check_palindrome(j_str):\n",
    "    print(f\"「{j_str}」は回文です\")\n",
    "else:\n",
    "    print(f\"「{j_str}」は回文ではありません\")"
   ]
  },
  {
   "cell_type": "code",
   "execution_count": null,
   "metadata": {},
   "outputs": [],
   "source": [
    "# c.f.\n",
    "''.join(j_str[::-1])"
   ]
  },
  {
   "cell_type": "code",
   "execution_count": null,
   "metadata": {},
   "outputs": [],
   "source": [
    "# ソート\n",
    "income = [8320, 8670, 9062, 9307, 9709]\n",
    "income.sort()  # リストが書き換わる(書き換え可能なので)\n",
    "income"
   ]
  },
  {
   "cell_type": "code",
   "execution_count": null,
   "metadata": {},
   "outputs": [],
   "source": [
    "# sorted() ソート関数\n",
    "sorted(income)"
   ]
  },
  {
   "cell_type": "code",
   "execution_count": null,
   "metadata": {},
   "outputs": [],
   "source": [
    "# reversed()\n",
    "reversed(sorted(income))"
   ]
  },
  {
   "cell_type": "code",
   "execution_count": null,
   "metadata": {},
   "outputs": [],
   "source": [
    "[x for x in reversed(sorted(income))]"
   ]
  },
  {
   "cell_type": "code",
   "execution_count": null,
   "metadata": {},
   "outputs": [],
   "source": [
    "# c.f.\n",
    "income = [8320, 8670, 9062, 9307, 9709]\n",
    "income.sort()\n",
    "income.reverse()  # 順序の反転\n",
    "income"
   ]
  },
  {
   "cell_type": "code",
   "execution_count": null,
   "metadata": {},
   "outputs": [],
   "source": [
    "# 中央値\n",
    "sorted(income)[int(len(income)/2)]"
   ]
  },
  {
   "cell_type": "code",
   "execution_count": null,
   "metadata": {},
   "outputs": [],
   "source": []
  }
 ],
 "metadata": {
  "kernelspec": {
   "display_name": "Python 3",
   "language": "python",
   "name": "python3"
  },
  "language_info": {
   "codemirror_mode": {
    "name": "ipython",
    "version": 3
   },
   "file_extension": ".py",
   "mimetype": "text/x-python",
   "name": "python",
   "nbconvert_exporter": "python",
   "pygments_lexer": "ipython3",
   "version": "3.7.3"
  }
 },
 "nbformat": 4,
 "nbformat_minor": 2
}
