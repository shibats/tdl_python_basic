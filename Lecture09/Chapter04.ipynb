{
 "cells": [
  {
   "cell_type": "markdown",
   "metadata": {},
   "source": [
    "# Lecture 9 Excelの自動化"
   ]
  },
  {
   "cell_type": "markdown",
   "metadata": {},
   "source": [
    "## ダッシュボードを作る"
   ]
  },
  {
   "cell_type": "code",
   "execution_count": null,
   "metadata": {},
   "outputs": [],
   "source": [
    "# 圧縮ファイルをColab内に展開\n",
    "import requests\n",
    "from io import BytesIO\n",
    "from zipfile import ZipFile\n",
    "\n",
    "r = requests.get('https://github.com/shibats/tdl_python_basic/raw/main/Lecture09/ch04.zip')\n",
    "zip_buffer = BytesIO(r.content)\n",
    "\n",
    "with ZipFile(zip_buffer) as myzip:\n",
    "    myzip.extractall()"
   ]
  },
  {
   "cell_type": "code",
   "execution_count": null,
   "metadata": {},
   "outputs": [],
   "source": [
    "# エクセルをPythonで扱うための\n",
    "# ライブラリをインポート\n",
    "import openpyxl"
   ]
  },
  {
   "cell_type": "code",
   "execution_count": null,
   "metadata": {},
   "outputs": [],
   "source": [
    "# Dashboard用のExcelファイルを読み込む\n",
    "wb = openpyxl.load_workbook(\"ch04/dashboard.xlsx\")\n",
    "# シートのオブジェクトを得る\n",
    "ws = wb[\"Sheet1\"]"
   ]
  },
  {
   "cell_type": "code",
   "execution_count": null,
   "metadata": {},
   "outputs": [],
   "source": [
    "# pandasに読み込んで表示\n",
    "import pandas as pd\n",
    "df = pd.DataFrame(ws.values)\n",
    "df  # 表示"
   ]
  },
  {
   "cell_type": "code",
   "execution_count": null,
   "metadata": {},
   "outputs": [],
   "source": [
    "# Aさん用のファイルを読み込む\n",
    "wb_a = openpyxl.load_workbook(\"ch04/A.xlsx\")\n",
    "# シートのオブジェクトを得る\n",
    "ws_a = wb_a[\"Sheet1\"]\n",
    "# pandasに変換して表示\n",
    "pd.DataFrame(ws_a.values)"
   ]
  },
  {
   "cell_type": "code",
   "execution_count": null,
   "metadata": {},
   "outputs": [],
   "source": [
    "# ループでA〜Dさんのファイルを取得\n",
    "pds = []\n",
    "for name in [\"A\", \"B\", \"C\", \"D\"]:\n",
    "    filename = f\"ch04/{name}.xlsx\"\n",
    "    wb_tmp = openpyxl.load_workbook(filename)\n",
    "    ws_tmp = wb_tmp[\"Sheet1\"]\n",
    "    pds.append(pd.DataFrame(ws_tmp.values))"
   ]
  },
  {
   "cell_type": "code",
   "execution_count": null,
   "metadata": {},
   "outputs": [],
   "source": [
    "pds[0]  # Aさん"
   ]
  },
  {
   "cell_type": "code",
   "execution_count": null,
   "metadata": {},
   "outputs": [],
   "source": [
    "pds[1]  # Bさん"
   ]
  },
  {
   "cell_type": "code",
   "execution_count": null,
   "metadata": {},
   "outputs": [],
   "source": [
    "pds[2]  # Cさん"
   ]
  },
  {
   "cell_type": "code",
   "execution_count": null,
   "metadata": {},
   "outputs": [],
   "source": [
    "pds[3]  # Dさん"
   ]
  },
  {
   "cell_type": "code",
   "execution_count": null,
   "metadata": {},
   "outputs": [],
   "source": [
    "# 更新前\n",
    "pd.DataFrame(ws.values)"
   ]
  },
  {
   "cell_type": "code",
   "execution_count": null,
   "metadata": {},
   "outputs": [],
   "source": [
    "# Dashboard用のExcelファイルを読み込む\n",
    "wb = openpyxl.load_workbook(\"ch04/dashboard.xlsx\")\n",
    "# シートのオブジェクトを得る\n",
    "ws = wb[\"Sheet1\"]\n",
    "\n",
    "# 各シートの内容をダッシュボードに転記\n",
    "for idx, name in enumerate([\"A\", \"B\", \"C\", \"D\"]):\n",
    "    # 個人用シートを得る\n",
    "    filename = f\"ch04/{name}.xlsx\"\n",
    "    wb_tmp = openpyxl.load_workbook(filename)\n",
    "    ws_tmp = wb_tmp[\"Sheet1\"]\n",
    "    # 直近4日の達成数を転記\n",
    "    for idx2, cell in enumerate(ws_tmp[f\"B2:E2\"][0]):\n",
    "        # ダッシュボードの数値を更新\n",
    "        ws[name][idx2+2].value = cell.value\n",
    "    ws[name][7].value = ws_tmp[\"G2\"].value"
   ]
  },
  {
   "cell_type": "code",
   "execution_count": null,
   "metadata": {},
   "outputs": [],
   "source": [
    "# 更新後\n",
    "pd.DataFrame(ws.values)"
   ]
  },
  {
   "cell_type": "code",
   "execution_count": null,
   "metadata": {},
   "outputs": [],
   "source": [
    "# 保存\n",
    "wb.save(\"ch04/dashboard_new.xlsx\")"
   ]
  },
  {
   "cell_type": "code",
   "execution_count": null,
   "metadata": {},
   "outputs": [],
   "source": [
    "# 画像をダウンロードして表示\n",
    "!wget -O dashboard.png https://raw.githubusercontent.com/shibats/tdl_python_basic/main/Lecture09/dashboard.png"
   ]
  },
  {
   "cell_type": "code",
   "execution_count": null,
   "metadata": {},
   "outputs": [],
   "source": [
    "# 画像をダウンロードして表示\n",
    "!wget -O dashboard.png https://raw.githubusercontent.com/shibats/tdl_python_basic/main/Lecture09/dashboardb.png"
   ]
  },
  {
   "cell_type": "code",
   "execution_count": null,
   "metadata": {},
   "outputs": [],
   "source": [
    "from IPython.display import Image,display_png\n",
    "display_png(Image(\"dashboard.png\"))"
   ]
  },
  {
   "cell_type": "code",
   "execution_count": null,
   "metadata": {},
   "outputs": [],
   "source": []
  }
 ],
 "metadata": {
  "kernelspec": {
   "display_name": "Python 3",
   "language": "python",
   "name": "python3"
  },
  "language_info": {
   "codemirror_mode": {
    "name": "ipython",
    "version": 3
   },
   "file_extension": ".py",
   "mimetype": "text/x-python",
   "name": "python",
   "nbconvert_exporter": "python",
   "pygments_lexer": "ipython3",
   "version": "3.7.3"
  }
 },
 "nbformat": 4,
 "nbformat_minor": 2
}
