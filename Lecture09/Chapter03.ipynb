{
 "cells": [
  {
   "cell_type": "markdown",
   "metadata": {},
   "source": [
    "# Lecture 9 Excelの自動化"
   ]
  },
  {
   "cell_type": "markdown",
   "metadata": {},
   "source": [
    "## 外部サービスとの連携"
   ]
  },
  {
   "cell_type": "code",
   "execution_count": null,
   "metadata": {},
   "outputs": [],
   "source": [
    "# 圧縮ファイルをColab内に展開\n",
    "import requests\n",
    "from io import BytesIO\n",
    "from zipfile import ZipFile\n",
    "\n",
    "r = requests.get('https://github.com/shibats/tdl_python_basic/raw/main/Lecture09/ch03.zip')\n",
    "zip_buffer = BytesIO(r.content)\n",
    "\n",
    "with ZipFile(zip_buffer) as myzip:\n",
    "    myzip.extractall()"
   ]
  },
  {
   "cell_type": "code",
   "execution_count": null,
   "metadata": {},
   "outputs": [],
   "source": [
    "import pandas as pd\n",
    "\n",
    "# トヨタ(7203)の株価をpandasに取得\n",
    "dfs = pd.read_html(\"https://www.nikkei.com/nkd/company/history/dprice/?scode=7203&ba=1\")\n",
    "df = dfs[0]\n",
    "df[:5]  # 直近5件の結果を表示"
   ]
  },
  {
   "cell_type": "code",
   "execution_count": null,
   "metadata": {},
   "outputs": [],
   "source": [
    "# 直近の終値5件\n",
    "df[\"終値\"][:5]"
   ]
  },
  {
   "cell_type": "code",
   "execution_count": null,
   "metadata": {},
   "outputs": [],
   "source": [
    "companies = ((\"トヨタ\", 7203), (\"SONY\", 6758), (\"キーエンス\", 6861), (\"任天堂\", 7974))"
   ]
  },
  {
   "cell_type": "code",
   "execution_count": null,
   "metadata": {},
   "outputs": [],
   "source": [
    "# ライブラリをインポート\n",
    "import openpyxl"
   ]
  },
  {
   "cell_type": "code",
   "execution_count": null,
   "metadata": {},
   "outputs": [],
   "source": [
    "# ループで企業名とコードを表示\n",
    "for name, code in companies:\n",
    "    print(name, code)"
   ]
  },
  {
   "cell_type": "code",
   "execution_count": null,
   "metadata": {},
   "outputs": [],
   "source": [
    "# f文字列を使ってURLを作る\n",
    "for name, code in companies:\n",
    "    url = f\"https://www.nikkei.com/nkd/company/history/dprice/?scode={code}&ba=1\"\n",
    "    print(url)"
   ]
  },
  {
   "cell_type": "code",
   "execution_count": null,
   "metadata": {},
   "outputs": [],
   "source": [
    "def fill_stockprice(name, code, ws, col):\n",
    "    # 企業名，コード，ワークシートオブジェクトと\n",
    "    # 列番号を受け取り，株価を埋める関数\n",
    "\n",
    "    # 株価を読み込む\n",
    "    url = f\"https://www.nikkei.com/nkd/company/history/dprice/?scode={code}&ba=1\"\n",
    "    dfs = pd.read_html(url)\n",
    "    df = dfs[0]\n",
    "    # 直近20件のデータで列を埋める\n",
    "    for i in range(20):\n",
    "        ws[i+2][col].value = df[\"終値\"][i]"
   ]
  },
  {
   "cell_type": "code",
   "execution_count": null,
   "metadata": {},
   "outputs": [],
   "source": [
    "# シートをオブジェクトとして読み込む\n",
    "wb = openpyxl.load_workbook(\"ch03/stock_price.xlsx\")\n",
    "ws = wb.worksheets[0]"
   ]
  },
  {
   "cell_type": "code",
   "execution_count": null,
   "metadata": {},
   "outputs": [],
   "source": [
    "# 画像をダウンロードして表示\n",
    "!wget -O stock_price1.png https://raw.githubusercontent.com/shibats/tdl_python_basic/main/Lecture09/stock_price1.png\n",
    "from IPython.display import Image,display_png\n",
    "display_png(Image(\"stock_price1.png\"))"
   ]
  },
  {
   "cell_type": "code",
   "execution_count": null,
   "metadata": {},
   "outputs": [],
   "source": [
    "# 企業のデータでループ\n",
    "idx = 0\n",
    "for name, code in companies:\n",
    "    # 列にデータを埋める\n",
    "    fill_stockprice(name, code, ws, idx)\n",
    "    idx += 1"
   ]
  },
  {
   "cell_type": "code",
   "execution_count": null,
   "metadata": {},
   "outputs": [],
   "source": [
    "wb.save(\"ch03/stock_price_new.xlsx\")"
   ]
  },
  {
   "cell_type": "code",
   "execution_count": null,
   "metadata": {},
   "outputs": [],
   "source": [
    "# 画像をダウンロードして表示\n",
    "!wget -O stock_price2.png https://raw.githubusercontent.com/shibats/tdl_python_basic/main/Lecture09/stock_price2.png\n",
    "from IPython.display import Image,display_png\n",
    "display_png(Image(\"stock_price2.png\"))"
   ]
  },
  {
   "cell_type": "markdown",
   "metadata": {},
   "source": [
    "※スライドに戻ります"
   ]
  },
  {
   "cell_type": "code",
   "execution_count": null,
   "metadata": {},
   "outputs": [],
   "source": []
  }
 ],
 "metadata": {
  "kernelspec": {
   "display_name": "Python 3",
   "language": "python",
   "name": "python3"
  },
  "language_info": {
   "codemirror_mode": {
    "name": "ipython",
    "version": 3
   },
   "file_extension": ".py",
   "mimetype": "text/x-python",
   "name": "python",
   "nbconvert_exporter": "python",
   "pygments_lexer": "ipython3",
   "version": "3.7.3"
  }
 },
 "nbformat": 4,
 "nbformat_minor": 2
}
