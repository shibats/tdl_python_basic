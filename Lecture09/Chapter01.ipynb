{
 "cells": [
  {
   "cell_type": "markdown",
   "metadata": {},
   "source": [
    "# Excelの自動化"
   ]
  },
  {
   "cell_type": "markdown",
   "metadata": {},
   "source": [
    "## ExcelファイルをPythonで扱う"
   ]
  },
  {
   "cell_type": "code",
   "execution_count": null,
   "metadata": {},
   "outputs": [],
   "source": [
    "# 圧縮ファイルをColab内に展開\n",
    "import requests\n",
    "from io import BytesIO\n",
    "from zipfile import ZipFile\n",
    "\n",
    "r = requests.get('https://github.com/shibats/tdl_python_basic/raw/main/Lecture09/profits.xlsx.zip')\n",
    "zip_buffer = BytesIO(r.content)\n",
    "\n",
    "with ZipFile(zip_buffer) as myzip:\n",
    "    myzip.extractall()"
   ]
  },
  {
   "cell_type": "code",
   "execution_count": null,
   "metadata": {},
   "outputs": [],
   "source": [
    "# エクセルをPythonで扱うための\n",
    "# ライブラリをインポート\n",
    "import openpyxl"
   ]
  },
  {
   "cell_type": "code",
   "execution_count": null,
   "metadata": {},
   "outputs": [],
   "source": [
    "# Excelファイルを読み込む\n",
    "wb = openpyxl.load_workbook(\"profits.xlsx\")\n",
    "# Excelファイルのオブジェクトを得る"
   ]
  },
  {
   "cell_type": "code",
   "execution_count": null,
   "metadata": {},
   "outputs": [],
   "source": [
    "# シート名でworksheetにアクセス\n",
    "wb[\"Sheet1\"]"
   ]
  },
  {
   "cell_type": "code",
   "execution_count": null,
   "metadata": {},
   "outputs": [],
   "source": [
    "# インデックスを指定\n",
    "wb.worksheets[0]"
   ]
  },
  {
   "cell_type": "code",
   "execution_count": null,
   "metadata": {},
   "outputs": [],
   "source": [
    "# ワークシートオブジェクトを取得\n",
    "ws = wb[\"Sheet1\"]\n",
    "# セルアドレス(A1のような)でセルにアクセス\n",
    "ws[\"A1\"]"
   ]
  },
  {
   "cell_type": "code",
   "execution_count": null,
   "metadata": {},
   "outputs": [],
   "source": [
    "# インデックスでセルにアクセス\n",
    "# 1から始まる(0ではない)\n",
    "ws[1][1]"
   ]
  },
  {
   "cell_type": "code",
   "execution_count": null,
   "metadata": {},
   "outputs": [],
   "source": [
    "# アトリビュートを使って値を取得\n",
    "ws[\"A1\"].value"
   ]
  },
  {
   "cell_type": "code",
   "execution_count": null,
   "metadata": {},
   "outputs": [],
   "source": [
    "ws[2][1].value"
   ]
  },
  {
   "cell_type": "code",
   "execution_count": null,
   "metadata": {},
   "outputs": [],
   "source": [
    "# ループで列を取り出す\n",
    "for v in ws[\"A\"]:\n",
    "    print(v.value)"
   ]
  },
  {
   "cell_type": "code",
   "execution_count": null,
   "metadata": {},
   "outputs": [],
   "source": [
    "# ループで列を取り出す(数式の列)\n",
    "for v in ws[\"D\"]:\n",
    "    print(v.value)"
   ]
  },
  {
   "cell_type": "code",
   "execution_count": null,
   "metadata": {},
   "outputs": [],
   "source": [
    "# 数式を展開して読み込む\n",
    "wb = openpyxl.load_workbook(\"profits.xlsx\", data_only=True)\n",
    "ws = wb[\"Sheet1\"]"
   ]
  },
  {
   "cell_type": "code",
   "execution_count": null,
   "metadata": {},
   "outputs": [],
   "source": [
    "# ループで列を取り出す(数式の列)\n",
    "for v in ws[\"D\"]:\n",
    "    print(v.value)"
   ]
  },
  {
   "cell_type": "code",
   "execution_count": null,
   "metadata": {},
   "outputs": [],
   "source": [
    "# 合計を末尾に追加\n",
    "s = 0 # 合計の変数を初期化\n",
    "for v in ws[\"B\"][1:6]:\n",
    "    s += v.value\n",
    "s  # 結果を表示"
   ]
  },
  {
   "cell_type": "code",
   "execution_count": null,
   "metadata": {},
   "outputs": [],
   "source": [
    "# Bの最後に合計を\n",
    "ws[\"B7\"].value = s"
   ]
  },
  {
   "cell_type": "code",
   "execution_count": null,
   "metadata": {},
   "outputs": [],
   "source": [
    "s = 0 # 合計の変数を初期化\n",
    "for v in ws[\"C\"][1:6]:\n",
    "    s += v.value\n",
    "s  # 結果を表示\n",
    "# Cの最後に合計を\n",
    "ws[\"C7\"].value = s"
   ]
  },
  {
   "cell_type": "code",
   "execution_count": null,
   "metadata": {},
   "outputs": [],
   "source": [
    "# 変更したファイルを保存\n",
    "wb.save(\"profits_new.xlsx\")"
   ]
  },
  {
   "cell_type": "code",
   "execution_count": null,
   "metadata": {},
   "outputs": [],
   "source": [
    "# 画像をダウンロードして表示\n",
    "!wget -O ch01_end_screen.png https://raw.githubusercontent.com/shibats/tdl_python_basic/main/Lecture09/ch01_end_screen.png"
   ]
  },
  {
   "cell_type": "code",
   "execution_count": null,
   "metadata": {},
   "outputs": [],
   "source": [
    "from IPython.display import Image,display_png\n",
    "display_png(Image(\"ch01_end_screen.png\"))"
   ]
  },
  {
   "cell_type": "markdown",
   "metadata": {},
   "source": [
    "※スライドに戻ります"
   ]
  },
  {
   "cell_type": "code",
   "execution_count": null,
   "metadata": {},
   "outputs": [],
   "source": []
  }
 ],
 "metadata": {
  "kernelspec": {
   "display_name": "Python 3",
   "language": "python",
   "name": "python3"
  },
  "language_info": {
   "codemirror_mode": {
    "name": "ipython",
    "version": 3
   },
   "file_extension": ".py",
   "mimetype": "text/x-python",
   "name": "python",
   "nbconvert_exporter": "python",
   "pygments_lexer": "ipython3",
   "version": "3.7.3"
  }
 },
 "nbformat": 4,
 "nbformat_minor": 2
}
