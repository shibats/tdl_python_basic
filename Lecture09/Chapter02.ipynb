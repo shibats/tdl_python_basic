{
 "cells": [
  {
   "cell_type": "markdown",
   "metadata": {},
   "source": [
    "# Lecture 9 Excelの自動化"
   ]
  },
  {
   "cell_type": "markdown",
   "metadata": {},
   "source": [
    "## 複数ファイルの操作"
   ]
  },
  {
   "cell_type": "code",
   "execution_count": 16,
   "metadata": {},
   "outputs": [],
   "source": [
    "# 圧縮ファイルをColab内に展開\n",
    "import requests\n",
    "from io import BytesIO\n",
    "from zipfile import ZipFile\n",
    "\n",
    "r = requests.get('https://github.com/shibats/tdl_python_basic/raw/main/Lecture09/ch02.zip')\n",
    "zip_buffer = BytesIO(r.content)\n",
    "\n",
    "with ZipFile(zip_buffer) as myzip:\n",
    "    myzip.extractall()"
   ]
  },
  {
   "cell_type": "code",
   "execution_count": 17,
   "metadata": {},
   "outputs": [],
   "source": [
    "# ライブラリをインポート\n",
    "import openpyxl"
   ]
  },
  {
   "cell_type": "code",
   "execution_count": 18,
   "metadata": {},
   "outputs": [],
   "source": [
    "# シートをオブジェクトとして読み込む\n",
    "wb = openpyxl.load_workbook(\"ch02/company_data1.xlsx\")\n",
    "ws = wb.worksheets[0]"
   ]
  },
  {
   "cell_type": "code",
   "execution_count": 19,
   "metadata": {},
   "outputs": [
    {
     "data": {
      "text/html": [
       "<div>\n",
       "<style scoped>\n",
       "    .dataframe tbody tr th:only-of-type {\n",
       "        vertical-align: middle;\n",
       "    }\n",
       "\n",
       "    .dataframe tbody tr th {\n",
       "        vertical-align: top;\n",
       "    }\n",
       "\n",
       "    .dataframe thead th {\n",
       "        text-align: right;\n",
       "    }\n",
       "</style>\n",
       "<table border=\"1\" class=\"dataframe\">\n",
       "  <thead>\n",
       "    <tr style=\"text-align: right;\">\n",
       "      <th></th>\n",
       "      <th>0</th>\n",
       "      <th>1</th>\n",
       "      <th>2</th>\n",
       "      <th>3</th>\n",
       "      <th>4</th>\n",
       "    </tr>\n",
       "  </thead>\n",
       "  <tbody>\n",
       "    <tr>\n",
       "      <th>0</th>\n",
       "      <td>会社名</td>\n",
       "      <td>A社</td>\n",
       "      <td>B社</td>\n",
       "      <td>C社</td>\n",
       "      <td>None</td>\n",
       "    </tr>\n",
       "    <tr>\n",
       "      <th>1</th>\n",
       "      <td>売り上げ</td>\n",
       "      <td>2019</td>\n",
       "      <td>2210</td>\n",
       "      <td>524</td>\n",
       "      <td>None</td>\n",
       "    </tr>\n",
       "    <tr>\n",
       "      <th>2</th>\n",
       "      <td>設立年</td>\n",
       "      <td>2010</td>\n",
       "      <td>2001</td>\n",
       "      <td>1968</td>\n",
       "      <td>None</td>\n",
       "    </tr>\n",
       "    <tr>\n",
       "      <th>3</th>\n",
       "      <td>所在地</td>\n",
       "      <td>東京都</td>\n",
       "      <td>大阪府</td>\n",
       "      <td>北海道</td>\n",
       "      <td>None</td>\n",
       "    </tr>\n",
       "    <tr>\n",
       "      <th>4</th>\n",
       "      <td>社員数</td>\n",
       "      <td>124</td>\n",
       "      <td>200</td>\n",
       "      <td>30</td>\n",
       "      <td>None</td>\n",
       "    </tr>\n",
       "    <tr>\n",
       "      <th>5</th>\n",
       "      <td>None</td>\n",
       "      <td>None</td>\n",
       "      <td>None</td>\n",
       "      <td>None</td>\n",
       "      <td>None</td>\n",
       "    </tr>\n",
       "  </tbody>\n",
       "</table>\n",
       "</div>"
      ],
      "text/plain": [
       "      0     1     2     3     4\n",
       "0   会社名    A社    B社    C社  None\n",
       "1  売り上げ  2019  2210   524  None\n",
       "2   設立年  2010  2001  1968  None\n",
       "3   所在地   東京都   大阪府   北海道  None\n",
       "4   社員数   124   200    30  None\n",
       "5  None  None  None  None  None"
      ]
     },
     "execution_count": 19,
     "metadata": {},
     "output_type": "execute_result"
    }
   ],
   "source": [
    "# pandasに読み込んで表示\n",
    "import pandas as pd\n",
    "df = pd.DataFrame(ws.values)\n",
    "df  # 表示"
   ]
  },
  {
   "cell_type": "code",
   "execution_count": 20,
   "metadata": {},
   "outputs": [
    {
     "name": "stdout",
     "output_type": "stream",
     "text": [
      "0 0 会社名\n",
      "1 0 A社\n",
      "2 0 B社\n",
      "3 0 C社\n",
      "4 0 None\n",
      "0 1 売り上げ\n",
      "1 1 2019\n",
      "2 1 2210\n",
      "3 1 524\n",
      "4 1 None\n",
      "0 2 設立年\n",
      "1 2 2010\n",
      "2 2 2001\n",
      "3 2 1968\n",
      "4 2 None\n",
      "0 3 所在地\n",
      "1 3 東京都\n",
      "2 3 大阪府\n",
      "3 3 北海道\n",
      "4 3 None\n",
      "0 4 社員数\n",
      "1 4 124\n",
      "2 4 200\n",
      "3 4 30\n",
      "4 4 None\n",
      "0 5 None\n",
      "1 5 None\n",
      "2 5 None\n",
      "3 5 None\n",
      "4 5 None\n"
     ]
    }
   ],
   "source": [
    "# セル全体を二重のループで取り出し表示\n",
    "for y, cy in enumerate(ws):\n",
    "    for x, cx in enumerate(cy):\n",
    "        print(x, y, cx.value)"
   ]
  },
  {
   "cell_type": "code",
   "execution_count": 21,
   "metadata": {},
   "outputs": [],
   "source": [
    "# シートを追加する\n",
    "ws2 = wb.create_sheet(title=\"Sheet2\")\n",
    "# ロウとカラムを増やす\n",
    "ws2.insert_rows(1, ws.max_row)\n",
    "ws2.insert_cols(1, ws.max_column)\n",
    "# 行と列を入れ替える\n",
    "for y, cy in enumerate(ws):\n",
    "    for x, cx in enumerate(cy):\n",
    "        ws2[x+1][y].value = cx.value\n"
   ]
  },
  {
   "cell_type": "code",
   "execution_count": 22,
   "metadata": {},
   "outputs": [],
   "source": [
    "# 新しいファイルに保存\n",
    "# wb.save(\"ch02/company_data_new.xlsx\")"
   ]
  },
  {
   "cell_type": "code",
   "execution_count": 23,
   "metadata": {},
   "outputs": [
    {
     "data": {
      "text/html": [
       "<div>\n",
       "<style scoped>\n",
       "    .dataframe tbody tr th:only-of-type {\n",
       "        vertical-align: middle;\n",
       "    }\n",
       "\n",
       "    .dataframe tbody tr th {\n",
       "        vertical-align: top;\n",
       "    }\n",
       "\n",
       "    .dataframe thead th {\n",
       "        text-align: right;\n",
       "    }\n",
       "</style>\n",
       "<table border=\"1\" class=\"dataframe\">\n",
       "  <thead>\n",
       "    <tr style=\"text-align: right;\">\n",
       "      <th></th>\n",
       "      <th>0</th>\n",
       "      <th>1</th>\n",
       "      <th>2</th>\n",
       "      <th>3</th>\n",
       "      <th>4</th>\n",
       "      <th>5</th>\n",
       "    </tr>\n",
       "  </thead>\n",
       "  <tbody>\n",
       "    <tr>\n",
       "      <th>0</th>\n",
       "      <td>会社名</td>\n",
       "      <td>売り上げ</td>\n",
       "      <td>設立年</td>\n",
       "      <td>所在地</td>\n",
       "      <td>社員数</td>\n",
       "      <td>None</td>\n",
       "    </tr>\n",
       "    <tr>\n",
       "      <th>1</th>\n",
       "      <td>A社</td>\n",
       "      <td>2019</td>\n",
       "      <td>2010</td>\n",
       "      <td>東京都</td>\n",
       "      <td>124</td>\n",
       "      <td>None</td>\n",
       "    </tr>\n",
       "    <tr>\n",
       "      <th>2</th>\n",
       "      <td>B社</td>\n",
       "      <td>2210</td>\n",
       "      <td>2001</td>\n",
       "      <td>大阪府</td>\n",
       "      <td>200</td>\n",
       "      <td>None</td>\n",
       "    </tr>\n",
       "    <tr>\n",
       "      <th>3</th>\n",
       "      <td>C社</td>\n",
       "      <td>524</td>\n",
       "      <td>1968</td>\n",
       "      <td>北海道</td>\n",
       "      <td>30</td>\n",
       "      <td>None</td>\n",
       "    </tr>\n",
       "    <tr>\n",
       "      <th>4</th>\n",
       "      <td>None</td>\n",
       "      <td>None</td>\n",
       "      <td>None</td>\n",
       "      <td>None</td>\n",
       "      <td>None</td>\n",
       "      <td>None</td>\n",
       "    </tr>\n",
       "    <tr>\n",
       "      <th>5</th>\n",
       "      <td>None</td>\n",
       "      <td>None</td>\n",
       "      <td>None</td>\n",
       "      <td>None</td>\n",
       "      <td>None</td>\n",
       "      <td>None</td>\n",
       "    </tr>\n",
       "    <tr>\n",
       "      <th>6</th>\n",
       "      <td>None</td>\n",
       "      <td>None</td>\n",
       "      <td>None</td>\n",
       "      <td>None</td>\n",
       "      <td>None</td>\n",
       "      <td>None</td>\n",
       "    </tr>\n",
       "  </tbody>\n",
       "</table>\n",
       "</div>"
      ],
      "text/plain": [
       "      0     1     2     3     4     5\n",
       "0   会社名  売り上げ   設立年   所在地   社員数  None\n",
       "1    A社  2019  2010   東京都   124  None\n",
       "2    B社  2210  2001   大阪府   200  None\n",
       "3    C社   524  1968   北海道    30  None\n",
       "4  None  None  None  None  None  None\n",
       "5  None  None  None  None  None  None\n",
       "6  None  None  None  None  None  None"
      ]
     },
     "execution_count": 23,
     "metadata": {},
     "output_type": "execute_result"
    }
   ],
   "source": [
    "df2 = pd.DataFrame(ws2.values)\n",
    "df2  # 表示"
   ]
  },
  {
   "cell_type": "markdown",
   "metadata": {},
   "source": [
    "※ スライドに戻ります"
   ]
  },
  {
   "cell_type": "code",
   "execution_count": 24,
   "metadata": {},
   "outputs": [
    {
     "name": "stdout",
     "output_type": "stream",
     "text": [
      "company_data1.xlsx      company_data3.xlsx      company_data4_new.xlsx\r\n",
      "company_data2.xlsx      company_data4.xlsx\r\n"
     ]
    }
   ],
   "source": [
    "# フォルダの中身を表示\n",
    "%ls ch02"
   ]
  },
  {
   "cell_type": "code",
   "execution_count": 25,
   "metadata": {},
   "outputs": [
    {
     "name": "stdout",
     "output_type": "stream",
     "text": [
      "ch02/.DS_Store\n",
      "ch02/company_data4.xlsx\n",
      "ch02/company_data3.xlsx\n",
      "ch02/company_data2.xlsx\n",
      "ch02/company_data4_new.xlsx\n",
      "ch02/company_data1.xlsx\n"
     ]
    }
   ],
   "source": [
    "# ファイルを操作するライブラリをインポート\n",
    "import pathlib\n",
    "# オブジェクトを生成\n",
    "\n",
    "path = pathlib.Path(\"ch02\")\n",
    "# フォルダ内のファイルをループで取得\n",
    "for f in path.iterdir():\n",
    "    print(f)"
   ]
  },
  {
   "cell_type": "code",
   "execution_count": 26,
   "metadata": {},
   "outputs": [],
   "source": [
    "def swap_colrow(filename):\n",
    "    # ファイル名を指定して\n",
    "    # Excelシートの列と行を入れ替える\n",
    "    wb = openpyxl.load_workbook(filename)\n",
    "    ws = wb.worksheets[0]\n",
    "    ws2 = wb.create_sheet(title=\"Sheet2\")\n",
    "    # カラムを増やす\n",
    "    ws2.insert_rows(1, ws.max_row)\n",
    "    ws2.insert_cols(1, ws.max_column)\n",
    "    # 行と列を入れ替える\n",
    "    for y, cy in enumerate(ws):\n",
    "        for x, cx in enumerate(cy):\n",
    "            ws2[x+1][y].value = cx.value\n",
    "    # 新規ファイルに保存する\n",
    "    newfn = filename.replace(\".xlsx\", \"_new.xlsx\")\n",
    "    wb.save(newfn)"
   ]
  },
  {
   "cell_type": "code",
   "execution_count": 27,
   "metadata": {},
   "outputs": [],
   "source": [
    "# 関数を呼び出してみる\n",
    "swap_colrow(\"ch02/company_data4.xlsx\")"
   ]
  },
  {
   "cell_type": "code",
   "execution_count": 28,
   "metadata": {},
   "outputs": [
    {
     "data": {
      "text/html": [
       "<div>\n",
       "<style scoped>\n",
       "    .dataframe tbody tr th:only-of-type {\n",
       "        vertical-align: middle;\n",
       "    }\n",
       "\n",
       "    .dataframe tbody tr th {\n",
       "        vertical-align: top;\n",
       "    }\n",
       "\n",
       "    .dataframe thead th {\n",
       "        text-align: right;\n",
       "    }\n",
       "</style>\n",
       "<table border=\"1\" class=\"dataframe\">\n",
       "  <thead>\n",
       "    <tr style=\"text-align: right;\">\n",
       "      <th></th>\n",
       "      <th>0</th>\n",
       "      <th>1</th>\n",
       "      <th>2</th>\n",
       "      <th>3</th>\n",
       "      <th>4</th>\n",
       "    </tr>\n",
       "  </thead>\n",
       "  <tbody>\n",
       "    <tr>\n",
       "      <th>0</th>\n",
       "      <td>会社名</td>\n",
       "      <td>A社</td>\n",
       "      <td>B社</td>\n",
       "      <td>C社</td>\n",
       "      <td>None</td>\n",
       "    </tr>\n",
       "    <tr>\n",
       "      <th>1</th>\n",
       "      <td>売り上げ</td>\n",
       "      <td>2019</td>\n",
       "      <td>2210</td>\n",
       "      <td>524</td>\n",
       "      <td>None</td>\n",
       "    </tr>\n",
       "    <tr>\n",
       "      <th>2</th>\n",
       "      <td>設立年</td>\n",
       "      <td>2010</td>\n",
       "      <td>2001</td>\n",
       "      <td>1968</td>\n",
       "      <td>None</td>\n",
       "    </tr>\n",
       "    <tr>\n",
       "      <th>3</th>\n",
       "      <td>所在地</td>\n",
       "      <td>東京都</td>\n",
       "      <td>大阪府</td>\n",
       "      <td>北海道</td>\n",
       "      <td>None</td>\n",
       "    </tr>\n",
       "    <tr>\n",
       "      <th>4</th>\n",
       "      <td>社員数</td>\n",
       "      <td>124</td>\n",
       "      <td>200</td>\n",
       "      <td>30</td>\n",
       "      <td>None</td>\n",
       "    </tr>\n",
       "    <tr>\n",
       "      <th>5</th>\n",
       "      <td>None</td>\n",
       "      <td>None</td>\n",
       "      <td>None</td>\n",
       "      <td>None</td>\n",
       "      <td>None</td>\n",
       "    </tr>\n",
       "  </tbody>\n",
       "</table>\n",
       "</div>"
      ],
      "text/plain": [
       "      0     1     2     3     4\n",
       "0   会社名    A社    B社    C社  None\n",
       "1  売り上げ  2019  2210   524  None\n",
       "2   設立年  2010  2001  1968  None\n",
       "3   所在地   東京都   大阪府   北海道  None\n",
       "4   社員数   124   200    30  None\n",
       "5  None  None  None  None  None"
      ]
     },
     "execution_count": 28,
     "metadata": {},
     "output_type": "execute_result"
    }
   ],
   "source": [
    "import pandas as pd\n",
    "wb = openpyxl.load_workbook(\"ch02/company_data4_new.xlsx\")\n",
    "ws = wb.worksheets[0]\n",
    "df = pd.DataFrame(ws.values)\n",
    "df  # 表示"
   ]
  },
  {
   "cell_type": "code",
   "execution_count": 29,
   "metadata": {},
   "outputs": [
    {
     "data": {
      "text/html": [
       "<div>\n",
       "<style scoped>\n",
       "    .dataframe tbody tr th:only-of-type {\n",
       "        vertical-align: middle;\n",
       "    }\n",
       "\n",
       "    .dataframe tbody tr th {\n",
       "        vertical-align: top;\n",
       "    }\n",
       "\n",
       "    .dataframe thead th {\n",
       "        text-align: right;\n",
       "    }\n",
       "</style>\n",
       "<table border=\"1\" class=\"dataframe\">\n",
       "  <thead>\n",
       "    <tr style=\"text-align: right;\">\n",
       "      <th></th>\n",
       "      <th>0</th>\n",
       "      <th>1</th>\n",
       "      <th>2</th>\n",
       "      <th>3</th>\n",
       "      <th>4</th>\n",
       "    </tr>\n",
       "  </thead>\n",
       "  <tbody>\n",
       "    <tr>\n",
       "      <th>0</th>\n",
       "      <td>会社名</td>\n",
       "      <td>売り上げ</td>\n",
       "      <td>設立年</td>\n",
       "      <td>所在地</td>\n",
       "      <td>社員数</td>\n",
       "    </tr>\n",
       "    <tr>\n",
       "      <th>1</th>\n",
       "      <td>A社</td>\n",
       "      <td>2019</td>\n",
       "      <td>2010</td>\n",
       "      <td>東京都</td>\n",
       "      <td>124</td>\n",
       "    </tr>\n",
       "    <tr>\n",
       "      <th>2</th>\n",
       "      <td>B社</td>\n",
       "      <td>2210</td>\n",
       "      <td>2001</td>\n",
       "      <td>大阪府</td>\n",
       "      <td>200</td>\n",
       "    </tr>\n",
       "    <tr>\n",
       "      <th>3</th>\n",
       "      <td>C社</td>\n",
       "      <td>524</td>\n",
       "      <td>1968</td>\n",
       "      <td>北海道</td>\n",
       "      <td>30</td>\n",
       "    </tr>\n",
       "  </tbody>\n",
       "</table>\n",
       "</div>"
      ],
      "text/plain": [
       "     0     1     2    3    4\n",
       "0  会社名  売り上げ   設立年  所在地  社員数\n",
       "1   A社  2019  2010  東京都  124\n",
       "2   B社  2210  2001  大阪府  200\n",
       "3   C社   524  1968  北海道   30"
      ]
     },
     "execution_count": 29,
     "metadata": {},
     "output_type": "execute_result"
    }
   ],
   "source": [
    "ws = wb.worksheets[1]\n",
    "df = pd.DataFrame(ws.values)\n",
    "df  # 表示"
   ]
  },
  {
   "cell_type": "code",
   "execution_count": 30,
   "metadata": {},
   "outputs": [
    {
     "name": "stdout",
     "output_type": "stream",
     "text": [
      "company_data1.xlsx      company_data3.xlsx      company_data4_new.xlsx\r\n",
      "company_data2.xlsx      company_data4.xlsx\r\n"
     ]
    }
   ],
   "source": [
    "%ls ch02"
   ]
  },
  {
   "cell_type": "code",
   "execution_count": 34,
   "metadata": {},
   "outputs": [
    {
     "ename": "TypeError",
     "evalue": "replace() takes 2 positional arguments but 3 were given",
     "output_type": "error",
     "traceback": [
      "\u001b[0;31m---------------------------------------------------------------------------\u001b[0m",
      "\u001b[0;31mTypeError\u001b[0m                                 Traceback (most recent call last)",
      "\u001b[0;32m<ipython-input-34-89c80bdc3b83>\u001b[0m in \u001b[0;36m<module>\u001b[0;34m\u001b[0m\n\u001b[1;32m      4\u001b[0m \u001b[0;32mfor\u001b[0m \u001b[0mf\u001b[0m \u001b[0;32min\u001b[0m \u001b[0mpath\u001b[0m\u001b[0;34m.\u001b[0m\u001b[0miterdir\u001b[0m\u001b[0;34m(\u001b[0m\u001b[0;34m)\u001b[0m\u001b[0;34m:\u001b[0m\u001b[0;34m\u001b[0m\u001b[0;34m\u001b[0m\u001b[0m\n\u001b[1;32m      5\u001b[0m     \u001b[0;32mif\u001b[0m \u001b[0;34m\".xlsx\"\u001b[0m \u001b[0;32min\u001b[0m \u001b[0mstr\u001b[0m\u001b[0;34m(\u001b[0m\u001b[0mf\u001b[0m\u001b[0;34m)\u001b[0m\u001b[0;34m:\u001b[0m\u001b[0;34m\u001b[0m\u001b[0;34m\u001b[0m\u001b[0m\n\u001b[0;32m----> 6\u001b[0;31m         \u001b[0mswap_colrow\u001b[0m\u001b[0;34m(\u001b[0m\u001b[0mf\u001b[0m\u001b[0;34m)\u001b[0m\u001b[0;34m\u001b[0m\u001b[0;34m\u001b[0m\u001b[0m\n\u001b[0m",
      "\u001b[0;32m<ipython-input-26-19d5eb6eb82c>\u001b[0m in \u001b[0;36mswap_colrow\u001b[0;34m(filename)\u001b[0m\n\u001b[1;32m     13\u001b[0m             \u001b[0mws2\u001b[0m\u001b[0;34m[\u001b[0m\u001b[0mx\u001b[0m\u001b[0;34m+\u001b[0m\u001b[0;36m1\u001b[0m\u001b[0;34m]\u001b[0m\u001b[0;34m[\u001b[0m\u001b[0my\u001b[0m\u001b[0;34m]\u001b[0m\u001b[0;34m.\u001b[0m\u001b[0mvalue\u001b[0m \u001b[0;34m=\u001b[0m \u001b[0mcx\u001b[0m\u001b[0;34m.\u001b[0m\u001b[0mvalue\u001b[0m\u001b[0;34m\u001b[0m\u001b[0;34m\u001b[0m\u001b[0m\n\u001b[1;32m     14\u001b[0m     \u001b[0;31m# 新規ファイルに保存する\u001b[0m\u001b[0;34m\u001b[0m\u001b[0;34m\u001b[0m\u001b[0;34m\u001b[0m\u001b[0m\n\u001b[0;32m---> 15\u001b[0;31m     \u001b[0mnewfn\u001b[0m \u001b[0;34m=\u001b[0m \u001b[0mfilename\u001b[0m\u001b[0;34m.\u001b[0m\u001b[0mreplace\u001b[0m\u001b[0;34m(\u001b[0m\u001b[0;34m\".xlsx\"\u001b[0m\u001b[0;34m,\u001b[0m \u001b[0;34m\"_new.xlsx\"\u001b[0m\u001b[0;34m)\u001b[0m\u001b[0;34m\u001b[0m\u001b[0;34m\u001b[0m\u001b[0m\n\u001b[0m\u001b[1;32m     16\u001b[0m     \u001b[0mwb\u001b[0m\u001b[0;34m.\u001b[0m\u001b[0msave\u001b[0m\u001b[0;34m(\u001b[0m\u001b[0mnewfn\u001b[0m\u001b[0;34m)\u001b[0m\u001b[0;34m\u001b[0m\u001b[0;34m\u001b[0m\u001b[0m\n",
      "\u001b[0;31mTypeError\u001b[0m: replace() takes 2 positional arguments but 3 were given"
     ]
    }
   ],
   "source": [
    "# ループで一気に処理\n",
    "path = pathlib.Path(\"ch02\")\n",
    "# フォルダ内のファイルをループで取得\n",
    "for f in path.iterdir():\n",
    "    if \".xlsx\" in str(f):\n",
    "        swap_colrow(str(f))"
   ]
  },
  {
   "cell_type": "code",
   "execution_count": null,
   "metadata": {},
   "outputs": [],
   "source": []
  }
 ],
 "metadata": {
  "kernelspec": {
   "display_name": "Python 3",
   "language": "python",
   "name": "python3"
  },
  "language_info": {
   "codemirror_mode": {
    "name": "ipython",
    "version": 3
   },
   "file_extension": ".py",
   "mimetype": "text/x-python",
   "name": "python",
   "nbconvert_exporter": "python",
   "pygments_lexer": "ipython3",
   "version": "3.7.3"
  }
 },
 "nbformat": 4,
 "nbformat_minor": 2
}
