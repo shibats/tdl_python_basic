{
 "cells": [
  {
   "cell_type": "markdown",
   "metadata": {},
   "source": [
    "# Lecture 9 Excelの自動化"
   ]
  },
  {
   "cell_type": "markdown",
   "metadata": {},
   "source": [
    "## 複数ファイルの操作"
   ]
  },
  {
   "cell_type": "code",
   "execution_count": null,
   "metadata": {},
   "outputs": [],
   "source": [
    "# 圧縮ファイルをColab内に展開\n",
    "import requests\n",
    "from io import BytesIO\n",
    "from zipfile import ZipFile\n",
    "\n",
    "r = requests.get('https://github.com/shibats/tdl_python_basic/raw/main/Lecture09/ch02.zip')\n",
    "zip_buffer = BytesIO(r.content)\n",
    "\n",
    "with ZipFile(zip_buffer) as myzip:\n",
    "    myzip.extractall()"
   ]
  },
  {
   "cell_type": "code",
   "execution_count": null,
   "metadata": {},
   "outputs": [],
   "source": [
    "# ライブラリをインポート\n",
    "import openpyxl"
   ]
  },
  {
   "cell_type": "code",
   "execution_count": null,
   "metadata": {},
   "outputs": [],
   "source": [
    "# シートをオブジェクトとして読み込む\n",
    "wb = openpyxl.load_workbook(\"ch02/company_data1.xlsx\")\n",
    "ws = wb.worksheets[0]"
   ]
  },
  {
   "cell_type": "code",
   "execution_count": null,
   "metadata": {},
   "outputs": [],
   "source": [
    "# pandasに読み込んで表示\n",
    "import pandas as pd\n",
    "df = pd.DataFrame(ws.values)\n",
    "df  # 表示"
   ]
  },
  {
   "cell_type": "code",
   "execution_count": null,
   "metadata": {},
   "outputs": [],
   "source": [
    "# セル全体を二重のループで取り出し表示\n",
    "for y, cy in enumerate(ws):\n",
    "    for x, cx in enumerate(cy):\n",
    "        print(x, y, cx.value)"
   ]
  },
  {
   "cell_type": "code",
   "execution_count": null,
   "metadata": {},
   "outputs": [],
   "source": [
    "# シートを追加する\n",
    "ws2 = wb.create_sheet(title=\"Sheet2\")\n",
    "# ロウとカラムを増やす\n",
    "ws2.insert_rows(1, ws.max_row)\n",
    "ws2.insert_cols(1, ws.max_column)\n",
    "# 行と列を入れ替える\n",
    "for y, cy in enumerate(ws):\n",
    "    for x, cx in enumerate(cy):\n",
    "        ws2[x+1][y].value = cx.value\n"
   ]
  },
  {
   "cell_type": "code",
   "execution_count": null,
   "metadata": {},
   "outputs": [],
   "source": [
    "# 新しいファイルに保存\n",
    "# wb.save(\"ch02/company_data_new.xlsx\")"
   ]
  },
  {
   "cell_type": "code",
   "execution_count": null,
   "metadata": {},
   "outputs": [],
   "source": [
    "df2 = pd.DataFrame(ws2.values)\n",
    "df2  # 表示"
   ]
  },
  {
   "cell_type": "markdown",
   "metadata": {},
   "source": [
    "※ スライドに戻ります"
   ]
  },
  {
   "cell_type": "code",
   "execution_count": null,
   "metadata": {},
   "outputs": [],
   "source": [
    "# フォルダの中身を表示\n",
    "%ls ch02"
   ]
  },
  {
   "cell_type": "code",
   "execution_count": null,
   "metadata": {},
   "outputs": [],
   "source": [
    "# ファイルを操作するライブラリをインポート\n",
    "import pathlib\n",
    "# オブジェクトを生成\n",
    "\n",
    "path = pathlib.Path(\"ch02\")\n",
    "# フォルダ内のファイルをループで取得\n",
    "for f in path.iterdir():\n",
    "    print(f)"
   ]
  },
  {
   "cell_type": "code",
   "execution_count": null,
   "metadata": {},
   "outputs": [],
   "source": [
    "def swap_colrow(filename):\n",
    "    # ファイル名を指定して\n",
    "    # Excelシートの列と行を入れ替える\n",
    "    wb = openpyxl.load_workbook(filename)\n",
    "    ws = wb.worksheets[0]\n",
    "    ws2 = wb.create_sheet(title=\"Sheet2\")\n",
    "    # カラムを増やす\n",
    "    ws2.insert_rows(1, ws.max_row)\n",
    "    ws2.insert_cols(1, ws.max_column)\n",
    "    # 行と列を入れ替える\n",
    "    for y, cy in enumerate(ws):\n",
    "        for x, cx in enumerate(cy):\n",
    "            ws2[x+1][y].value = cx.value\n",
    "    # 新規ファイルに保存する\n",
    "    newfn = filename.replace(\".xlsx\", \"_new.xlsx\")\n",
    "    wb.save(newfn)"
   ]
  },
  {
   "cell_type": "code",
   "execution_count": null,
   "metadata": {},
   "outputs": [],
   "source": [
    "# 関数を呼び出してみる\n",
    "swap_colrow(\"ch02/company_data4.xlsx\")"
   ]
  },
  {
   "cell_type": "code",
   "execution_count": null,
   "metadata": {},
   "outputs": [],
   "source": [
    "import pandas as pd\n",
    "wb = openpyxl.load_workbook(\"ch02/company_data4_new.xlsx\")\n",
    "ws = wb.worksheets[0]\n",
    "df = pd.DataFrame(ws.values)\n",
    "df  # 表示"
   ]
  },
  {
   "cell_type": "code",
   "execution_count": null,
   "metadata": {},
   "outputs": [],
   "source": [
    "ws = wb.worksheets[1]\n",
    "df = pd.DataFrame(ws.values)\n",
    "df  # 表示"
   ]
  },
  {
   "cell_type": "code",
   "execution_count": null,
   "metadata": {},
   "outputs": [],
   "source": [
    "%ls ch02"
   ]
  },
  {
   "cell_type": "code",
   "execution_count": null,
   "metadata": {},
   "outputs": [],
   "source": [
    "# ループで一気に処理\n",
    "path = pathlib.Path(\"ch02\")\n",
    "# フォルダ内のファイルをループで取得\n",
    "for f in path.iterdir():\n",
    "    if \".xlsx\" in str(f):\n",
    "        swap_colrow(str(f))"
   ]
  },
  {
   "cell_type": "code",
   "execution_count": null,
   "metadata": {},
   "outputs": [],
   "source": []
  }
 ],
 "metadata": {
  "kernelspec": {
   "display_name": "Python 3",
   "language": "python",
   "name": "python3"
  },
  "language_info": {
   "codemirror_mode": {
    "name": "ipython",
    "version": 3
   },
   "file_extension": ".py",
   "mimetype": "text/x-python",
   "name": "python",
   "nbconvert_exporter": "python",
   "pygments_lexer": "ipython3",
   "version": "3.7.3"
  }
 },
 "nbformat": 4,
 "nbformat_minor": 2
}
