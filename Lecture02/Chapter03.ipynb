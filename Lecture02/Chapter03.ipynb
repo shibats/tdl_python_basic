{
 "cells": [
  {
   "cell_type": "markdown",
   "metadata": {},
   "source": [
    "# Lecture 2 手順"
   ]
  },
  {
   "cell_type": "markdown",
   "metadata": {},
   "source": [
    "## Chapter 3 文字列"
   ]
  },
  {
   "cell_type": "code",
   "execution_count": null,
   "metadata": {},
   "outputs": [],
   "source": [
    "s = \"abcde\"   # 複数の文字(文字列)\n",
    "js = \"日本語の文字列\""
   ]
  },
  {
   "cell_type": "code",
   "execution_count": null,
   "metadata": {},
   "outputs": [],
   "source": [
    "# 関数len()で文字列の長さを調べる\n",
    "len(s)"
   ]
  },
  {
   "cell_type": "code",
   "execution_count": null,
   "metadata": {},
   "outputs": [],
   "source": [
    "len(js)"
   ]
  },
  {
   "cell_type": "code",
   "execution_count": null,
   "metadata": {},
   "outputs": [],
   "source": [
    "# 文字が符号化されている数値を調べる\n",
    "ord(\"a\")"
   ]
  },
  {
   "cell_type": "code",
   "execution_count": null,
   "metadata": {},
   "outputs": [],
   "source": [
    "ord(\"日\")"
   ]
  },
  {
   "cell_type": "code",
   "execution_count": null,
   "metadata": {},
   "outputs": [],
   "source": [
    "# 文字列の足し算(連結)\n",
    "s1 = \"プログラミングは\"\n",
    "s2 = \"難しい\"\n",
    "s3 = s1 + s2\n",
    "s3  # 連結した結果を確認"
   ]
  },
  {
   "cell_type": "markdown",
   "metadata": {},
   "source": [
    "※ スライドに戻ります"
   ]
  },
  {
   "cell_type": "markdown",
   "metadata": {},
   "source": [
    "### シーザー暗号"
   ]
  },
  {
   "cell_type": "code",
   "execution_count": null,
   "metadata": {},
   "outputs": [],
   "source": [
    "p = \"a\"  # 暗号化する文字(平文)\n",
    "pn = ord(p)   # 文字を数値に変換\n",
    "pn = pn + 3   # 3足す(文字をずらす)"
   ]
  },
  {
   "cell_type": "code",
   "execution_count": null,
   "metadata": {},
   "outputs": [],
   "source": [
    "chr(pn)  # 足した数値を文字に再変換"
   ]
  },
  {
   "cell_type": "code",
   "execution_count": null,
   "metadata": {},
   "outputs": [],
   "source": [
    "p = \"y\"  # 暗号化する文字(平文)\n",
    "pn = ord(p)   # 文字を数値に変換\n",
    "pn = pn + 3   # 3足す(文字をずらす)\n",
    "\n",
    "chr(pn)  # 足した数値を文字に再変換"
   ]
  },
  {
   "cell_type": "code",
   "execution_count": null,
   "metadata": {},
   "outputs": [],
   "source": [
    "p = \"y\"  # 暗号化する文字(平文)\n",
    "pn = ord(p)   # 文字を数値に変換\n",
    "# 割り算の余りを使い，a〜zに収まるように工夫する\n",
    "pn = pn - 97    # \"a\"が0になるようにする\n",
    "pn = pn + 3     # 3足す(文字をずらす)\n",
    "pn = pn % 26  # 余りをとる(26からあふれた時の対処)\n",
    "pn = pn + 97   # 97足して元に戻す\n",
    "chr(pn)  # 足した数値を文字に再変換"
   ]
  },
  {
   "cell_type": "code",
   "execution_count": null,
   "metadata": {},
   "outputs": [],
   "source": [
    "# 関数にする\n",
    "def  caesar(p):\n",
    "    pn = ord(p)   # 文字を数値に変換\n",
    "    # 割り算の余りを使い，a〜zに収まるように工夫する\n",
    "    pn = (((pn - 97) + 3) % 26) + 97\n",
    "    e = chr(pn)  # 足した数値を文字に再変換 \n",
    "    return e  # 結果を返す"
   ]
  },
  {
   "cell_type": "code",
   "execution_count": null,
   "metadata": {},
   "outputs": [],
   "source": [
    "caesar(\"a\")"
   ]
  },
  {
   "cell_type": "code",
   "execution_count": null,
   "metadata": {},
   "outputs": [],
   "source": [
    "caesar(\"y\")"
   ]
  },
  {
   "cell_type": "code",
   "execution_count": null,
   "metadata": {},
   "outputs": [],
   "source": [
    "# 鍵(ずらす数)も指定できるようにする\n",
    "def  caesar2(p, n):\n",
    "    pn = ord(p)   # 文字を数値に変換\n",
    "    # 割り算の余りを使い，a〜zに収まるように工夫する\n",
    "    pn = (((pn - 97) + n) % 26) + 97\n",
    "    e = chr(pn)  # 足した数値を文字に再変換 \n",
    "    return e  # 結果を返す"
   ]
  },
  {
   "cell_type": "code",
   "execution_count": null,
   "metadata": {},
   "outputs": [],
   "source": [
    "caesar2(\"a\", 3)   # 暗号化"
   ]
  },
  {
   "cell_type": "code",
   "execution_count": null,
   "metadata": {},
   "outputs": [],
   "source": [
    "caesar2(\"d\", -3)   # 復号化"
   ]
  },
  {
   "cell_type": "markdown",
   "metadata": {},
   "source": [
    "### 文字列とループ"
   ]
  },
  {
   "cell_type": "code",
   "execution_count": null,
   "metadata": {},
   "outputs": [],
   "source": [
    "s = \"python\"  # 文字列を変数に代入\n",
    "\n",
    "for i in s:   # 文字を一文字ずつ取り出す\n",
    "    print(i)   # 取り出した文字を縦一列に表示する"
   ]
  },
  {
   "cell_type": "code",
   "execution_count": null,
   "metadata": {},
   "outputs": [],
   "source": [
    "# 文字列を暗号化\n",
    "s = \"python\"  # 文字列を変数に代入\n",
    "\n",
    "for i in s:   # 文字を一文字ずつ取り出す\n",
    "    e = caesar2(i, 3)   # 取り出した文字を暗号化して代入\n",
    "    print(e)   # 暗号化した文字を表示"
   ]
  },
  {
   "cell_type": "code",
   "execution_count": null,
   "metadata": {},
   "outputs": [],
   "source": [
    "# 空の文字列\n",
    "a = \"abc\"\n",
    "b = \"\"   # 空の文字列(長さゼロの文字列)\n",
    "c = a + b\n",
    "print(c)   # 足しても変わらない"
   ]
  },
  {
   "cell_type": "code",
   "execution_count": null,
   "metadata": {},
   "outputs": [],
   "source": [
    "# 長い文字列を暗号化する\n",
    "s = \"python\"  # 文字列を変数に代入\n",
    "e = \"\"   # 暗号文を足して行く文字列\n",
    "\n",
    "for i in s:   # 文字を一文字ずつ取り出す\n",
    "    e = e + caesar2(i, 3)   # 取り出した文字を暗号化して代入\n",
    "\n",
    "e  # 結果を確認"
   ]
  },
  {
   "cell_type": "code",
   "execution_count": null,
   "metadata": {},
   "outputs": [],
   "source": [
    "# 文字列を扱えるシーザー暗号の関数を作る\n",
    "def caesar3(s, n): # 「文字列」と「ずらす数」の2つのデータを受け取る\n",
    "    e = \"\"   # 変換した文字列を足して行く文字列\n",
    "\n",
    "    for i in s:   # 文字を一文字ずつ取り出す\n",
    "        e = e + caesar2(i, n)   # 取り出した文字を暗号化して代入\n",
    "    return e   # 変換した文字列を結果として返す"
   ]
  },
  {
   "cell_type": "code",
   "execution_count": null,
   "metadata": {},
   "outputs": [],
   "source": [
    "caesar3(\"python\", 3)"
   ]
  },
  {
   "cell_type": "code",
   "execution_count": null,
   "metadata": {},
   "outputs": [],
   "source": [
    "e = caesar3(\"python\", 3)\n",
    "# 暗号化された文字を復号化\n",
    "d = caesar3(e, -3)"
   ]
  },
  {
   "cell_type": "code",
   "execution_count": null,
   "metadata": {},
   "outputs": [],
   "source": [
    "d  # 結果を確認"
   ]
  },
  {
   "cell_type": "code",
   "execution_count": null,
   "metadata": {},
   "outputs": [],
   "source": []
  }
 ],
 "metadata": {
  "kernelspec": {
   "display_name": "Python 3",
   "language": "python",
   "name": "python3"
  },
  "language_info": {
   "codemirror_mode": {
    "name": "ipython",
    "version": 3
   },
   "file_extension": ".py",
   "mimetype": "text/x-python",
   "name": "python",
   "nbconvert_exporter": "python",
   "pygments_lexer": "ipython3",
   "version": "3.7.3"
  }
 },
 "nbformat": 4,
 "nbformat_minor": 2
}
