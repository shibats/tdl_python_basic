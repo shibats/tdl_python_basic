{
 "cells": [
  {
   "cell_type": "markdown",
   "metadata": {},
   "source": [
    "# Lecture 2 手順"
   ]
  },
  {
   "cell_type": "markdown",
   "metadata": {},
   "source": [
    "## Chapter 2 リスト"
   ]
  },
  {
   "cell_type": "markdown",
   "metadata": {},
   "source": [
    "|  1  |  2  |  3  |\n",
    "|:---:|:---:|:---:|\n",
    "|  4  |  <5>  |  6  |\n",
    "|  7  |   8  |  9  |"
   ]
  },
  {
   "cell_type": "code",
   "execution_count": null,
   "metadata": {},
   "outputs": [],
   "source": [
    "# 打ち手を変数で表現\n",
    "c1 = 5  # コンピュータの1手目"
   ]
  },
  {
   "cell_type": "markdown",
   "metadata": {},
   "source": [
    "|  1  |  2  |  {3}  |\n",
    "|:---:|:---:|:---:|\n",
    "|  4  |  <5>  |  6  |\n",
    "|  7  |   8  |  <9>  |"
   ]
  },
  {
   "cell_type": "code",
   "execution_count": null,
   "metadata": {},
   "outputs": [],
   "source": [
    "p1 = 3  # 人間の1手目\n",
    "c2 = 9  # コンピュータの2手目"
   ]
  },
  {
   "cell_type": "markdown",
   "metadata": {},
   "source": [
    "### リストを使う"
   ]
  },
  {
   "cell_type": "code",
   "execution_count": null,
   "metadata": {},
   "outputs": [],
   "source": [
    "computer = [5, 9]\n",
    "person = [3]"
   ]
  },
  {
   "cell_type": "markdown",
   "metadata": {},
   "source": [
    "|  {1}  |  2  |  {3}  |\n",
    "|:---:|:---:|:---:|\n",
    "|  4  |  <5>  |  6  |\n",
    "|  7  |   8  |  <9>  |"
   ]
  },
  {
   "cell_type": "code",
   "execution_count": null,
   "metadata": {},
   "outputs": [],
   "source": [
    "# 人間が次に1に打つ(打ち手を追加)\n",
    "person = person + [1]"
   ]
  },
  {
   "cell_type": "code",
   "execution_count": null,
   "metadata": {},
   "outputs": [],
   "source": [
    "# 打ち手を表示\n",
    "person"
   ]
  },
  {
   "cell_type": "code",
   "execution_count": null,
   "metadata": {},
   "outputs": [],
   "source": [
    "income = [8320, 8670, 9062, 9307, 9709]  # 直近5年の売り上げ\n",
    "income   # リストを表示"
   ]
  },
  {
   "cell_type": "code",
   "execution_count": null,
   "metadata": {},
   "outputs": [],
   "source": [
    "income[0]   # 最初の要素(5年前の売り上げ)"
   ]
  },
  {
   "cell_type": "code",
   "execution_count": null,
   "metadata": {},
   "outputs": [],
   "source": [
    "income[-1]  # 最後の要素(1年前の売り上げ)"
   ]
  },
  {
   "cell_type": "code",
   "execution_count": null,
   "metadata": {},
   "outputs": [],
   "source": [
    "income[-1]-income[0]  # 5年間の売り上げ差"
   ]
  },
  {
   "cell_type": "code",
   "execution_count": null,
   "metadata": {},
   "outputs": [],
   "source": [
    "# len()関数でリストの長さ(要素数)を得る\n",
    "len(income)"
   ]
  },
  {
   "cell_type": "code",
   "execution_count": null,
   "metadata": {},
   "outputs": [],
   "source": [
    "# リストをループに添える\n",
    "for i in income:\n",
    "    print(i)"
   ]
  },
  {
   "cell_type": "code",
   "execution_count": null,
   "metadata": {},
   "outputs": [],
   "source": [
    "# グラフ描画の準備\n",
    "!pip install tdl_pybasic\n",
    "from tdl_pybasic.draw_graph import store_data, draw_graph"
   ]
  },
  {
   "cell_type": "code",
   "execution_count": null,
   "metadata": {},
   "outputs": [],
   "source": [
    "# 売り上げのグラフ\n",
    "for inc in income:\n",
    "    store_data(inc)\n",
    "    \n",
    "draw_graph()"
   ]
  },
  {
   "cell_type": "code",
   "execution_count": null,
   "metadata": {},
   "outputs": [],
   "source": [
    "# 売り上げのグラフ(リストのインデックスを使ったループ)\n",
    "list_len = len(income) # リストの長さ(要素数)\n",
    "for idx in range(list_len):\n",
    "    # incomeの長さ分ループを回す\n",
    "    store_data(income[idx])\n",
    "    \n",
    "draw_graph()"
   ]
  },
  {
   "cell_type": "code",
   "execution_count": null,
   "metadata": {},
   "outputs": [],
   "source": [
    "profits = [1594, 1607, 1672, 1699, 1703]  # 過去5年の利益"
   ]
  },
  {
   "cell_type": "code",
   "execution_count": null,
   "metadata": {},
   "outputs": [],
   "source": [
    "# 利益のグラフ\n",
    "list_len = len(profits) # リストの長さ(要素数)\n",
    "for idx in range(list_len):\n",
    "    # profitsの長さ分ループを回す\n",
    "    store_data(profits[idx])\n",
    "    \n",
    "draw_graph()"
   ]
  },
  {
   "cell_type": "code",
   "execution_count": null,
   "metadata": {},
   "outputs": [],
   "source": [
    "# 利益率をリストに入れてみる\n",
    "rates = []   # 「空のリスト」で変数を初期化\n",
    "list_len = len(income)\n",
    "for idx in range(list_len):\n",
    "    rate = profits[idx]/income[idx]  # 利益率(利益/売り上げ)を計算\n",
    "    rates = rates + [rate]    # [rate]で計算した利益率のリストを作り，ratesのリストに連結\n",
    "    \n",
    "rates  # 利益率を表示\n",
    "\n",
    "# パーセンテージを表示するように\n",
    "# 一緒に書き換えてみましょう"
   ]
  },
  {
   "cell_type": "code",
   "execution_count": null,
   "metadata": {},
   "outputs": [],
   "source": [
    "# 利益率のグラフを描画\n",
    "for r in rates:\n",
    "    store_data(r)\n",
    "    \n",
    "draw_graph()"
   ]
  },
  {
   "cell_type": "markdown",
   "metadata": {},
   "source": [
    "※スライドに戻ります"
   ]
  },
  {
   "cell_type": "code",
   "execution_count": null,
   "metadata": {},
   "outputs": [],
   "source": []
  }
 ],
 "metadata": {
  "kernelspec": {
   "display_name": "Python 3",
   "language": "python",
   "name": "python3"
  },
  "language_info": {
   "codemirror_mode": {
    "name": "ipython",
    "version": 3
   },
   "file_extension": ".py",
   "mimetype": "text/x-python",
   "name": "python",
   "nbconvert_exporter": "python",
   "pygments_lexer": "ipython3",
   "version": "3.7.3"
  }
 },
 "nbformat": 4,
 "nbformat_minor": 2
}
