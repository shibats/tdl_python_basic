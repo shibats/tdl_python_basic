{
 "cells": [
  {
   "cell_type": "markdown",
   "metadata": {},
   "source": [
    "# Lecture 2 手順"
   ]
  },
  {
   "cell_type": "markdown",
   "metadata": {},
   "source": [
    "## Chapter 4 暗号"
   ]
  },
  {
   "cell_type": "code",
   "execution_count": null,
   "metadata": {},
   "outputs": [],
   "source": [
    "# シーザー暗号用の関数を再度定義する\n",
    "\n",
    "def  caesar2(p, n):\n",
    "    # 鍵からシーザー暗号で\n",
    "    # 暗号化/復号化した1文字を得る関数\n",
    "    # pは文字列，nは鍵となる数\n",
    "    pn = ord(p)   # 文字を数値に変換\n",
    "    # 割り算の余りを使い，a〜zに収まるように工夫する\n",
    "    pn = (((pn - 97) + n) % 26) + 97\n",
    "    e = chr(pn)  # 足した数値を文字に再変換 \n",
    "    return e  # 結果を返す\n",
    "\n",
    "def caesar3(s, n):\n",
    "    # 文字列をシーザー暗号に暗号化/復号化する関数\n",
    "    # pは文字列，nは鍵となる数\n",
    "    e = \"\"   # 変換した文字列を足して行く文字列\n",
    "\n",
    "    for i in s:   # 文字を一文字ずつ取り出す\n",
    "        e = e + caesar2(i, n)   # 取り出した文字を暗号化して代入\n",
    "    return e   # 変換した文字列を結果として返す"
   ]
  },
  {
   "cell_type": "code",
   "execution_count": null,
   "metadata": {},
   "outputs": [],
   "source": [
    "caesar3(\"python\", 3)"
   ]
  },
  {
   "cell_type": "code",
   "execution_count": null,
   "metadata": {},
   "outputs": [],
   "source": [
    "caesar3(\"sbwkrq\", -3)"
   ]
  },
  {
   "cell_type": "code",
   "execution_count": null,
   "metadata": {},
   "outputs": [],
   "source": [
    "# シーザー暗号で作られた暗号文\n",
    "enc = \"iybabz\""
   ]
  },
  {
   "cell_type": "code",
   "execution_count": null,
   "metadata": {},
   "outputs": [],
   "source": [
    "# 総当たりで暗号を解読\n",
    "for key in range(1, 27):\n",
    "    dec = caesar3(enc, -key)\n",
    "    print(key, dec)"
   ]
  },
  {
   "cell_type": "code",
   "execution_count": null,
   "metadata": {},
   "outputs": [],
   "source": [
    "# 弱く，簡単な暗号は手順で解読できる"
   ]
  },
  {
   "cell_type": "markdown",
   "metadata": {},
   "source": [
    "※ スライドに戻ります"
   ]
  },
  {
   "cell_type": "code",
   "execution_count": null,
   "metadata": {},
   "outputs": [],
   "source": [
    "# 換字テーブルを変数に代入\n",
    "t = ['i', 'w', 'p', 'q', 'c', 'l', 'd', 'a', 'z', 'v', 'e', 'u', 'o', 'y', 'j', 'b', 'h', 't', 'k', 'n', 'r', 'x', 'f', 'g', 'm', 's']"
   ]
  },
  {
   "cell_type": "code",
   "execution_count": null,
   "metadata": {},
   "outputs": [],
   "source": [
    "# 換字の結果を得る\n",
    "a = \"c\"\n",
    "idx = ord(a)-97\n",
    "t[idx]"
   ]
  },
  {
   "cell_type": "code",
   "execution_count": null,
   "metadata": {},
   "outputs": [],
   "source": [
    "# ある文字列が換字テーブルの何番目かを調べる関数を作る\n",
    "def index(t, s):\n",
    "    # tは換字テーブル，sは調べる文字\n",
    "    for i in range(0, 26):\n",
    "        if s == t[i]:\n",
    "            return i"
   ]
  },
  {
   "cell_type": "code",
   "execution_count": null,
   "metadata": {},
   "outputs": [],
   "source": [
    "index(t, \"p\")"
   ]
  },
  {
   "cell_type": "code",
   "execution_count": null,
   "metadata": {},
   "outputs": [],
   "source": [
    "index(t, \"s\")"
   ]
  },
  {
   "cell_type": "code",
   "execution_count": null,
   "metadata": {},
   "outputs": [],
   "source": [
    "# 換字テーブルを使って文字列を暗号化する関数\n",
    "def encrypt_ssc(p, t):\n",
    "    # pは平文の文字列，tは換字テーブル\n",
    "    e = \"\" # 暗号文を初期化\n",
    "    for i in p:  # 平文でループ\n",
    "        n = ord(i)-97   # Aからの順番を計算\n",
    "        e = e+t[n]  # 対応表を使って置き換え\n",
    "    return e"
   ]
  },
  {
   "cell_type": "code",
   "execution_count": null,
   "metadata": {},
   "outputs": [],
   "source": [
    "encrypt_ssc(\"python\", t)"
   ]
  },
  {
   "cell_type": "code",
   "execution_count": null,
   "metadata": {},
   "outputs": [],
   "source": [
    "# 換字テーブルを使って暗号文を復号化する関数\n",
    "def decrypt_ssc(e, t):\n",
    "    # eは暗号文の文字列，tは換字テーブル\n",
    "    # 単一換字暗号で復号化する関数\n",
    "    p = \"\" # 復号化する平文を初期化\n",
    "    for i in e:  # 暗号文でループ\n",
    "        n = index(t, i)  # 対応表のインデックスに変換\n",
    "        p = p+chr(n+97)  # 文字を復号化\n",
    "    return p"
   ]
  },
  {
   "cell_type": "code",
   "execution_count": null,
   "metadata": {},
   "outputs": [],
   "source": [
    "decrypt_ssc(\"bmnajy\", t)"
   ]
  },
  {
   "cell_type": "code",
   "execution_count": null,
   "metadata": {},
   "outputs": [],
   "source": [
    "# 準備\n",
    "\n",
    "!pip install tdl_pybasic -U\n",
    "from tdl_pybasic.lfreq import calc_freq_table, show_freq_graph,freq_table"
   ]
  },
  {
   "cell_type": "code",
   "execution_count": null,
   "metadata": {},
   "outputs": [],
   "source": [
    "# オバマ大統領の就任演説\n",
    "obama_speech = \"myfellowcitizensistandheretodayhumbledbythetaskbeforeusgratefulforthetrustyouhavebestowedmindfulofthesacrificesbornebyourancestorsithankpresidentbushforhisservicetoournationaswellasthegenerosityandcooperationhehasshownthroughoutthistransitionfortyfouramericanshavenowtakenthepresidentialoaththewordshavebeenspokenduringrisingtidesofprosperityandthestillwatersofpeaceyeteverysooftentheoathistakenamidstgatheringcloudsandragingstormsatthesemomentsamericahascarriedonnotsimplybecauseoftheskillorvisionofthoseinhighofficebutbecausewethepeoplehaveremainedfaithfultotheidealsofourforbearersandtruetoourfoundingdocumentssoithasbeensoitmustbewiththisgenerationofamericansthatweareinthemidstofcrisisisnowwellunderstoodournationisatwaragainstafarreachingnetworkofviolenceandhatredoureconomyisbadlyweakenedaconsequenceofgreedandirresponsibilityonthepartofsomebutalsoourcollectivefailuretomakehardchoicesandpreparethenationforanewagehomeshavebeenlostjobsshedbusinessesshutteredourhealthcareistoocostlyourschoolsfailtoomanyandeachdaybringsfurtherevidencethatthewaysweuseenergystrengthenouradversariesandthreatenourplanetthesearetheindicatorsofcrisissubjecttodataandstatisticslessmeasurablebutnolessprofoundisasappingofconfidenceacrossourlandanaggingfearthatamericasdeclineisinevitableandthatthenextgenerationmustloweritssights\""
   ]
  },
  {
   "cell_type": "code",
   "execution_count": null,
   "metadata": {},
   "outputs": [],
   "source": [
    "o_freq = calc_freq_table(obama_speech)  # 文字ごとに出現回数を調べる"
   ]
  },
  {
   "cell_type": "code",
   "execution_count": null,
   "metadata": {},
   "outputs": [],
   "source": [
    "o_freq"
   ]
  },
  {
   "cell_type": "code",
   "execution_count": null,
   "metadata": {},
   "outputs": [],
   "source": [
    "show_freq_graph(o_freq)   # 出現頻度をグラフにして表示"
   ]
  },
  {
   "cell_type": "code",
   "execution_count": null,
   "metadata": {},
   "outputs": [],
   "source": [
    "show_freq_graph()   # 一般的なアルファベットの出現頻度をグラフにして表示"
   ]
  },
  {
   "cell_type": "code",
   "execution_count": null,
   "metadata": {},
   "outputs": [],
   "source": [
    "e = encrypt_ssc(obama_speech, t)"
   ]
  },
  {
   "cell_type": "code",
   "execution_count": null,
   "metadata": {},
   "outputs": [],
   "source": [
    "e_freq = calc_freq_table(e) # 暗号文の文字の出現頻度を計算\n",
    "show_freq_graph(e_freq)   # 出現頻度をグラフにして表示"
   ]
  },
  {
   "cell_type": "code",
   "execution_count": null,
   "metadata": {},
   "outputs": [],
   "source": [
    "# 換字暗号の暗号文\n",
    "encwords = \"dijbrcldijbrclcjddclkdqfogijigbzlfioqdvguqflunqtgyldoligfczkgojmocjrlqzjqpgbzjbdolkrv\""
   ]
  },
  {
   "cell_type": "code",
   "execution_count": null,
   "metadata": {},
   "outputs": [],
   "source": [
    "e_freq2 = calc_freq_table(encwords) # 暗号文の文字の出現頻度を計算\n",
    "e_freq2"
   ]
  },
  {
   "cell_type": "markdown",
   "metadata": {},
   "source": [
    "※スライドに戻ります"
   ]
  },
  {
   "cell_type": "code",
   "execution_count": null,
   "metadata": {},
   "outputs": [],
   "source": []
  }
 ],
 "metadata": {
  "kernelspec": {
   "display_name": "Python 3",
   "language": "python",
   "name": "python3"
  },
  "language_info": {
   "codemirror_mode": {
    "name": "ipython",
    "version": 3
   },
   "file_extension": ".py",
   "mimetype": "text/x-python",
   "name": "python",
   "nbconvert_exporter": "python",
   "pygments_lexer": "ipython3",
   "version": "3.7.3"
  }
 },
 "nbformat": 4,
 "nbformat_minor": 2
}
