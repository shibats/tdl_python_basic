{
 "cells": [
  {
   "cell_type": "markdown",
   "metadata": {},
   "source": [
    "# Lecture 2 手順"
   ]
  },
  {
   "cell_type": "markdown",
   "metadata": {},
   "source": [
    "## Chapter 1 条件分岐"
   ]
  },
  {
   "cell_type": "markdown",
   "metadata": {},
   "source": [
    "### 〇×ゲームの対戦プログラム"
   ]
  },
  {
   "cell_type": "markdown",
   "metadata": {},
   "source": [
    "初手Python，5\n",
    "\n",
    "|  1  |  2  |  3  |\n",
    "|:---:|:---:|:---:|\n",
    "|  4  |  <5>  |  6  |\n",
    "|  7  |   8  |  9  |"
   ]
  },
  {
   "cell_type": "code",
   "execution_count": null,
   "metadata": {},
   "outputs": [],
   "source": [
    "# コンピュータが一手目に5を選んだ状態を考える\n",
    "p1 = 1  # 人間が一回目にどのマスを選ぶか\n",
    "if p1 == 1:  # 1を選んだ場合\n",
    "    c2 = 7  # コンピュータは次に7を選ぶ"
   ]
  },
  {
   "cell_type": "code",
   "execution_count": null,
   "metadata": {},
   "outputs": [],
   "source": [
    "print(c2)  # コンピュータが2回目に選ぶマスを表示"
   ]
  },
  {
   "cell_type": "code",
   "execution_count": null,
   "metadata": {},
   "outputs": [],
   "source": [
    "# コンピュータが一手目に5を選んだ状態を考える\n",
    "p1 = 3  # 人間が一回目にどのマスを選ぶか\n",
    "if p1 == 1:  # 1を選んだ場合\n",
    "    c2 = 7  # コンピュータは次に7を選ぶ\n",
    "if p1 == 3:  # 3を選んだ場合\n",
    "    c2 = 9  # コンピュータは次に9を選ぶ\n",
    "if p1 == 7:  # 7を選んだ場合\n",
    "    c2 = 1  # コンピュータは次に1を選ぶ\n",
    "if p1 == 9:  # 9を選んだ場合\n",
    "    c2 = 3  # コンピュータは次に3を選ぶ\n",
    "    \n",
    "print(c2)  # コンピュータが2回目に選ぶマスを表示"
   ]
  },
  {
   "cell_type": "markdown",
   "metadata": {},
   "source": [
    "|  1  |  2  |  3  |\n",
    "|:---:|:---:|:---:|\n",
    "|  4  |  <5>  |  6  |\n",
    "|  7  |   8  |  9  |"
   ]
  },
  {
   "cell_type": "markdown",
   "metadata": {},
   "source": [
    "※ スライドに戻ります"
   ]
  },
  {
   "cell_type": "markdown",
   "metadata": {},
   "source": [
    "|  1  |  2  |  {3}  |\n",
    "|:---:|:---:|:---:|\n",
    "|  4  |  <5>  |  6  |\n",
    "|  7  |   8  |  <9>  |"
   ]
  },
  {
   "cell_type": "code",
   "execution_count": null,
   "metadata": {},
   "outputs": [],
   "source": [
    "# コンピュータが5,9，人間が3を選んだ状態で\n",
    "p2 = 1  # プレイヤーが一回目にどのマスを選ぶか\n",
    "if p2 == 1:  # 1を選んだ場合\n",
    "    c3 = 2  # コンピュータは次に2を選ぶ\n",
    "else:  # 3を選んだ場合\n",
    "    c3 = 1  # コンピュータは次に1を選ぶ\n",
    "print(c3)  # コンピュータが3回目に選ぶマスを表示"
   ]
  },
  {
   "cell_type": "markdown",
   "metadata": {},
   "source": [
    "※スライドに戻ります"
   ]
  },
  {
   "cell_type": "code",
   "execution_count": null,
   "metadata": {},
   "outputs": [],
   "source": [
    "def heat_index(temperature, humidity):\n",
    "    \"\"\"\n",
    "    不快指数を計算する\n",
    "    temperatureに気温を，humidityに湿度を渡す\n",
    "    \"\"\"\n",
    "\n",
    "    c1 = -42.379\n",
    "    c2 = 2.04901523\n",
    "    c3 = 10.14333127\n",
    "    c4 = -0.22475541\n",
    "    c5 = -6.83783e-3\n",
    "    c6 = -5.481717e-2\n",
    "    c7 = 1.22874e-3\n",
    "    c8 = 8.5282e-4\n",
    "    c9 = -1.99e-6\n",
    "\n",
    "    T = temperature\n",
    "    RH = humidity\n",
    "\n",
    "    # try simplified formula first (used for HI < 80)\n",
    "    HI = 0.5 * (T + 61. + (T - 68.) * 1.2 + RH * 0.094)\n",
    "\n",
    "    if HI >= 80:\n",
    "        # use Rothfusz regression\n",
    "        HI = math.fsum([\n",
    "            c1,\n",
    "            c2 * T,\n",
    "            c3 * RH,\n",
    "            c4 * T * RH,\n",
    "            c5 * T**2,\n",
    "            c6 * RH**2,\n",
    "            c7 * T**2 * RH,\n",
    "            c8 * T * RH**2,\n",
    "            c9 * T**2 * RH**2,\n",
    "        ])\n",
    "\n",
    "    return HI"
   ]
  }
 ],
 "metadata": {
  "kernelspec": {
   "display_name": "Python 3",
   "language": "python",
   "name": "python3"
  },
  "language_info": {
   "codemirror_mode": {
    "name": "ipython",
    "version": 3
   },
   "file_extension": ".py",
   "mimetype": "text/x-python",
   "name": "python",
   "nbconvert_exporter": "python",
   "pygments_lexer": "ipython3",
   "version": "3.7.3"
  }
 },
 "nbformat": 4,
 "nbformat_minor": 2
}
