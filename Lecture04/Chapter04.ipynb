{
 "cells": [
  {
   "cell_type": "markdown",
   "metadata": {},
   "source": [
    "# Lecture 4 オブジェクト指向"
   ]
  },
  {
   "cell_type": "markdown",
   "metadata": {},
   "source": [
    "## クラス"
   ]
  },
  {
   "cell_type": "code",
   "execution_count": 7,
   "metadata": {},
   "outputs": [],
   "source": [
    "from datetime import date, timedelta  # オブジェクト指向で日付を扱う準備\n",
    "\n",
    "s = \"あいうえお\"  # 文字列オブジェクトを作る(リテラル)\n",
    "theday = date(2021, 4, 30)  # dateオブジェクトを作る(クラス)"
   ]
  },
  {
   "cell_type": "code",
   "execution_count": 12,
   "metadata": {},
   "outputs": [],
   "source": [
    "class Hero():\n",
    "    \"\"\"\n",
    "    Heroクラス\n",
    "    \"\"\"\n",
    "    def __init__(self, name, initial_hp, initial_mp):\n",
    "        # 初期化メソッド\n",
    "        self.name = name\n",
    "        self.hitpoint = initial_hp\n",
    "        self.magicpoint = initial_mp"
   ]
  },
  {
   "cell_type": "code",
   "execution_count": 16,
   "metadata": {},
   "outputs": [],
   "source": [
    "# Heroクラスのオブジェクトを作る\n",
    "me = Hero(\"勇者\", 100, 30)"
   ]
  },
  {
   "cell_type": "code",
   "execution_count": 14,
   "metadata": {},
   "outputs": [
    {
     "data": {
      "text/plain": [
       "('勇者', 100, 30)"
      ]
     },
     "execution_count": 14,
     "metadata": {},
     "output_type": "execute_result"
    }
   ],
   "source": [
    "# アトリビュートを表示\n",
    "# 名前，HP，MP\n",
    "me.name, me.hitpoint, me.magicpoint"
   ]
  },
  {
   "cell_type": "code",
   "execution_count": 15,
   "metadata": {},
   "outputs": [],
   "source": [
    "class Hero2():\n",
    "    \"\"\"\n",
    "    Hero2クラス\n",
    "    \"\"\"\n",
    "    def __init__(self, name, initial_hp, initial_mp):\n",
    "        # 初期化メソッド\n",
    "        self.name = name\n",
    "        self.hitpoint = initial_hp\n",
    "        self.magicpoint = initial_mp\n",
    "        self.level = 1\n",
    "        self.exp = 0"
   ]
  },
  {
   "cell_type": "code",
   "execution_count": 24,
   "metadata": {},
   "outputs": [],
   "source": [
    "# Hero2クラスのオブジェクトを作る\n",
    "he = Hero2(\"僧侶\", 80, 60)  "
   ]
  },
  {
   "cell_type": "code",
   "execution_count": 25,
   "metadata": {},
   "outputs": [
    {
     "data": {
      "text/plain": [
       "('僧侶', 80, 60)"
      ]
     },
     "execution_count": 25,
     "metadata": {},
     "output_type": "execute_result"
    }
   ],
   "source": [
    "# アトリビュートを表示\n",
    "# 名前，HP，MP\n",
    "he.name, he.hitpoint, he.magicpoint"
   ]
  },
  {
   "cell_type": "code",
   "execution_count": 26,
   "metadata": {},
   "outputs": [
    {
     "data": {
      "text/plain": [
       "(1, 0)"
      ]
     },
     "execution_count": 26,
     "metadata": {},
     "output_type": "execute_result"
    }
   ],
   "source": [
    "# レベル，経験値\n",
    "he.level, he.exp"
   ]
  },
  {
   "cell_type": "code",
   "execution_count": 36,
   "metadata": {},
   "outputs": [],
   "source": [
    "class Hero3():\n",
    "    \"\"\"\n",
    "    Hero3クラス\n",
    "    \"\"\"\n",
    "    def __init__(self, name, initial_hp, initial_mp):\n",
    "        # 初期化メソッド\n",
    "        self.name = name\n",
    "        self.hitpoint = initial_hp\n",
    "        self.magicpoint = initial_mp\n",
    "        self.level = 1\n",
    "        self.exp = 0\n",
    "\n",
    "    def heal(self, mp_con):\n",
    "        # 回復呪文を唱える\n",
    "        # mp_conにMPの消費量を渡す\n",
    "        if self.magicpoint > mp_con:\n",
    "            # HPを回復\n",
    "            self.hitpoint += mp_con*2\n",
    "            # MPを消費\n",
    "            self.magicpoint -= mp_con\n"
   ]
  },
  {
   "cell_type": "code",
   "execution_count": 37,
   "metadata": {},
   "outputs": [],
   "source": [
    "she = Hero3(\"魔法使い\", 60, 100)"
   ]
  },
  {
   "cell_type": "code",
   "execution_count": 38,
   "metadata": {},
   "outputs": [
    {
     "data": {
      "text/plain": [
       "('魔法使い', 60, 100)"
      ]
     },
     "execution_count": 38,
     "metadata": {},
     "output_type": "execute_result"
    }
   ],
   "source": [
    "she.name, she.hitpoint, she.magicpoint"
   ]
  },
  {
   "cell_type": "code",
   "execution_count": 39,
   "metadata": {},
   "outputs": [],
   "source": [
    "she.heal(20)  # 回復呪文を唱える"
   ]
  },
  {
   "cell_type": "code",
   "execution_count": 40,
   "metadata": {},
   "outputs": [
    {
     "data": {
      "text/plain": [
       "('魔法使い', 100, 80)"
      ]
     },
     "execution_count": 40,
     "metadata": {},
     "output_type": "execute_result"
    }
   ],
   "source": [
    "she.name, she.hitpoint, she.magicpoint"
   ]
  },
  {
   "cell_type": "code",
   "execution_count": null,
   "metadata": {},
   "outputs": [],
   "source": []
  }
 ],
 "metadata": {
  "kernelspec": {
   "display_name": "Python 3",
   "language": "python",
   "name": "python3"
  },
  "language_info": {
   "codemirror_mode": {
    "name": "ipython",
    "version": 3
   },
   "file_extension": ".py",
   "mimetype": "text/x-python",
   "name": "python",
   "nbconvert_exporter": "python",
   "pygments_lexer": "ipython3",
   "version": "3.7.3"
  }
 },
 "nbformat": 4,
 "nbformat_minor": 2
}
