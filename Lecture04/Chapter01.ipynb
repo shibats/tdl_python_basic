{
 "cells": [
  {
   "cell_type": "markdown",
   "metadata": {},
   "source": [
    "# Lecture 4 オブジェクト指向"
   ]
  },
  {
   "cell_type": "markdown",
   "metadata": {},
   "source": [
    "## オブジェクト指向とは"
   ]
  },
  {
   "cell_type": "code",
   "execution_count": null,
   "metadata": {},
   "outputs": [],
   "source": [
    "# 準備\n",
    "!pip install gtts # 音声合成ライブラリをインストール\n",
    "from gtts import gTTS   # 音声合成ライブラリを読み込む\n",
    "import IPython.display"
   ]
  },
  {
   "cell_type": "code",
   "execution_count": null,
   "metadata": {},
   "outputs": [],
   "source": [
    "# 音声合成のテスト\n",
    "jword = \"機械学習は人工知能の要素技術のひとつです\"\n",
    "tts = gTTS(text=jword, lang=\"ja\")\n",
    "tts.save(\"japanese.mp3\")\n",
    "# 音声ファイルを再生する\n",
    "IPython.display.Audio(\"japanese.mp3\")"
   ]
  },
  {
   "cell_type": "markdown",
   "metadata": {},
   "source": [
    "※スライドに戻ります"
   ]
  },
  {
   "cell_type": "markdown",
   "metadata": {},
   "source": [
    "### プログラムによる日付の表現"
   ]
  },
  {
   "cell_type": "code",
   "execution_count": null,
   "metadata": {},
   "outputs": [],
   "source": [
    "# 変数を使った表現\n",
    "year = 2021\n",
    "month = 4\n",
    "day = 30"
   ]
  },
  {
   "cell_type": "code",
   "execution_count": null,
   "metadata": {},
   "outputs": [],
   "source": [
    "# 4月30日の翌日をプログラムで得る\n",
    "day += 1\n",
    "f\"{year}年{month}月{day}日\""
   ]
  },
  {
   "cell_type": "code",
   "execution_count": null,
   "metadata": {},
   "outputs": [],
   "source": [
    "year = 2021\n",
    "month = 4\n",
    "day = 30"
   ]
  },
  {
   "cell_type": "code",
   "execution_count": null,
   "metadata": {},
   "outputs": [],
   "source": [
    "# 月をまたぐ処理を追加\n",
    "\n",
    "# 一ヶ月の日数をリストにする\n",
    "#                       1    2   3    4    5    6   7   8   9   10  11  12\n",
    "monthrange = [31, 28, 31, 30, 31, 30, 31, 31, 30, 31, 30, 31]\n",
    "\n",
    "day = day+1\n",
    "if monthrange[month-1] < day:\n",
    "    # dayが月の日数を超えていたので\n",
    "    # 翌月の1日にする\n",
    "    month += 1\n",
    "    day = 1\n",
    "\n",
    "f\"{year}年{month}月{day}日\""
   ]
  },
  {
   "cell_type": "code",
   "execution_count": null,
   "metadata": {},
   "outputs": [],
   "source": [
    "year = 2021\n",
    "month = 12\n",
    "day = 31"
   ]
  },
  {
   "cell_type": "code",
   "execution_count": null,
   "metadata": {},
   "outputs": [],
   "source": [
    "# さらに修正\n",
    "\n",
    "day = day+1\n",
    "if monthrange[month-1] < day:\n",
    "    # dayが月の日数を超えていたので\n",
    "    # 翌月の1日にする\n",
    "    month += 1\n",
    "    day = 1\n",
    "    if month == 13:\n",
    "        # 13月は存在しないので，翌年の1月にする\n",
    "        month = 1\n",
    "        year += 1\n",
    "\n",
    "f\"{year}年{month}月{day}日\""
   ]
  },
  {
   "cell_type": "code",
   "execution_count": null,
   "metadata": {},
   "outputs": [],
   "source": [
    "# オブジェクト指向を使う\n",
    "\n",
    "from datetime import date, timedelta  # オブジェクト指向で日付を扱う準備"
   ]
  },
  {
   "cell_type": "code",
   "execution_count": null,
   "metadata": {},
   "outputs": [],
   "source": [
    "# 今日の日付を得る\n",
    "theday = date(2021, 4, 30)  # dateクラスのオブジェクトを作る\n",
    "theday   # 日時を表示"
   ]
  },
  {
   "cell_type": "code",
   "execution_count": null,
   "metadata": {},
   "outputs": [],
   "source": [
    "oneday = timedelta(days=1)  # 一日に相当するtimedeltaクラスのオブジェクトを作る\n",
    "\n",
    "# 一日後を得るには足し算を使う\n",
    "thedaynext = theday+oneday\n",
    "thedaynext   # 翌日の日付を表示"
   ]
  },
  {
   "cell_type": "code",
   "execution_count": null,
   "metadata": {},
   "outputs": [],
   "source": [
    "theday2 = date(2021, 12, 31)\n",
    "thedaynext2 = theday2+oneday\n",
    "thedaynext2"
   ]
  },
  {
   "cell_type": "code",
   "execution_count": null,
   "metadata": {},
   "outputs": [],
   "source": [
    "theday3 = date(2024, 2, 28)\n",
    "thedaynext3 = theday3+oneday\n",
    "thedaynext3"
   ]
  },
  {
   "cell_type": "markdown",
   "metadata": {},
   "source": [
    "※ スライドに戻ります"
   ]
  },
  {
   "cell_type": "code",
   "execution_count": null,
   "metadata": {},
   "outputs": [],
   "source": [
    "# アトリビュート\n",
    "theday = date(2021, 4, 30)\n",
    "\n",
    "theday.year   # 年を表示"
   ]
  },
  {
   "cell_type": "code",
   "execution_count": null,
   "metadata": {},
   "outputs": [],
   "source": [
    "f\"{theday.year}年{theday.month}月{theday.day}日\""
   ]
  },
  {
   "cell_type": "code",
   "execution_count": null,
   "metadata": {},
   "outputs": [],
   "source": [
    "# メソッドを使う\n",
    "# 2021年4月30日の曜日を得る\n",
    "# 月曜が0，日曜が6\n",
    "theday.weekday()"
   ]
  },
  {
   "cell_type": "code",
   "execution_count": null,
   "metadata": {},
   "outputs": [],
   "source": []
  }
 ],
 "metadata": {
  "kernelspec": {
   "display_name": "Python 3",
   "language": "python",
   "name": "python3"
  },
  "language_info": {
   "codemirror_mode": {
    "name": "ipython",
    "version": 3
   },
   "file_extension": ".py",
   "mimetype": "text/x-python",
   "name": "python",
   "nbconvert_exporter": "python",
   "pygments_lexer": "ipython3",
   "version": "3.7.3"
  }
 },
 "nbformat": 4,
 "nbformat_minor": 2
}
