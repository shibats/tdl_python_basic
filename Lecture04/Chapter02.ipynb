{
 "cells": [
  {
   "cell_type": "markdown",
   "metadata": {},
   "source": [
    "# Lecture 4 オブジェクト指向"
   ]
  },
  {
   "cell_type": "markdown",
   "metadata": {},
   "source": [
    "## 組み込み型とオブジェクト指向"
   ]
  },
  {
   "cell_type": "markdown",
   "metadata": {},
   "source": [
    "### オブジェクトとしての文字列"
   ]
  },
  {
   "cell_type": "code",
   "execution_count": null,
   "metadata": {},
   "outputs": [],
   "source": [
    "# 文字列は引き算ができない。\n",
    "s = 'あいうえお'\n",
    "s-'お'"
   ]
  },
  {
   "cell_type": "code",
   "execution_count": null,
   "metadata": {},
   "outputs": [],
   "source": [
    "# 文字列を取り除きたいときには\n",
    "# replace()メソッドを使う\n",
    "tomato = 'トマト'\n",
    "tomato.replace('ト', '')  # 結果を表示"
   ]
  },
  {
   "cell_type": "code",
   "execution_count": null,
   "metadata": {},
   "outputs": [],
   "source": [
    "numstr = '1,000'  # コンマ付きの数字(文字列)\n",
    "int(numstr)  # 整数に型変換しようとするとエラーになる"
   ]
  },
  {
   "cell_type": "code",
   "execution_count": null,
   "metadata": {},
   "outputs": [],
   "source": [
    "# 文字列を取り除きたいときには\n",
    "# 空の文字列\"\"を使ってreplace()する\n",
    "numstr.replace(\",\", \"\")"
   ]
  },
  {
   "cell_type": "code",
   "execution_count": null,
   "metadata": {},
   "outputs": [],
   "source": [
    "int(numstr.replace(',', ''))  # 整数に型変換"
   ]
  },
  {
   "cell_type": "markdown",
   "metadata": {},
   "source": [
    "### オブジェクトとしてのリスト"
   ]
  },
  {
   "cell_type": "code",
   "execution_count": null,
   "metadata": {},
   "outputs": [],
   "source": [
    "# リストの足し算\n",
    "l1 = [1, 2, 3]\n",
    "l2 = [4]\n",
    "# リストとリストの足し算をする必要がある\n",
    "l1+l2"
   ]
  },
  {
   "cell_type": "code",
   "execution_count": null,
   "metadata": {},
   "outputs": [],
   "source": [
    "# メソッドを使って末尾に要素を追加する\n",
    "l1 = [1, 2, 3]\n",
    "l1.append(4)   # リストに要素を追加\n",
    "l1"
   ]
  },
  {
   "cell_type": "code",
   "execution_count": null,
   "metadata": {},
   "outputs": [],
   "source": [
    "# 場所を指定して追加\n",
    "l1 = [1, 2, 3]\n",
    "l1.insert(2, 4)  # 0から数えて2番目に4を追加する\n",
    "l1"
   ]
  },
  {
   "cell_type": "code",
   "execution_count": null,
   "metadata": {},
   "outputs": [],
   "source": [
    "l = ['a', 'b', 'c', 'c']\n",
    "l.remove('c')  # 'c'を1つだけ取り除く\n",
    "l    # リスト自体が書き換わる"
   ]
  },
  {
   "cell_type": "markdown",
   "metadata": {},
   "source": [
    "※スライドに戻ります"
   ]
  },
  {
   "cell_type": "markdown",
   "metadata": {},
   "source": [
    "### 性質の似たデータ型の扱い"
   ]
  },
  {
   "cell_type": "code",
   "execution_count": null,
   "metadata": {},
   "outputs": [],
   "source": [
    "# リストの検索\n",
    "# 成り立つ時はTrueが，成り立たない時はFalseが返ってくる\n",
    "2 in [1, 2, 3, 4]"
   ]
  },
  {
   "cell_type": "code",
   "execution_count": null,
   "metadata": {},
   "outputs": [],
   "source": [
    "# 文字列の検索\n",
    "\"DEF\" in \"ABCDEFG\""
   ]
  },
  {
   "cell_type": "code",
   "execution_count": null,
   "metadata": {},
   "outputs": [],
   "source": [
    "# 場所(インデックス)を知りたい\n",
    "\"ABCDEFG\".index(\"DEF\")\n",
    "# index()メソッドを使うとインデックスが返ってくる"
   ]
  },
  {
   "cell_type": "code",
   "execution_count": null,
   "metadata": {},
   "outputs": [],
   "source": [
    "# リストにもindex()メソッドがある\n",
    "[1, 2, 3, 4].index(2)"
   ]
  },
  {
   "cell_type": "code",
   "execution_count": null,
   "metadata": {},
   "outputs": [],
   "source": [
    "s = \"1112223\"\n",
    "s.count(\"1\")   # 1が何個あるか数える"
   ]
  },
  {
   "cell_type": "code",
   "execution_count": null,
   "metadata": {},
   "outputs": [],
   "source": [
    "l = [0, 1, 1, 2, 2, 3]\n",
    "l.count(1)   # 1が何個あるか数える"
   ]
  },
  {
   "cell_type": "code",
   "execution_count": null,
   "metadata": {},
   "outputs": [],
   "source": [
    "# 3-3の例題，数値のリストから1の数を数えるコード\n",
    "t_part = [1, 0, 0, 0, 0, 1, 1, 0, 1, 0]\n",
    "t_cnt = 0  # 裏の数を初期化\n",
    "for h_t in t_part:  # リストの要素でループ\n",
    "    if h_t == 1:\n",
    "        # 取り出した要素が裏だったら\n",
    "        t_cnt += 1\n",
    "\n",
    "t_cnt # 結果を調べる"
   ]
  },
  {
   "cell_type": "code",
   "execution_count": null,
   "metadata": {},
   "outputs": [],
   "source": [
    "# メソッドを使うと1行で書ける\n",
    "t_part.count(1)"
   ]
  },
  {
   "cell_type": "markdown",
   "metadata": {},
   "source": [
    "### 便利なメソッド"
   ]
  },
  {
   "cell_type": "code",
   "execution_count": null,
   "metadata": {},
   "outputs": [],
   "source": [
    "# 文字列の分割\n",
    "ssep = \"1000 1200 1300 1100\"  # 空白で区切られた文字列\n",
    "list1 = ssep.split(\" \")  # 空白で「分割」して文字列のリストに変換\n",
    "list1"
   ]
  },
  {
   "cell_type": "code",
   "execution_count": null,
   "metadata": {},
   "outputs": [],
   "source": [
    "# 文字列の結合\n",
    "csep = \",\".join(list1)   # コンマで結合，コンマ区切りの文字列に変換\n",
    "csep"
   ]
  },
  {
   "cell_type": "code",
   "execution_count": null,
   "metadata": {},
   "outputs": [],
   "source": [
    "csep2 = \"10 15 24 34 \"  # 最後に余計な空白がついている\n",
    "csep2.split()    # 最後の空白は無視してくれる"
   ]
  },
  {
   "cell_type": "code",
   "execution_count": null,
   "metadata": {},
   "outputs": [],
   "source": [
    "# リストのソート(並び順の変更)，反転\n",
    "# 1から10までのランダムな数字リスト\n",
    "nlist = [3, 8, 10, 6, 7, 9, 2, 5, 4, 1]\n",
    "\n",
    "# 小さい順にソート(nlistのリスト自体が変更される)\n",
    "nlist.sort()\n",
    "nlist"
   ]
  },
  {
   "cell_type": "code",
   "execution_count": null,
   "metadata": {},
   "outputs": [],
   "source": [
    "nlist.reverse()  # ソート順を反転\n",
    "nlist"
   ]
  },
  {
   "cell_type": "code",
   "execution_count": null,
   "metadata": {},
   "outputs": [],
   "source": []
  }
 ],
 "metadata": {
  "kernelspec": {
   "display_name": "Python 3",
   "language": "python",
   "name": "python3"
  },
  "language_info": {
   "codemirror_mode": {
    "name": "ipython",
    "version": 3
   },
   "file_extension": ".py",
   "mimetype": "text/x-python",
   "name": "python",
   "nbconvert_exporter": "python",
   "pygments_lexer": "ipython3",
   "version": "3.7.3"
  }
 },
 "nbformat": 4,
 "nbformat_minor": 2
}
