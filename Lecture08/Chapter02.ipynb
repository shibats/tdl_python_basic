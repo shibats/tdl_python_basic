{
 "cells": [
  {
   "cell_type": "markdown",
   "metadata": {},
   "source": [
    "# Lecture 8 Pythonを読む・書く"
   ]
  },
  {
   "cell_type": "markdown",
   "metadata": {},
   "source": [
    "## プログラムを書き換えるコツ"
   ]
  },
  {
   "cell_type": "code",
   "execution_count": null,
   "metadata": {},
   "outputs": [],
   "source": [
    "# PythonでTwitterに投稿\n",
    "# 出典 : https://oku.edu.mie-u.ac.jp/~okumura/python/twitter.html"
   ]
  },
  {
   "cell_type": "code",
   "execution_count": null,
   "metadata": {},
   "outputs": [],
   "source": [
    "!pip install python-twitter"
   ]
  },
  {
   "cell_type": "code",
   "execution_count": null,
   "metadata": {},
   "outputs": [],
   "source": [
    "import twitter\n",
    "\n",
    "# OAuth認証を行いapiオブジェクトを作る\n",
    "api = twitter.Api(consumer_key='YOUR COMSUMER KEY',\n",
    "                  consumer_secret='YOUR CONSUMER SECRET',\n",
    "                  access_token_key='YOUR TOKEN KEY',\n",
    "                  access_token_secret='YOUR TOKEN SECRET',\n",
    "                  tweet_mode='extended',\n",
    "                  sleep_on_rate_limit=True)\n",
    "\n",
    "# 接続の確認\n",
    "api.VerifyCredentials()"
   ]
  },
  {
   "cell_type": "code",
   "execution_count": null,
   "metadata": {},
   "outputs": [],
   "source": [
    "# 投稿テストをする\n",
    "api.PostUpdate(\"投稿テストです\")"
   ]
  },
  {
   "cell_type": "code",
   "execution_count": null,
   "metadata": {},
   "outputs": [],
   "source": [
    "# Eメールの送信プログラム\n",
    "\n",
    "import smtplib\n",
    "from email.mime.text import MIMEText\n",
    "from email.utils import formatdate\n",
    "\n",
    "from_addr = \"YOUT@EMAIL.ADDR\"\n",
    "password = \"YOURPASSWORD\"\n",
    "subject = \"件名\"\n",
    "reciever_addr = \"reciever@email.addr\"\n",
    "body = \"メール本文\"\n",
    "\n",
    "server = smtplib.SMTP_SSL('smtp.gmail.com', 465, timeout=10)\n",
    "server.login(from_addr, password)\n",
    "\n",
    "# メール本文を作り，オブジェクトを得る\n",
    "message = MIMEText(body)\n",
    "message['Subject'] = subject\n",
    "message['From'] = from_addr\n",
    "message['To'] = reciever_addr\n",
    "message['Date'] = formatdate()\n",
    "\n",
    "# メールを送信する\n",
    "server_obj.sendmail(message[\"From\"], message[\"To\"],\n",
    "                        message.as_string())\n",
    "\n",
    "# サーバーとの接続を切る\n",
    "server.close()"
   ]
  },
  {
   "cell_type": "code",
   "execution_count": 1,
   "metadata": {},
   "outputs": [],
   "source": [
    "# Eメール送信プログラムを関数に分ける\n",
    "# オブジェクトの生成，消滅に注目すると分けやすい\n",
    "\n",
    "def open_connection(from_addr, password):\n",
    "    # Eメール送信サーバーに接続，オブジェクトを返す\n",
    "    server = smtplib.SMTP_SSL('smtp.gmail.com', 465, timeout=10)\n",
    "    server.login(from_addr, password)\n",
    "    return server\n",
    "\n",
    "\n",
    "def send_message(server, message):\n",
    "    # メールを送信する\n",
    "    server.sendmail(message[\"From\"], message[\"To\"],\n",
    "                            message.as_string())\n",
    "\n",
    "    \n",
    "def close_connection(server):\n",
    "    # サーバーとの接続を切る\n",
    "    server.close()\n",
    "\n",
    "\n",
    "def create_message(from_addr, to_addr,\n",
    "                                subject, body):\n",
    "    # メール本文を作り，オブジェクトを返す\n",
    "    message = MIMEText(body)\n",
    "    message['Subject'] = subject\n",
    "    message['From'] = from_addr\n",
    "    message['To'] = to_addr\n",
    "    message['Date'] = formatdate()\n",
    "    return message"
   ]
  },
  {
   "cell_type": "code",
   "execution_count": null,
   "metadata": {},
   "outputs": [],
   "source": [
    "from_addr = \"YOUT@EMAIL.ADDR\"\n",
    "password = \"YOURPASSWORD\"\n",
    "\n",
    "# サーバーへ接続，ログインする\n",
    "server = open_connection(from_addr, password)\n",
    "# メールを生成する\n",
    "message = create_message(from_addr, \"reciever@email.addr\",\n",
    "                                           \"ここに件名が入る\", \"ここに本文が入る\")\n",
    "# メールを送る\n",
    "send_message(server, message)\n",
    "# サーバーとの接続を切る\n",
    "close_connection()"
   ]
  },
  {
   "cell_type": "code",
   "execution_count": null,
   "metadata": {},
   "outputs": [],
   "source": [
    "# 名前とアドレスのリスト(タプルのリスト)\n",
    "addrs = [(\"勇者\", \"hero@email.org\"),\n",
    "              (\"魔法使い\", \"magician@email.org\"),\n",
    "              (\"僧侶\", \"monk@email.org\"),]"
   ]
  },
  {
   "cell_type": "code",
   "execution_count": null,
   "metadata": {},
   "outputs": [],
   "source": [
    "# サーバーへ接続，ログインする\n",
    "server = open_connection(from_addr, password)\n",
    "\n",
    "# 名前とアドレスでループ\n",
    "for name, address in addrs:\n",
    "    # メールを生成する\n",
    "    subject = f\"{name}さんへ\"\n",
    "    body = f\"{name}さん，お元気ですか？\"\"\n",
    "    message = create_message(from_addr, address,\n",
    "                                               subject, body)\n",
    "    # メールを送る\n",
    "    send_message(server, message)\n",
    "\n",
    "# サーバーとの接続を切る\n",
    "close_connection()"
   ]
  },
  {
   "cell_type": "code",
   "execution_count": null,
   "metadata": {},
   "outputs": [],
   "source": []
  }
 ],
 "metadata": {
  "kernelspec": {
   "display_name": "Python 3",
   "language": "python",
   "name": "python3"
  },
  "language_info": {
   "codemirror_mode": {
    "name": "ipython",
    "version": 3
   },
   "file_extension": ".py",
   "mimetype": "text/x-python",
   "name": "python",
   "nbconvert_exporter": "python",
   "pygments_lexer": "ipython3",
   "version": "3.7.3"
  }
 },
 "nbformat": 4,
 "nbformat_minor": 2
}
