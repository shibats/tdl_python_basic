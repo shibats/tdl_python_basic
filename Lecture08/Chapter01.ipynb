{
 "cells": [
  {
   "cell_type": "markdown",
   "metadata": {},
   "source": [
    "# Lecture 8 Pythonを読む・書く"
   ]
  },
  {
   "cell_type": "markdown",
   "metadata": {},
   "source": [
    "## プログラムを読むコツ"
   ]
  },
  {
   "cell_type": "code",
   "execution_count": null,
   "metadata": {},
   "outputs": [],
   "source": [
    "def random(seed):\n",
    "    # 疑似乱数を生成する関数\n",
    "\n",
    "    # 定数を定義\n",
    "    M=2**32\n",
    "    A=1664525\n",
    "    C=1013904223\n",
    "    seed = (A*seed + C) % M\n",
    "    return seed"
   ]
  },
  {
   "cell_type": "code",
   "execution_count": null,
   "metadata": {},
   "outputs": [],
   "source": [
    "random(0)   # seed値を固定して呼び出す"
   ]
  },
  {
   "cell_type": "code",
   "execution_count": null,
   "metadata": {},
   "outputs": [],
   "source": [
    "seed = 0   # seed値を初期化"
   ]
  },
  {
   "cell_type": "code",
   "execution_count": null,
   "metadata": {},
   "outputs": [],
   "source": [
    "# seed値を更新しながら呼び出す\n",
    "seed = random(seed)\n",
    "seed\n",
    "\n",
    "# 疑似乱数の仕組みを知っていないと\n",
    "# 読めない，使えない"
   ]
  },
  {
   "cell_type": "code",
   "execution_count": null,
   "metadata": {},
   "outputs": [],
   "source": [
    "# 疑似乱数の「ランダムさ」を調べる\n",
    "from collections import Counter\n",
    "import matplotlib.pyplot as plt\n",
    "\n",
    "seed = 0\n",
    "result1 = []\n",
    "for i in range(100000):\n",
    "    seed = random(seed)\n",
    "    result1.append(seed % 4096)\n",
    "\n",
    "c1 = Counter(result1)\n",
    "plt.bar(c1.keys(), c1.values())"
   ]
  },
  {
   "cell_type": "code",
   "execution_count": null,
   "metadata": {},
   "outputs": [],
   "source": [
    "# PythonでEメールを送る\n",
    "# 出典 : https://qiita.com/nakasuke_/items/607cf74d8841f76e59c6\n",
    "# 上記URLの設定を参考に，二段階認証をOnにした上\n",
    "# アプリパスワードを作成してパスワードとして利用して下さい"
   ]
  },
  {
   "cell_type": "code",
   "execution_count": null,
   "metadata": {},
   "outputs": [],
   "source": [
    "# ライブラリのインポート\n",
    "import smtplib\n",
    "from email.mime.text import MIMEText\n",
    "from email.utils import formatdate"
   ]
  },
  {
   "cell_type": "code",
   "execution_count": null,
   "metadata": {},
   "outputs": [],
   "source": [
    "# Eメール送信サーバーに接続，オブジェクトを得る\n",
    "server = smtplib.SMTP_SSL('smtp.gmail.com', 465, timeout=10)\n",
    "server.login(\"YOUR@EMAIL.ADDR\", \"YOURPASSWORD\")\n",
    "\n",
    "# メール本文を作り，オブジェクトを得る\n",
    "message = MIMEText(\"メール本文\")\n",
    "message['Subject'] = \"件名\"\n",
    "message['From'] = \"YOUR@EMAIL.ADDR\"\n",
    "message['To'] = \"receiver@email.addr\"\n",
    "message['Date'] = formatdate()\n",
    "\n",
    "# メールを送信する\n",
    "server.sendmail(message[\"From\"], message[\"To\"],\n",
    "                        message.as_string())\n",
    "\n",
    "# サーバーとの接続を切る\n",
    "server.close()\n"
   ]
  },
  {
   "cell_type": "code",
   "execution_count": null,
   "metadata": {},
   "outputs": [],
   "source": [
    "# 変更する部分を変数に置き換える\n",
    "from_addr = \"YOUR@EMAIL.ADDR\"\n",
    "password = \"YOURPASSWORD\"\n",
    "subject = \"件名\"\n",
    "receiver_addr = \"receiver@email.addr\"\n",
    "body = \"メール本文\"\n",
    "\n",
    "server = smtplib.SMTP_SSL('smtp.gmail.com', 465, timeout=10)\n",
    "server.login(from_addr, password)\n",
    "\n",
    "# メール本文を作り，オブジェクトを得る\n",
    "message = MIMEText(body)\n",
    "message['Subject'] = subject\n",
    "message['From'] = from_addr\n",
    "message['To'] = receiver_addr\n",
    "message['Date'] = formatdate() # 送信時の日付文字列を代入\n",
    "\n",
    "# メールを送信する\n",
    "server.sendmail(message[\"From\"], message[\"To\"],\n",
    "                        message.as_string())\n",
    "\n",
    "# サーバーとの接続を切る\n",
    "server.close()\n"
   ]
  },
  {
   "cell_type": "code",
   "execution_count": null,
   "metadata": {},
   "outputs": [],
   "source": []
  }
 ],
 "metadata": {
  "kernelspec": {
   "display_name": "Python 3",
   "language": "python",
   "name": "python3"
  },
  "language_info": {
   "codemirror_mode": {
    "name": "ipython",
    "version": 3
   },
   "file_extension": ".py",
   "mimetype": "text/x-python",
   "name": "python",
   "nbconvert_exporter": "python",
   "pygments_lexer": "ipython3",
   "version": "3.7.3"
  }
 },
 "nbformat": 4,
 "nbformat_minor": 2
}
