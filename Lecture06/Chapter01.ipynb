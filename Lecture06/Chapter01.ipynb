{
 "cells": [
  {
   "cell_type": "markdown",
   "metadata": {},
   "source": [
    "# Lecture 6 辞書型と名前空間"
   ]
  },
  {
   "cell_type": "markdown",
   "metadata": {},
   "source": [
    "## 辞書型"
   ]
  },
  {
   "cell_type": "code",
   "execution_count": null,
   "metadata": {},
   "outputs": [],
   "source": [
    "# 辞書型を作る\n",
    "# リストに要素を登録する\n",
    "address_l = [\"100-0014\", \"東京都千代田区永田町1-7−1\", \"国会議事堂\"]\n",
    "\n",
    "# 住所は0から数えて1番目なので…(なんかつらい)\n",
    "address_l[1]"
   ]
  },
  {
   "cell_type": "code",
   "execution_count": null,
   "metadata": {},
   "outputs": [],
   "source": [
    "# 辞書型はリストのように\n",
    "# 複数の要素を追加して管理するデータ型\n",
    "# リストは順番(インデックス)で管理するが\n",
    "# 辞書は見出し(キー)で管理する\n",
    "\n",
    "# 辞書に見出しをつけて要素を登録する\n",
    "address_d = {\"郵便番号\":\"100-0014\",\n",
    "             \"住所\":\"東京都千代田区永田町1-7−1\",\n",
    "             \"名称\":\"国会議事堂\"}\n",
    "# キー(文字列)を与えて要素を取り出す\n",
    "address_d[\"郵便番号\"], address_d[\"住所\"]"
   ]
  },
  {
   "cell_type": "code",
   "execution_count": null,
   "metadata": {},
   "outputs": [],
   "source": [
    "# 辞書とループ\n",
    "\n",
    "# キー一覧を取り出す\n",
    "for key in address_d:\n",
    "    print(key)  # 取り出したキーを表示"
   ]
  },
  {
   "cell_type": "code",
   "execution_count": null,
   "metadata": {},
   "outputs": [],
   "source": [
    "# リストの要素を更新\n",
    "\n",
    "profits = [1594, 1607, 1672, 1699, 1703]  # 過去5年の利益\n",
    "profits[2] = 1604  # 0から数えて2番目の要素を置き換える\n",
    "profits  # 表示する"
   ]
  },
  {
   "cell_type": "code",
   "execution_count": null,
   "metadata": {},
   "outputs": [],
   "source": [
    "# 辞書の要素を更新\n",
    "\n",
    "address_d = {\"郵便番号\":\"100-0014\",\n",
    "             \"住所\":\"東京都千代田区永田町1-7−1\",\n",
    "             \"名称\":\"国会議事堂\"}\n",
    "\n",
    "address_d[\"名称\"] = \"衆議院\"\n",
    "address_d   # 表示する"
   ]
  },
  {
   "cell_type": "code",
   "execution_count": null,
   "metadata": {},
   "outputs": [],
   "source": [
    "# キーの存在確認\n",
    "if \"名称\" in address_d:\n",
    "    print(address_d[\"名称\"])"
   ]
  },
  {
   "cell_type": "code",
   "execution_count": null,
   "metadata": {},
   "outputs": [],
   "source": [
    "if \"電話番号\" in address_d:\n",
    "    print(address_d[\"電話番号\"])\n",
    "else:\n",
    "    print(\"電話番号というキーはありません。\")"
   ]
  },
  {
   "cell_type": "code",
   "execution_count": null,
   "metadata": {},
   "outputs": [],
   "source": [
    "# 要素の追加(新しいキーに対して代入)\n",
    "address_d[\"電話番号\"] = \"123-4567-8900\"\n",
    "\n",
    "# 確認\n",
    "address_d"
   ]
  },
  {
   "cell_type": "code",
   "execution_count": null,
   "metadata": {},
   "outputs": [],
   "source": [
    "# 要素の削除\n",
    "del address_d[\"電話番号\"]\n",
    "\n",
    "# 確認\n",
    "address_d"
   ]
  },
  {
   "cell_type": "markdown",
   "metadata": {},
   "source": [
    "※ スライドに戻ります"
   ]
  },
  {
   "cell_type": "markdown",
   "metadata": {},
   "source": [
    "### 辞書型のメソッド"
   ]
  },
  {
   "cell_type": "code",
   "execution_count": null,
   "metadata": {},
   "outputs": [],
   "source": [
    "# 辞書を使った要素の更新\n",
    "new_d = {\"管理者\":\"日本国\"}\n",
    "address_d.update(new_d)\n",
    "\n",
    "# 確認\n",
    "address_d"
   ]
  },
  {
   "cell_type": "code",
   "execution_count": null,
   "metadata": {},
   "outputs": [],
   "source": [
    "new_d = {\"管理者\":\"日本国\"}\n",
    "address_d.update(new_d)\n",
    "\n",
    "# 確認\n",
    "address_d"
   ]
  },
  {
   "cell_type": "code",
   "execution_count": null,
   "metadata": {},
   "outputs": [],
   "source": [
    "# ループ\n",
    "# キーによるループ\n",
    "for key in address_d:\n",
    "    print(key, address_d[key])"
   ]
  },
  {
   "cell_type": "code",
   "execution_count": null,
   "metadata": {},
   "outputs": [],
   "source": [
    "for key in address_d.keys():\n",
    "    print(key, address_d[key])"
   ]
  },
  {
   "cell_type": "code",
   "execution_count": null,
   "metadata": {},
   "outputs": [],
   "source": [
    "# 値によるループ\n",
    "for value in address_d.values():\n",
    "    print(value)"
   ]
  },
  {
   "cell_type": "code",
   "execution_count": null,
   "metadata": {},
   "outputs": [],
   "source": [
    "# キーと値を両方取り出す\n",
    "for key, value in address_d.items():\n",
    "    print(key, value)"
   ]
  },
  {
   "cell_type": "code",
   "execution_count": null,
   "metadata": {},
   "outputs": [],
   "source": [
    "# 存在しないキーを参照しようとするとエラーになる\n",
    "address_d[\"電話番号\"]"
   ]
  },
  {
   "cell_type": "code",
   "execution_count": null,
   "metadata": {},
   "outputs": [],
   "source": [
    "# エラーを回避するには\n",
    "if \"電話番号\" in address_d:\n",
    "    print(address_d[\"電話番号\"])\n",
    "else:\n",
    "    print(\"電話番号は登録されていません\")"
   ]
  },
  {
   "cell_type": "code",
   "execution_count": null,
   "metadata": {},
   "outputs": [],
   "source": [
    "# get()メソッドを使う\n",
    "address_d.get(\"住所\")"
   ]
  },
  {
   "cell_type": "code",
   "execution_count": null,
   "metadata": {},
   "outputs": [],
   "source": [
    "# キーがなかったときに参照する値\n",
    "address_d.get(\"電話番号\", \"N/A\")"
   ]
  },
  {
   "cell_type": "markdown",
   "metadata": {},
   "source": [
    "※ スライドに戻ります"
   ]
  },
  {
   "cell_type": "code",
   "execution_count": null,
   "metadata": {},
   "outputs": [],
   "source": []
  }
 ],
 "metadata": {
  "kernelspec": {
   "display_name": "Python 3",
   "language": "python",
   "name": "python3"
  },
  "language_info": {
   "codemirror_mode": {
    "name": "ipython",
    "version": 3
   },
   "file_extension": ".py",
   "mimetype": "text/x-python",
   "name": "python",
   "nbconvert_exporter": "python",
   "pygments_lexer": "ipython3",
   "version": "3.7.3"
  }
 },
 "nbformat": 4,
 "nbformat_minor": 2
}
