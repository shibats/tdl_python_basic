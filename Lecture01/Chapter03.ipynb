{
 "cells": [
  {
   "cell_type": "markdown",
   "metadata": {},
   "source": [
    "# Lecture 1 計算"
   ]
  },
  {
   "cell_type": "markdown",
   "metadata": {},
   "source": [
    "## Chapter 3 関数とループ "
   ]
  },
  {
   "cell_type": "markdown",
   "metadata": {},
   "source": [
    "### 関数"
   ]
  },
  {
   "cell_type": "markdown",
   "metadata": {},
   "source": [
    "#### 単振動のプログラムを関数にする"
   ]
  },
  {
   "cell_type": "code",
   "execution_count": null,
   "metadata": {},
   "outputs": [],
   "source": [
    "# 単振動(振り子の周期)\n",
    "G = 9.8   # 重力加速度 : 定数\n",
    "l = 10    # 振り子の長さ : 変数m = l/100 # 長さをmに直す\n",
    "m = l/100 # 長さをmに直す\n",
    "a = (m/G)**0.5  # ルートの部分を計算\n",
    "a = 2*3.14*a  # 残りの計算を実行\n",
    "a  # 結果を表示"
   ]
  },
  {
   "cell_type": "code",
   "execution_count": null,
   "metadata": {},
   "outputs": [],
   "source": [
    "def shm(l):\n",
    "    # 単振動の周期を計算する関数\n",
    "    # 振り子の長さをl(cm)に渡す\n",
    "    G = 9.8   # 重力加速度 : 定数\n",
    "    m = l/100 # 長さをmに直す\n",
    "    a = (m/G)**0.5  # ルートの部分を計算\n",
    "    a = 2*3.14*a  # 残りの計算を実行\n",
    "    return a  # 結果を返す"
   ]
  },
  {
   "cell_type": "code",
   "execution_count": null,
   "metadata": {},
   "outputs": [],
   "source": [
    "shm(10)   # 関数を使う"
   ]
  },
  {
   "cell_type": "code",
   "execution_count": null,
   "metadata": {},
   "outputs": [],
   "source": [
    "def dindex(temp, humid):\n",
    "    \"\"\"\n",
    "    不快指数を計算する関数\n",
    "    tempに気温，humidに湿度を渡す\n",
    "    \"\"\"\n",
    "    c_temp = 0.81*temp\n",
    "    c_humid = 0.01*humid\n",
    "    c_humid = c_humid*(0.99*temp-14.3)\n",
    "    idx = c_temp+c_humid+46.3\n",
    "    return idx"
   ]
  },
  {
   "cell_type": "code",
   "execution_count": null,
   "metadata": {},
   "outputs": [],
   "source": [
    "dindex(23, 69)"
   ]
  },
  {
   "cell_type": "code",
   "execution_count": null,
   "metadata": {},
   "outputs": [],
   "source": [
    "# 色々な値を渡して計算する\n",
    "shm(20)"
   ]
  },
  {
   "cell_type": "code",
   "execution_count": null,
   "metadata": {},
   "outputs": [],
   "source": [
    "# 色々な値を渡して計算する\n",
    "shm(30)"
   ]
  },
  {
   "cell_type": "code",
   "execution_count": null,
   "metadata": {},
   "outputs": [],
   "source": [
    "# 比べてみよう\n",
    "# 関数を使わない場合\n",
    "G = 9.8   # 重力加速度 : 定数\n",
    "l = 10    # 振り子の長さ : 変数m = l/100 # 長さをmに直す\n",
    "m = l/100 # 長さをmに直す\n",
    "a = (m/G)**0.5  # ルートの部分を計算\n",
    "a = 2*3.14*a  # 残りの計算を実行\n",
    "a  # 結果を表示"
   ]
  },
  {
   "cell_type": "code",
   "execution_count": null,
   "metadata": {},
   "outputs": [],
   "source": [
    "l = 20    # 振り子の長さ : 変数m = l/100 # 長さをmに直す\n",
    "m = l/100 # 長さをmに直す\n",
    "a = (m/G)**0.5  # ルートの部分を計算\n",
    "a = 2*3.14*a  # 残りの計算を実行\n",
    "a  # 結果を表示"
   ]
  },
  {
   "cell_type": "code",
   "execution_count": null,
   "metadata": {},
   "outputs": [],
   "source": [
    "l = 30    # 振り子の長さ : 変数m = l/100 # 長さをmに直す\n",
    "m = l/100 # 長さをmに直す\n",
    "a = (m/G)**0.5  # ルートの部分を計算\n",
    "a = 2*3.14*a  # 残りの計算を実行\n",
    "a  # 結果を表示"
   ]
  },
  {
   "cell_type": "code",
   "execution_count": null,
   "metadata": {},
   "outputs": [],
   "source": [
    "# print()関数を使う\n",
    "a = shm(10) # 10センチの周期を計算\n",
    "print(a)  # 結果を表示\n",
    "a = shm(20) # 20センチの周期を計算\n",
    "print(a)  # 結果を表示\n",
    "a = shm(30) # 30センチの周期を計算\n",
    "print(a)  # 結果を表示"
   ]
  },
  {
   "cell_type": "markdown",
   "metadata": {},
   "source": [
    "※スライドに戻ります"
   ]
  },
  {
   "cell_type": "markdown",
   "metadata": {},
   "source": [
    "### ループ\n",
    "\n",
    "プログラムの一部分を繰り返して実行する。"
   ]
  },
  {
   "cell_type": "code",
   "execution_count": null,
   "metadata": {},
   "outputs": [],
   "source": [
    "print(shm(20))  # 20センチの周期を計算\n",
    "print(shm(21)) # 21センチの周期を計算\n",
    "print(shm(22)) # 22センチの周期を計算"
   ]
  },
  {
   "cell_type": "code",
   "execution_count": null,
   "metadata": {},
   "outputs": [],
   "source": [
    "# ループ(for文)を使う\n",
    "for l in range(30):\n",
    "    a = shm(l)  # lの長さの周期を計算\n",
    "    print(a)      # 結果を表示"
   ]
  },
  {
   "cell_type": "code",
   "execution_count": null,
   "metadata": {},
   "outputs": [],
   "source": [
    "# ループ(for文)を使う\n",
    "for l in range(30):\n",
    "    a = shm(l)\n",
    "    print(l, a)    # 長さと結果を同時に表示"
   ]
  },
  {
   "cell_type": "markdown",
   "metadata": {},
   "source": [
    "#### グラフに描画してみる"
   ]
  },
  {
   "cell_type": "code",
   "execution_count": null,
   "metadata": {},
   "outputs": [],
   "source": [
    "!pip install tdl_pybasic  # 準備(その1)"
   ]
  },
  {
   "cell_type": "code",
   "execution_count": null,
   "metadata": {},
   "outputs": [],
   "source": [
    "# 準備(その2)\n",
    "from tdl_pybasic.draw_graph import store_data, draw_graph"
   ]
  },
  {
   "cell_type": "code",
   "execution_count": null,
   "metadata": {},
   "outputs": [],
   "source": [
    "for l in range(30):\n",
    "    a = shm(l)\n",
    "    store_data(a) # 数値を登録\n",
    "# 登録した30個のデータを使ってグラフを表示\n",
    "draw_graph()"
   ]
  },
  {
   "cell_type": "markdown",
   "metadata": {},
   "source": [
    "※スライドに戻ります"
   ]
  }
 ],
 "metadata": {
  "kernelspec": {
   "display_name": "Python 3",
   "language": "python",
   "name": "python3"
  },
  "language_info": {
   "codemirror_mode": {
    "name": "ipython",
    "version": 3
   },
   "file_extension": ".py",
   "mimetype": "text/x-python",
   "name": "python",
   "nbconvert_exporter": "python",
   "pygments_lexer": "ipython3",
   "version": "3.7.3"
  }
 },
 "nbformat": 4,
 "nbformat_minor": 2
}
