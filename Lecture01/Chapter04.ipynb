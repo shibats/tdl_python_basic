{
 "cells": [
  {
   "cell_type": "markdown",
   "metadata": {},
   "source": [
    "# Lecture 1 計算"
   ]
  },
  {
   "cell_type": "markdown",
   "metadata": {},
   "source": [
    "## Chapter 4 加減算と微積分 "
   ]
  },
  {
   "cell_type": "code",
   "execution_count": null,
   "metadata": {},
   "outputs": [],
   "source": [
    "# グラフ描画の準備\n",
    "!pip install tdl_pybasic\n",
    "from tdl_pybasic.draw_graph import store_data, draw_graph"
   ]
  },
  {
   "cell_type": "code",
   "execution_count": null,
   "metadata": {},
   "outputs": [],
   "source": [
    "value = 0  # 値の初期値を0に\n",
    "slope = 0  # 傾きの初期値を0に\n",
    "for i in range(20):\n",
    "    # 傾きを2ずつ増加\n",
    "    slope = slope + 2\n",
    "    # 増加してゆく傾きを値に加算\n",
    "    value = value + slope\n",
    "    print(value)"
   ]
  },
  {
   "cell_type": "code",
   "execution_count": null,
   "metadata": {},
   "outputs": [],
   "source": [
    "value = 0  # 値の初期値を0に\n",
    "slope = 0  # 傾きの初期値を0に\n",
    "for i in range(20):\n",
    "    # 傾きを2ずつ増加\n",
    "    slope = slope + 2\n",
    "    # 増加してゆく傾きを値に加算\n",
    "    value = value + slope\n",
    "    # 値を登録\n",
    "    store_data(value)\n",
    "\n",
    "draw_graph()  # グラフを描画"
   ]
  },
  {
   "cell_type": "code",
   "execution_count": null,
   "metadata": {},
   "outputs": [],
   "source": [
    "# 二次関数のグラフ(放物線)を描く\n",
    "\n",
    "for i in range(20):\n",
    "    value = i ** 2\n",
    "    store_data(value)\n",
    "\n",
    "\n",
    "draw_graph()\n"
   ]
  },
  {
   "cell_type": "code",
   "execution_count": null,
   "metadata": {},
   "outputs": [],
   "source": [
    "# 足し算だけでグラフを描く\n",
    "value = -1\n",
    "slope = -1\n",
    "for i in range(20):\n",
    "    store_data(value)\n",
    "    slope = slope + 2\n",
    "    value = value + slope\n",
    "\n",
    "draw_graph()\n",
    "\n",
    "# 重なるように放物線を描く\n",
    "for i in range(20):\n",
    "    value = i ** 2\n",
    "    store_data(value)\n",
    "\n",
    "draw_graph()"
   ]
  },
  {
   "cell_type": "markdown",
   "metadata": {},
   "source": [
    "※ スライドに戻ります"
   ]
  },
  {
   "cell_type": "code",
   "execution_count": null,
   "metadata": {},
   "outputs": [],
   "source": [
    "value = 0\n",
    "slope = 24\n",
    "for i in range(24):\n",
    "    store_data(value)\n",
    "    slope = slope - 2\n",
    "    value = value + slope\n",
    "\n",
    "draw_graph()"
   ]
  },
  {
   "cell_type": "markdown",
   "metadata": {},
   "source": [
    "※ スライドに戻ります"
   ]
  },
  {
   "cell_type": "code",
   "execution_count": null,
   "metadata": {},
   "outputs": [],
   "source": [
    "# 半径1の円で，yがからxを計算する\n",
    "y = 0.5       # yの値を代入\n",
    "x = (1-y**2)**0.5  # xの値を計算\n",
    "x"
   ]
  },
  {
   "cell_type": "code",
   "execution_count": null,
   "metadata": {},
   "outputs": [],
   "source": [
    "# 上の式を関数にする\n",
    "def calc_x(y):\n",
    "    # 半径1の円で，yがからxを計算する\n",
    "    x = (1-y**2)**0.5\n",
    "    return x  # 計算結果を戻り値とする"
   ]
  },
  {
   "cell_type": "code",
   "execution_count": null,
   "metadata": {},
   "outputs": [],
   "source": [
    "calc_x(0.5)   # 関数を試す"
   ]
  },
  {
   "cell_type": "code",
   "execution_count": null,
   "metadata": {},
   "outputs": [],
   "source": [
    "# ループ部分を試す\n",
    "d = 10  # 分割数\n",
    "for i in range(d+1):\n",
    "    y = i/(d/2)-1  # ループ変数をyに変換する\n",
    "    print(y)"
   ]
  },
  {
   "cell_type": "code",
   "execution_count": null,
   "metadata": {},
   "outputs": [],
   "source": [
    "# 円の面積(長方形近似)を求める\n",
    "d = 10 # 分割数\n",
    "area = 0  # 面積を足す変数を初期化\n",
    "for i in range(d+1):\n",
    "    y = i/(d/2)-1  # ループ変数をyに変換する\n",
    "    x = calc_x(y)   # xを計算\n",
    "    rect = (x*2)*(2/d)   # 長方形の面積を計算\n",
    "    area += rect   # 面積に加算\n",
    "area  # 結果を表示"
   ]
  },
  {
   "cell_type": "code",
   "execution_count": null,
   "metadata": {},
   "outputs": [],
   "source": []
  }
 ],
 "metadata": {
  "kernelspec": {
   "display_name": "Python 3",
   "language": "python",
   "name": "python3"
  },
  "language_info": {
   "codemirror_mode": {
    "name": "ipython",
    "version": 3
   },
   "file_extension": ".py",
   "mimetype": "text/x-python",
   "name": "python",
   "nbconvert_exporter": "python",
   "pygments_lexer": "ipython3",
   "version": "3.7.3"
  }
 },
 "nbformat": 4,
 "nbformat_minor": 2
}
