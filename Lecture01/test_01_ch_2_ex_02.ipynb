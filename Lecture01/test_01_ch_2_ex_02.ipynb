{
 "cells": [
  {
   "cell_type": "code",
   "execution_count": null,
   "metadata": {},
   "outputs": [],
   "source": [
    "# 単振動(振り子の周期)\n",
    "G = 9.8   # 重力加速度 : 定数\n",
    "l = 10    # 振り子の長さ : 変数\n",
    "m = l/100 # 長さをmに直す\n",
    "[空欄1]\n",
    "a = 2*3.14*a  # 残りの計算を実行\n",
    "a  # 結果を表示すると0.6343757979787883となります"
   ]
  },
  {
   "cell_type": "code",
   "execution_count": null,
   "metadata": {},
   "outputs": [],
   "source": []
  }
 ],
 "metadata": {
  "kernelspec": {
   "display_name": "Python 3",
   "language": "python",
   "name": "python3"
  },
  "language_info": {
   "codemirror_mode": {
    "name": "ipython",
    "version": 3
   },
   "file_extension": ".py",
   "mimetype": "text/x-python",
   "name": "python",
   "nbconvert_exporter": "python",
   "pygments_lexer": "ipython3",
   "version": "3.7.3"
  }
 },
 "nbformat": 4,
 "nbformat_minor": 2
}
