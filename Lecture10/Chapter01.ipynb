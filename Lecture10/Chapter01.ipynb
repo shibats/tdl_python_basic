{
 "cells": [
  {
   "cell_type": "markdown",
   "metadata": {},
   "source": [
    "# Lecture 10 ディープラーニングに挑戦"
   ]
  },
  {
   "cell_type": "markdown",
   "metadata": {},
   "source": [
    "## 回帰"
   ]
  },
  {
   "cell_type": "code",
   "execution_count": null,
   "metadata": {},
   "outputs": [],
   "source": [
    "# https://www.haya-programming.com/entry/2019/07/14/043223\n",
    "# まずはWebページにあるPythonのプログラムを動かしてみる"
   ]
  },
  {
   "cell_type": "code",
   "execution_count": null,
   "metadata": {},
   "outputs": [],
   "source": [
    "import numpy as np\n",
    "import matplotlib.pyplot as plt\n",
    "from sklearn.preprocessing import PolynomialFeatures\n",
    "from sklearn.linear_model import LinearRegression\n",
    "from sklearn.pipeline import Pipeline\n",
    "\n",
    "def main():\n",
    "    np.random.seed(0)\n",
    "    x = np.linspace(-3, 3, 40)\n",
    "    y = 2 + 2 * x + 2 * x ** 2 - 2 * x ** 3 +\\\n",
    "        np.random.normal(scale=10, size=x.shape)\n",
    "    X = x.reshape(-1, 1)\n",
    "\n",
    "    pf = PolynomialFeatures(degree=3, include_bias=True)\n",
    "    lr = LinearRegression()\n",
    "    pl = Pipeline([(\"PF\", pf), (\"LR\", lr)])\n",
    "    pl.fit(X, y)\n",
    "\n",
    "    pred_y = pl.predict(X)\n",
    "    plt.scatter(x, y, c=\"b\", alpha=0.2)\n",
    "    plt.plot(x, pred_y, c=\"b\")\n",
    "    plt.title(    \n",
    "        \"predicted model: \"\n",
    "        \"{0:.2f} + {1:.2f}x + {2:.2f}x^2 + \"\n",
    "        \"{3:.2f}x^3\".format(\n",
    "            pl.named_steps.LR.intercept_,\n",
    "            *pl.named_steps.LR.coef_))\n",
    "    plt.show()"
   ]
  },
  {
   "cell_type": "code",
   "execution_count": null,
   "metadata": {},
   "outputs": [],
   "source": [
    "main()"
   ]
  },
  {
   "cell_type": "code",
   "execution_count": null,
   "metadata": {},
   "outputs": [],
   "source": [
    "# データを作っている箇所だけ実行してみる\n",
    "np.random.seed(0)\n",
    "x = np.linspace(-3, 3, 40)\n",
    "y = 2 + 2 * x + 2 * x ** 2 - 2 * x ** 3 +\\\n",
    "    np.random.normal(scale=10, size=x.shape)"
   ]
  },
  {
   "cell_type": "code",
   "execution_count": null,
   "metadata": {},
   "outputs": [],
   "source": [
    "x  # xを確認"
   ]
  },
  {
   "cell_type": "code",
   "execution_count": null,
   "metadata": {},
   "outputs": [],
   "source": [
    "y  # yを確認"
   ]
  },
  {
   "cell_type": "code",
   "execution_count": null,
   "metadata": {},
   "outputs": [],
   "source": [
    "# reshape()は何をしているのか\n",
    "X = x.reshape(-1, 1)\n",
    "X"
   ]
  },
  {
   "cell_type": "code",
   "execution_count": null,
   "metadata": {},
   "outputs": [],
   "source": [
    "# 株価データを読み込む\n",
    "import pandas as pd\n",
    "url = \"https://raw.githubusercontent.com/shibats/tdl_python_basic/main/Lecture05/stock_chart.csv\"\n",
    "pd = pd.read_csv(url)\n",
    "df[:10]  # 10件のデータを確認"
   ]
  },
  {
   "cell_type": "code",
   "execution_count": null,
   "metadata": {},
   "outputs": [],
   "source": [
    "close = df[\"close\"][10:40]  # 終値だけ取り出す(30件)\n",
    "close[:10]  # 10件を表示"
   ]
  },
  {
   "cell_type": "code",
   "execution_count": null,
   "metadata": {},
   "outputs": [],
   "source": [
    "# 入力データを入れ替える\n",
    "y = close.values # ndarrayを取り出す\n",
    "x = np.linspace(0, 30, 30) # xを生成\n",
    "X = x.reshape(-1, 1)\n",
    "plt.ylim(5000, 6000) # Y軸の描画範囲を指定\n",
    "\n",
    "pf = PolynomialFeatures(degree=3, include_bias=True)\n",
    "lr = LinearRegression()\n",
    "pl = Pipeline([(\"PF\", pf), (\"LR\", lr)])\n",
    "pl.fit(X, y)\n",
    "\n",
    "pred_y = pl.predict(X)\n",
    "plt.scatter(x, y, c=\"b\", alpha=0.2)\n",
    "plt.plot(x, pred_y, c=\"b\")\n",
    "plt.show()"
   ]
  },
  {
   "cell_type": "code",
   "execution_count": null,
   "metadata": {},
   "outputs": [],
   "source": [
    "y = close.values # ndarrayを取り出す\n",
    "x = np.linspace(0, 30, 30) # x軸を生成\n",
    "X = x.reshape(-1, 1)\n",
    "plt.ylim(5000, 6000) # Y軸の描画範囲を指定\n",
    "pf = PolynomialFeatures(degree=3, include_bias=True)\n",
    "lr = LinearRegression()\n",
    "pl = Pipeline([(\"PF\", pf), (\"LR\", lr)])\n",
    "pl.fit(X, y)\n",
    "\n",
    "# 30を40に伸ばしてxを生成\n",
    "x2 = np.linspace(0, 40, 40) \n",
    "X2 = x2.reshape(-1, 1)\n",
    "pred_y = pl.predict(X2)\n",
    "plt.scatter(x2, df[\"close\"][:40].values, c=\"b\", alpha=0.2)\n",
    "\n",
    "plt.plot(x2, pred_y, c=\"b\")\n",
    "plt.show()"
   ]
  },
  {
   "cell_type": "code",
   "execution_count": null,
   "metadata": {},
   "outputs": [],
   "source": [
    "y = close.values # ndarrayを取り出す\n",
    "x = np.linspace(0, 30, 30) # x軸を生成\n",
    "X = x.reshape(-1, 1)\n",
    "plt.ylim(5000, 6000) # Y軸の描画範囲を指定\n",
    "\n",
    "# 曲線の次数を上げてゆく\n",
    "for deg in range(3, 10):\n",
    "    pf = PolynomialFeatures(degree=deg, include_bias=True)\n",
    "    lr = LinearRegression()\n",
    "    pl = Pipeline([(\"PF\", pf), (\"LR\", lr)])\n",
    "    pl.fit(X, y)\n",
    "\n",
    "    # 30を40に伸ばしてxを生成\n",
    "    x2 = np.linspace(0, 40, 40) \n",
    "    X2 = x2.reshape(-1, 1)\n",
    "    pred_y = pl.predict(X2)\n",
    "    plt.plot(x2, pred_y, label=f\"deg:{deg}\")\n",
    "\n",
    "plt.legend() # ラベルを表示\n",
    "\n",
    "plt.scatter(x2, df[\"close\"][:40].values, alpha=0.2)\n",
    "plt.show()\n"
   ]
  },
  {
   "cell_type": "markdown",
   "metadata": {},
   "source": [
    "※ スライドに戻ります"
   ]
  },
  {
   "cell_type": "code",
   "execution_count": null,
   "metadata": {},
   "outputs": [],
   "source": []
  }
 ],
 "metadata": {
  "kernelspec": {
   "display_name": "Python 3",
   "language": "python",
   "name": "python3"
  },
  "language_info": {
   "codemirror_mode": {
    "name": "ipython",
    "version": 3
   },
   "file_extension": ".py",
   "mimetype": "text/x-python",
   "name": "python",
   "nbconvert_exporter": "python",
   "pygments_lexer": "ipython3",
   "version": "3.7.3"
  }
 },
 "nbformat": 4,
 "nbformat_minor": 2
}
