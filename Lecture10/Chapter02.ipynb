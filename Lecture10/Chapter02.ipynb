{
 "cells": [
  {
   "cell_type": "markdown",
   "metadata": {},
   "source": [
    "# Lecture 10 ディープラーニングに挑戦"
   ]
  },
  {
   "cell_type": "markdown",
   "metadata": {},
   "source": [
    "## モデル"
   ]
  },
  {
   "cell_type": "code",
   "execution_count": null,
   "metadata": {},
   "outputs": [],
   "source": [
    "# https://dev.to/nitdgplug/stonksmaster-predict-stock-prices-using-python-ml-3hmc\n",
    "# まずはWebページにあるPythonのプログラムを動かしてみる"
   ]
  },
  {
   "cell_type": "code",
   "execution_count": null,
   "metadata": {},
   "outputs": [],
   "source": [
    "import pandas as pd\n",
    "import numpy as np\n",
    "import pandas_datareader as pdr\n",
    "\n",
    "df = pdr.get_data_yahoo(\"AAPL\", \"2010-11-01\", \"2020-11-01\")"
   ]
  },
  {
   "cell_type": "code",
   "execution_count": null,
   "metadata": {},
   "outputs": [],
   "source": [
    "# データの中身を表示\n",
    "df[:10]"
   ]
  },
  {
   "cell_type": "code",
   "execution_count": null,
   "metadata": {},
   "outputs": [],
   "source": [
    "# 学習用のデータを抽出\n",
    "from sklearn.model_selection import train_test_split\n",
    "\n",
    "prices = df[df.columns[0:1]]\n",
    "prices.reset_index(level=0, inplace=True)\n",
    "prices[\"timestamp\"] = pd.to_datetime(df.index).astype(int) // (10**9)\n",
    "prices = prices.drop([\"Date\"], axis=1)"
   ]
  },
  {
   "cell_type": "code",
   "execution_count": null,
   "metadata": {
    "scrolled": true
   },
   "outputs": [],
   "source": [
    "prices[:10]  # 訓練用に変換したデータを表示"
   ]
  },
  {
   "cell_type": "code",
   "execution_count": null,
   "metadata": {},
   "outputs": [],
   "source": [
    "# 訓練用，確認用のデータを分割\n",
    "dataset = prices.values\n",
    "X = dataset[:,1].reshape(-1,1)\n",
    "Y = dataset[:,0:1]\n",
    "\n",
    "validation_size = 0.15\n",
    "seed = 7\n",
    "\n",
    "X_train, X_validation, Y_train, Y_validation = train_test_split(X, Y, test_size=validation_size, random_state=seed)"
   ]
  },
  {
   "cell_type": "code",
   "execution_count": null,
   "metadata": {},
   "outputs": [],
   "source": [
    "# 色々なモデルで学習\n",
    "from sklearn.linear_model import LinearRegression\n",
    "from sklearn.linear_model import Lasso\n",
    "from sklearn.linear_model import ElasticNet\n",
    "from sklearn.tree import DecisionTreeRegressor\n",
    "from sklearn.neighbors import KNeighborsRegressor\n",
    "from sklearn.svm import SVR\n",
    "\n",
    "# Test options and evaluation metric\n",
    "num_folds = 10\n",
    "seed = 7\n",
    "scoring = \"r2\"\n",
    "\n",
    "# Spot-Check Algorithms\n",
    "models = []\n",
    "models.append((' LR ', LinearRegression()))\n",
    "models.append((' LASSO ', Lasso()))\n",
    "models.append((' EN ', ElasticNet()))\n",
    "models.append((' KNN ', KNeighborsRegressor()))\n",
    "models.append((' CART ', DecisionTreeRegressor()))"
   ]
  },
  {
   "cell_type": "code",
   "execution_count": null,
   "metadata": {},
   "outputs": [],
   "source": [
    "# 学習と精度を表示\n",
    "from sklearn.model_selection import KFold\n",
    "from sklearn.model_selection import cross_val_score\n",
    "\n",
    "# evaluate each model in turn\n",
    "results = []\n",
    "names = []\n",
    "for name, model in models:\n",
    "    kfold = KFold(n_splits=num_folds, random_state=seed, shuffle=True)\n",
    "    cv_results = cross_val_score(model, X_train, Y_train, cv=kfold, scoring=scoring)\n",
    "    # print(cv_results)\n",
    "    results.append(cv_results)\n",
    "    names.append(name)\n",
    "    msg = \"%s: %f (%f)\" % (name, cv_results.mean(), cv_results.std())\n",
    "    print(msg)"
   ]
  },
  {
   "cell_type": "code",
   "execution_count": null,
   "metadata": {},
   "outputs": [],
   "source": [
    "from matplotlib import pyplot as plt\n",
    "from sklearn.metrics import mean_squared_error\n",
    "\n",
    "# Define model\n",
    "model = DecisionTreeRegressor()\n",
    "# Fit to model\n",
    "model.fit(X_train, Y_train)\n",
    "# predict\n",
    "predictions = model.predict(X)\n",
    "print(mean_squared_error(Y, predictions))\n",
    "\n",
    "# %matplotlib inline \n",
    "fig= plt.figure(figsize=(24,12))\n",
    "plt.plot(X,Y, c=\"b\")\n",
    "plt.plot(X,predictions, c=\"r\")\n",
    "plt.show()"
   ]
  },
  {
   "cell_type": "code",
   "execution_count": null,
   "metadata": {},
   "outputs": [],
   "source": [
    "# 書き換える\n",
    "url = \"https://raw.githubusercontent.com/shibats/tdl_python_basic/main/Lecture05/stock_chart.csv\"\n",
    "pd = pd.read_csv(url)"
   ]
  },
  {
   "cell_type": "code",
   "execution_count": null,
   "metadata": {},
   "outputs": [],
   "source": [
    "# データの中身を表示\n",
    "df[:10]"
   ]
  },
  {
   "cell_type": "code",
   "execution_count": null,
   "metadata": {},
   "outputs": [],
   "source": [
    "# 学習用のデータを抽出\n",
    "\n",
    "# データの成形の仕方を変更，highとtimestampだけを残す\n",
    "# さらに最後の5日を取り除く\n",
    "prices = df[df.columns[0:3]][5:]\n",
    "prices.reset_index(level=0, inplace=True)\n",
    "prices[\"timestamp\"] = pd.to_datetime(prices.date).astype(int) // (10**9)\n",
    "prices = prices.drop([\"index\", \"date\", \"open\"], axis=1)"
   ]
  },
  {
   "cell_type": "code",
   "execution_count": null,
   "metadata": {},
   "outputs": [],
   "source": [
    "prices[:10]  # 訓練用に変換したデータを表示"
   ]
  },
  {
   "cell_type": "code",
   "execution_count": null,
   "metadata": {},
   "outputs": [],
   "source": [
    "# 訓練用，確認用のデータを分割\n",
    "dataset = prices.values\n",
    "X = dataset[:,1].reshape(-1,1)\n",
    "Y = dataset[:,0:1]\n",
    "\n",
    "validation_size = 0.15\n",
    "seed = 7\n",
    "\n",
    "X_train, X_validation, Y_train, Y_validation = train_test_split(X, Y, test_size=validation_size, random_state=seed)"
   ]
  },
  {
   "cell_type": "code",
   "execution_count": null,
   "metadata": {},
   "outputs": [],
   "source": [
    "# 色々なモデルで学習\n",
    "# Test options and evaluation metric\n",
    "num_folds = 10\n",
    "seed = 7\n",
    "scoring = \"r2\"\n",
    "\n",
    "# Spot-Check Algorithms\n",
    "models = []\n",
    "models.append((' LR ', LinearRegression()))\n",
    "models.append((' LASSO ', Lasso()))\n",
    "models.append((' EN ', ElasticNet()))\n",
    "models.append((' KNN ', KNeighborsRegressor()))\n",
    "models.append((' CART ', DecisionTreeRegressor()))"
   ]
  },
  {
   "cell_type": "code",
   "execution_count": null,
   "metadata": {},
   "outputs": [],
   "source": [
    "# 学習と精度を表示\n",
    "\n",
    "# evaluate each model in turn\n",
    "results = []\n",
    "names = []\n",
    "for name, model in models:\n",
    "    kfold = KFold(n_splits=num_folds, random_state=seed, shuffle=True)\n",
    "    cv_results = cross_val_score(model, X_train, Y_train, cv=kfold, scoring=scoring)\n",
    "    # print(cv_results)\n",
    "    results.append(cv_results)\n",
    "    names.append(name)\n",
    "    msg = \"%s: %f (%f)\" % (name, cv_results.mean(), cv_results.std())\n",
    "    print(msg)"
   ]
  },
  {
   "cell_type": "code",
   "execution_count": null,
   "metadata": {},
   "outputs": [],
   "source": [
    "# 学習データから5日先のデータを作る(元のデータ)\n",
    "prices = df[df.columns[0:3]]\n",
    "prices.reset_index(level=0, inplace=True)\n",
    "prices[\"timestamp\"] = pd.to_datetime(prices.date).astype(int) // (10**9)\n",
    "prices = prices.drop([\"index\", \"date\", \"open\"], axis=1)\n",
    "dataset = prices.values\n",
    "X2 = dataset[:,1].reshape(-1,1)\n",
    "Y2 = dataset[:,0:1]"
   ]
  },
  {
   "cell_type": "code",
   "execution_count": null,
   "metadata": {},
   "outputs": [],
   "source": [
    "# Define model\n",
    "# LinearRegression, Lasso, ElasticNet,\n",
    "# KNeighborsRegressor, DecisionTreeRegressor\n",
    "model = DecisionTreeRegressor()\n",
    "# Fit to model\n",
    "model.fit(X_train, Y_train)\n",
    "# predict\n",
    "predictions = model.predict(X)\n",
    "\n",
    "# %matplotlib inline \n",
    "fig= plt.figure(figsize=(24,12))\n",
    "plt.plot(X[:50],Y[:50], c=\"b\")\n",
    "plt.plot(X[:50],predictions[:50], c=\"r\")\n",
    "plt.show()"
   ]
  },
  {
   "cell_type": "code",
   "execution_count": null,
   "metadata": {},
   "outputs": [],
   "source": []
  }
 ],
 "metadata": {
  "kernelspec": {
   "display_name": "Python 3",
   "language": "python",
   "name": "python3"
  },
  "language_info": {
   "codemirror_mode": {
    "name": "ipython",
    "version": 3
   },
   "file_extension": ".py",
   "mimetype": "text/x-python",
   "name": "python",
   "nbconvert_exporter": "python",
   "pygments_lexer": "ipython3",
   "version": "3.7.3"
  }
 },
 "nbformat": 4,
 "nbformat_minor": 2
}
