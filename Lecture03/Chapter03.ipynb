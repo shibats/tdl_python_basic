{
 "cells": [
  {
   "cell_type": "markdown",
   "metadata": {},
   "source": [
    "# Lecture 3 データ構造とアルゴリズム"
   ]
  },
  {
   "cell_type": "markdown",
   "metadata": {},
   "source": [
    "## コイン問題"
   ]
  },
  {
   "cell_type": "code",
   "execution_count": null,
   "metadata": {},
   "outputs": [],
   "source": [
    "# 準備\n",
    "!pip install tdl_pybasic\n",
    "from tdl_pybasic.random import initialize, throw_dice"
   ]
  },
  {
   "cell_type": "code",
   "execution_count": null,
   "metadata": {},
   "outputs": [],
   "source": [
    "initialize()   # 初期化"
   ]
  },
  {
   "cell_type": "code",
   "execution_count": null,
   "metadata": {},
   "outputs": [],
   "source": [
    "# コインを投げる\n",
    "# 表 0，裏 1\n",
    "throw_dice() "
   ]
  },
  {
   "cell_type": "code",
   "execution_count": null,
   "metadata": {},
   "outputs": [],
   "source": [
    "# 10万回サイコロを振った結果を記録する\n",
    "# リスト版\n",
    "initialize()   # 初期化\n",
    "dice_l = []   # 記録用のリストを初期化\n",
    "for i in range(100000): # 10万回ループを実行\n",
    "    r = throw_dice() # コインを投げる\n",
    "    # 復号演算子を使ってリストに結果を追加\n",
    "    dice_l += [r]"
   ]
  },
  {
   "cell_type": "code",
   "execution_count": null,
   "metadata": {},
   "outputs": [],
   "source": [
    "len(dice_l)   # 長さを調べる"
   ]
  },
  {
   "cell_type": "code",
   "execution_count": null,
   "metadata": {},
   "outputs": [],
   "source": [
    "dice_l  # 結果を表示"
   ]
  },
  {
   "cell_type": "code",
   "execution_count": null,
   "metadata": {},
   "outputs": [],
   "source": [
    "# 連続して裏の出た回数を数え\n",
    "# 一番多い回数を調べる(リスト版)\n",
    "\n",
    "max_len = 0  # 最大回数の変数を初期化\n",
    "last = -1  # 直前の裏表\n",
    "cont = 0  # 連続して裏がでている回数を保存する変数\n",
    "\n",
    "# dice_lの要素(10万)でループ\n",
    "for h_t in dice_l:\n",
    "    if last == 1 and h_t == 1:\n",
    "        # 最新も直前も裏の場合 = 裏の連続\n",
    "        cont += 1\n",
    "    else:\n",
    "        # 連続が途切れた\n",
    "        cont = 0\n",
    "\n",
    "    if max_len < cont+1:\n",
    "        # 最大長が見つかったので，変数を更新\n",
    "        max_len = cont+1\n",
    "    \n",
    "    last = h_t  # 直前の裏表を更新"
   ]
  },
  {
   "cell_type": "code",
   "execution_count": null,
   "metadata": {},
   "outputs": [],
   "source": [
    "max_len  # 結果を表示"
   ]
  },
  {
   "cell_type": "markdown",
   "metadata": {},
   "source": [
    "### 別解"
   ]
  },
  {
   "cell_type": "code",
   "execution_count": null,
   "metadata": {},
   "outputs": [],
   "source": [
    "# 10万回サイコロを振った結果を記録する\n",
    "# 文字列版\n",
    "initialize()   # 初期化\n",
    "dice_s = \"\"   # 記録用の文字列を初期化\n",
    "for i in range(100000): # 10万回ループを実行\n",
    "    r = throw_dice() # コインを投げる\n",
    "    dice_s += str(r) # 文字列に結果を追加"
   ]
  },
  {
   "cell_type": "code",
   "execution_count": null,
   "metadata": {},
   "outputs": [],
   "source": [
    "len(dice_s)"
   ]
  },
  {
   "cell_type": "code",
   "execution_count": null,
   "metadata": {},
   "outputs": [],
   "source": [
    "# 連続して裏の出る回数を数え\n",
    "# 一番多い回数を調べる(リスト版)\n",
    "\n",
    "max_len = 0  # 最大回数の変数を初期化\n",
    "for i in range(1, 30): # 1から29までループ\n",
    "    # \"1\"をi回繰り返した文字列を作る\n",
    "    cont_s = \"1\"*i\n",
    "    if cont_s in dice_s:\n",
    "        # \"1\"をi個並べた文字列が\n",
    "        # cont_sに含まれていた場合\n",
    "        max_len = i  # 最大回数を更新"
   ]
  },
  {
   "cell_type": "code",
   "execution_count": null,
   "metadata": {},
   "outputs": [],
   "source": [
    "max_len"
   ]
  },
  {
   "cell_type": "code",
   "execution_count": null,
   "metadata": {},
   "outputs": [],
   "source": [
    "# Webブラウザの検索機能を使って試してみる\n",
    "dice_s"
   ]
  },
  {
   "cell_type": "code",
   "execution_count": null,
   "metadata": {},
   "outputs": [],
   "source": [
    "# プログラムをもっとスッキリ書く\n",
    "\n",
    "for i in range(30, 1, -1): # 29から1までループ(逆順)\n",
    "    # \"1\"をi回繰り返した文字列を作る\n",
    "    cont_s = \"1\"*i\n",
    "    if cont_s in dice_s:\n",
    "        break   # ループを抜ける\n"
   ]
  },
  {
   "cell_type": "code",
   "execution_count": null,
   "metadata": {},
   "outputs": [],
   "source": [
    "i"
   ]
  },
  {
   "cell_type": "markdown",
   "metadata": {},
   "source": [
    "※ スライドに戻ります"
   ]
  },
  {
   "cell_type": "markdown",
   "metadata": {},
   "source": [
    "### コイン問題の続き"
   ]
  },
  {
   "cell_type": "code",
   "execution_count": null,
   "metadata": {},
   "outputs": [],
   "source": [
    "# コインの裏表をリストに記録\n",
    "initialize()   # 初期化\n",
    "dice_l = []   # 記録用のリストを初期化\n",
    "for i in range(100000): # 10万回ループを実行\n",
    "    r = throw_dice() # コインを投げる\n",
    "    # 復号演算子を使ってリストに結果を追加\n",
    "    dice_l += [r]"
   ]
  },
  {
   "cell_type": "code",
   "execution_count": null,
   "metadata": {},
   "outputs": [],
   "source": [
    "# 記録を20ずつに区切る\n",
    "# 区切ったリストを記録するリストを初期化\n",
    "parts = []\n",
    "# 20ずつ保存する作業用リストを初期化\n",
    "ap_list = []\n",
    "for i in range(len(dice_l)):\n",
    "    # 1つの要素をap_lilstに追加\n",
    "    ap_list += [dice_l[i]]\n",
    "    if (i+1) % 20 == 0:\n",
    "        # i+1を20で割った余りが0\n",
    "        # つまり20回ごとに実行されるブロック\n",
    "        parts += [ap_list]\n",
    "        ap_list = []  # 初期化\n"
   ]
  },
  {
   "cell_type": "code",
   "execution_count": null,
   "metadata": {},
   "outputs": [],
   "source": [
    "parts  # 結果を表示"
   ]
  },
  {
   "cell_type": "markdown",
   "metadata": {},
   "source": [
    "※スライドに戻ります"
   ]
  },
  {
   "cell_type": "code",
   "execution_count": null,
   "metadata": {},
   "outputs": [],
   "source": [
    "# スライスを使う\n",
    "dice_l[0:20]"
   ]
  },
  {
   "cell_type": "code",
   "execution_count": null,
   "metadata": {},
   "outputs": [],
   "source": [
    "dice_l[0:20] == parts[0]"
   ]
  },
  {
   "cell_type": "code",
   "execution_count": null,
   "metadata": {},
   "outputs": [],
   "source": [
    "# 20飛びのインデックスを作る\n",
    "for i in range(0, len(dice_l), 20):\n",
    "    print(i)\n"
   ]
  },
  {
   "cell_type": "code",
   "execution_count": null,
   "metadata": {},
   "outputs": [],
   "source": [
    "# 区切ったリストを記録するリストを初期化\n",
    "parts2 = []\n",
    "for i in range(0, len(dice_l), 20):\n",
    "    # 20飛びのインデックスを使いループ\n",
    "    parts2 += [dice_l[i:i+20]]"
   ]
  },
  {
   "cell_type": "code",
   "execution_count": null,
   "metadata": {},
   "outputs": [],
   "source": [
    "parts2"
   ]
  },
  {
   "cell_type": "code",
   "execution_count": null,
   "metadata": {},
   "outputs": [],
   "source": [
    "parts[0] == parts2[0]"
   ]
  },
  {
   "cell_type": "code",
   "execution_count": null,
   "metadata": {},
   "outputs": [],
   "source": [
    "# 20個に区切ったリスト上で，裏の数を数える\n",
    "# まずはテスト\n",
    "\n",
    "t_part = parts2[0]\n",
    "t_cnt = 0  # 裏の数を初期化\n",
    "for h_t in t_part:  # リストの要素でループ\n",
    "    if h_t == 1:\n",
    "        # 取り出した要素が裏だったら\n",
    "        t_cnt += 1\n",
    "\n",
    "t_cnt # 結果を調べる"
   ]
  },
  {
   "cell_type": "code",
   "execution_count": null,
   "metadata": {},
   "outputs": [],
   "source": [
    "# すべての要素について調べる\n",
    "# 調べた結果を保存するリストを初期化\n",
    "count_l = []\n",
    "for t_part in parts2:\n",
    "    t_cnt = 0  # 裏の数を初期化\n",
    "    for h_t in t_part:  # リストの要素でループ\n",
    "        if h_t == 1:\n",
    "            # 取り出した要素が裏だったら\n",
    "            t_cnt += 1\n",
    "    count_l += [t_cnt]"
   ]
  },
  {
   "cell_type": "code",
   "execution_count": null,
   "metadata": {},
   "outputs": [],
   "source": [
    "count_l  # 結果を表示"
   ]
  },
  {
   "cell_type": "code",
   "execution_count": null,
   "metadata": {},
   "outputs": [],
   "source": [
    "# 最大値，最小値を表示\n",
    "# ※ 連続数ではない\n",
    "max(count_l), min(count_l)"
   ]
  },
  {
   "cell_type": "markdown",
   "metadata": {},
   "source": [
    "### グラフに表示してみる"
   ]
  },
  {
   "cell_type": "code",
   "execution_count": null,
   "metadata": {},
   "outputs": [],
   "source": [
    "# 頻度のリストを作る\n",
    "# 20の0を持つリストとして初期化\n",
    "freq = [0]*20\n",
    "\n",
    "freq  # 確認"
   ]
  },
  {
   "cell_type": "code",
   "execution_count": null,
   "metadata": {},
   "outputs": [],
   "source": [
    "for i in count_l: # 裏の出現数リストでループ\n",
    "    freq[i] += 1\n",
    "\n",
    "freq  # 確認"
   ]
  },
  {
   "cell_type": "code",
   "execution_count": null,
   "metadata": {},
   "outputs": [],
   "source": [
    "# グラフ描画の準備\n",
    "from tdl_pybasic.draw_graph import store_data, draw_graph"
   ]
  },
  {
   "cell_type": "code",
   "execution_count": null,
   "metadata": {},
   "outputs": [],
   "source": [
    "# グラフ(ヒストグラム)を描画\n",
    "for i in freq:\n",
    "    store_data(i)\n",
    "draw_graph()"
   ]
  },
  {
   "cell_type": "code",
   "execution_count": null,
   "metadata": {},
   "outputs": [],
   "source": []
  }
 ],
 "metadata": {
  "kernelspec": {
   "display_name": "Python 3",
   "language": "python",
   "name": "python3"
  },
  "language_info": {
   "codemirror_mode": {
    "name": "ipython",
    "version": 3
   },
   "file_extension": ".py",
   "mimetype": "text/x-python",
   "name": "python",
   "nbconvert_exporter": "python",
   "pygments_lexer": "ipython3",
   "version": "3.7.3"
  }
 },
 "nbformat": 4,
 "nbformat_minor": 2
}
