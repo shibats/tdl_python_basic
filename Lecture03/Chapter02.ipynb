{
 "cells": [
  {
   "cell_type": "markdown",
   "metadata": {},
   "source": [
    "# Lecture 3 データ構造とアルゴリズム"
   ]
  },
  {
   "cell_type": "markdown",
   "metadata": {},
   "source": [
    "## データ構造\n",
    "\n",
    "現実の事象(ことがら)を，データを使って表現し，計算してみましょう。"
   ]
  },
  {
   "cell_type": "markdown",
   "metadata": {},
   "source": [
    "### 時間の表現"
   ]
  },
  {
   "cell_type": "code",
   "execution_count": null,
   "metadata": {},
   "outputs": [],
   "source": [
    "# 時，分，秒を個別に変数で表現\n",
    "hour = 8\n",
    "minute = 23\n",
    "second = 58"
   ]
  },
  {
   "cell_type": "code",
   "execution_count": null,
   "metadata": {
    "scrolled": true
   },
   "outputs": [],
   "source": [
    "# f文字列を使って文字列に型変換\n",
    "time_str = f\"{hour}時{minute}分{second}秒\"\n",
    "time_str  # 確認"
   ]
  },
  {
   "cell_type": "code",
   "execution_count": null,
   "metadata": {},
   "outputs": [],
   "source": [
    "# 1時間経過\n",
    "hour += 1  # 「複合演算子」を使う\n",
    "f\"{hour}時{minute}分{second}秒\""
   ]
  },
  {
   "cell_type": "code",
   "execution_count": null,
   "metadata": {},
   "outputs": [],
   "source": [
    "# 5秒経過\n",
    "second += 5\n",
    "f\"{hour}時{minute}分{second}秒\""
   ]
  },
  {
   "cell_type": "code",
   "execution_count": null,
   "metadata": {},
   "outputs": [],
   "source": [
    "# 秒，分の上限を考える\n",
    "if second > 60:\n",
    "    # 秒が60を超えたら60を引く\n",
    "    second -= 60\n",
    "    # 分に1を足す\n",
    "    minute += 1\n",
    "\n",
    "f\"{hour}時{minute}分{second}秒\""
   ]
  },
  {
   "cell_type": "code",
   "execution_count": null,
   "metadata": {},
   "outputs": [],
   "source": [
    "# 深夜0時0分0秒を起点にした秒で表現\n",
    "# 8時23分53秒\n",
    "s = 8*60*60+23*60+58"
   ]
  },
  {
   "cell_type": "code",
   "execution_count": null,
   "metadata": {},
   "outputs": [],
   "source": [
    "def get_hms_from_second(s):\n",
    "    # 深夜起点の秒数を受け取り\n",
    "    # 時/分/秒に変換する関数\n",
    "    hour = int(s/60/60)\n",
    "    minute = int(s/60) % 60\n",
    "    second = s % 60\n",
    "    return hour, minute, second"
   ]
  },
  {
   "cell_type": "code",
   "execution_count": null,
   "metadata": {},
   "outputs": [],
   "source": [
    "get_hms_from_second(s)  # 関数を呼び出す"
   ]
  },
  {
   "cell_type": "code",
   "execution_count": null,
   "metadata": {},
   "outputs": [],
   "source": [
    "# 変数で受け取る(アンパック代入を使う)\n",
    "hour, minute, second = get_hms_from_second(s)"
   ]
  },
  {
   "cell_type": "code",
   "execution_count": null,
   "metadata": {},
   "outputs": [],
   "source": [
    "hour, minute, second"
   ]
  },
  {
   "cell_type": "code",
   "execution_count": null,
   "metadata": {},
   "outputs": [],
   "source": [
    "f\"{hour}時{minute}分{second}秒\""
   ]
  },
  {
   "cell_type": "code",
   "execution_count": null,
   "metadata": {},
   "outputs": [],
   "source": [
    "# 5秒経過\n",
    "s += 5\n",
    "hour, minute, second = get_hms_from_second(s)\n",
    "f\"{hour}時{minute}分{second}秒\""
   ]
  },
  {
   "cell_type": "code",
   "execution_count": null,
   "metadata": {},
   "outputs": [],
   "source": [
    "# 1時間経過\n",
    "s += 60*60\n",
    "hour, minute, second = get_hms_from_second(s)\n",
    "f\"{hour}時{minute}分{second}秒\""
   ]
  },
  {
   "cell_type": "markdown",
   "metadata": {},
   "source": [
    "※ スライドに戻ります"
   ]
  },
  {
   "cell_type": "markdown",
   "metadata": {},
   "source": [
    "### よくあるデータ構造"
   ]
  },
  {
   "cell_type": "code",
   "execution_count": null,
   "metadata": {},
   "outputs": [],
   "source": [
    "# なんのデータ構造か，考えてみましょう\n",
    "\n",
    "name = \"勇者A\"\n",
    "hitpoint = 120\n",
    "magicpoint = 40\n",
    "money = 1000"
   ]
  },
  {
   "cell_type": "code",
   "execution_count": null,
   "metadata": {},
   "outputs": [],
   "source": [
    "hitpoint -= 20"
   ]
  },
  {
   "cell_type": "code",
   "execution_count": null,
   "metadata": {},
   "outputs": [],
   "source": [
    "magicpoint -= 10\n",
    "hitpoint += 20"
   ]
  },
  {
   "cell_type": "code",
   "execution_count": null,
   "metadata": {},
   "outputs": [],
   "source": [
    "def show_status(name, hitpoint,\n",
    "                          magicpoint, money):\n",
    "    print(f\"-- {name} --\")\n",
    "    print(f\"HP  　: {hitpoint}\")\n",
    "    print(f\"MP 　 : {magicpoint}\")\n",
    "    print(f\"所持金 : {money}\")\n",
    "    "
   ]
  },
  {
   "cell_type": "code",
   "execution_count": null,
   "metadata": {},
   "outputs": [],
   "source": [
    "show_status(name, hitpoint, magicpoint, money)"
   ]
  },
  {
   "cell_type": "code",
   "execution_count": null,
   "metadata": {},
   "outputs": [],
   "source": [
    "inventry = []"
   ]
  },
  {
   "cell_type": "code",
   "execution_count": null,
   "metadata": {},
   "outputs": [],
   "source": [
    "inventry += [\"伝説の聖剣\"]\n",
    "money -= 400\n",
    "inventry += [\"鏡の盾\"]\n",
    "money -= 500\n",
    "\n",
    "show_status(name, hitpoint, magicpoint, money)"
   ]
  },
  {
   "cell_type": "code",
   "execution_count": null,
   "metadata": {},
   "outputs": [],
   "source": [
    "# 準備\n",
    "!pip install tdl_pybasic -U\n",
    "from tdl_pybasic.random import random"
   ]
  },
  {
   "cell_type": "code",
   "execution_count": null,
   "metadata": {},
   "outputs": [],
   "source": [
    "random()"
   ]
  },
  {
   "cell_type": "code",
   "execution_count": null,
   "metadata": {},
   "outputs": [],
   "source": [
    "power = 10\n",
    "if \"伝説の聖剣\" in inventry:\n",
    "    power += 20\n",
    "if random() > 0.8:\n",
    "    power *= 10\n",
    "\n",
    "power"
   ]
  },
  {
   "cell_type": "code",
   "execution_count": null,
   "metadata": {},
   "outputs": [],
   "source": [
    "hitpoint -= 100\n",
    "if hitpoint <= 20:\n",
    "    magicpoint -= 30\n",
    "    hitpoint += 90\n",
    "\n",
    "show_status(name, hitpoint, magicpoint, money)"
   ]
  },
  {
   "cell_type": "code",
   "execution_count": null,
   "metadata": {},
   "outputs": [],
   "source": []
  }
 ],
 "metadata": {
  "kernelspec": {
   "display_name": "Python 3",
   "language": "python",
   "name": "python3"
  },
  "language_info": {
   "codemirror_mode": {
    "name": "ipython",
    "version": 3
   },
   "file_extension": ".py",
   "mimetype": "text/x-python",
   "name": "python",
   "nbconvert_exporter": "python",
   "pygments_lexer": "ipython3",
   "version": "3.7.3"
  }
 },
 "nbformat": 4,
 "nbformat_minor": 2
}
