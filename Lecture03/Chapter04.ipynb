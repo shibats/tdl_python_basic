{
 "cells": [
  {
   "cell_type": "markdown",
   "metadata": {},
   "source": [
    "# Lecture 3 データ構造とアルゴリズム"
   ]
  },
  {
   "cell_type": "markdown",
   "metadata": {},
   "source": [
    "## データ構造としての行列"
   ]
  },
  {
   "cell_type": "code",
   "execution_count": null,
   "metadata": {},
   "outputs": [],
   "source": [
    "# 準備\n",
    "!pip install tdl_pybasic -U\n",
    "from tdl_pybasic.array import array_add, array_mul, load_sound, show_player, load_image, show_image, convolve"
   ]
  },
  {
   "cell_type": "code",
   "execution_count": null,
   "metadata": {},
   "outputs": [],
   "source": [
    "# 行列と演算\n",
    "an_array = [1, 2, 3]   # 行列として扱うリストを定義する"
   ]
  },
  {
   "cell_type": "code",
   "execution_count": null,
   "metadata": {},
   "outputs": [],
   "source": [
    "# 行列の足し算\n",
    "r = array_add(an_array, 10)\n",
    "r  # 結果を表示"
   ]
  },
  {
   "cell_type": "code",
   "execution_count": null,
   "metadata": {},
   "outputs": [],
   "source": [
    "# 行列のかけ算\n",
    "r = array_mul(an_array, 0.5)\n",
    "r  # 結果を表示"
   ]
  },
  {
   "cell_type": "code",
   "execution_count": null,
   "metadata": {},
   "outputs": [],
   "source": [
    "# 音声ファイルを行列として扱う\n",
    "# ピアノの音声ファイルを読み込む\n",
    "f, sl = load_sound()  # サンプリング周波数と行列を得る"
   ]
  },
  {
   "cell_type": "code",
   "execution_count": null,
   "metadata": {},
   "outputs": [],
   "source": [
    "f  # 周波数を表示"
   ]
  },
  {
   "cell_type": "code",
   "execution_count": null,
   "metadata": {},
   "outputs": [],
   "source": [
    "sl   # 音声のデータを表示"
   ]
  },
  {
   "cell_type": "code",
   "execution_count": null,
   "metadata": {},
   "outputs": [],
   "source": [
    "# 音を聞く\n",
    "show_player(f, sl)"
   ]
  },
  {
   "cell_type": "code",
   "execution_count": null,
   "metadata": {},
   "outputs": [],
   "source": [
    "sl2 = array_mul(sl, 0.2)  # 音を小さくする\n",
    "sl3 = sl+sl2   # 音を追加する\n",
    "show_player(f, sl3)  # 追加した音を聞く"
   ]
  },
  {
   "cell_type": "markdown",
   "metadata": {},
   "source": [
    "※ スライドに戻ります"
   ]
  },
  {
   "cell_type": "code",
   "execution_count": null,
   "metadata": {},
   "outputs": [],
   "source": [
    "# 画像を行列として読み込む\n",
    "l = load_image()\n",
    "len(l), len(l[0])  # たて，よこの長さを表示"
   ]
  },
  {
   "cell_type": "code",
   "execution_count": null,
   "metadata": {},
   "outputs": [],
   "source": [
    "show_image(l)  # 画像を表示"
   ]
  },
  {
   "cell_type": "code",
   "execution_count": null,
   "metadata": {},
   "outputs": [],
   "source": [
    "for line in range(50, 60):\n",
    "    l[line] = [0]*425"
   ]
  },
  {
   "cell_type": "code",
   "execution_count": null,
   "metadata": {},
   "outputs": [],
   "source": [
    "show_image(l)  # 画像を表示"
   ]
  },
  {
   "cell_type": "code",
   "execution_count": null,
   "metadata": {},
   "outputs": [],
   "source": [
    "# 画像を再読込\n",
    "l = load_image()\n",
    "\n",
    "# フィルタリング\n",
    "# ぼかしフィルタ\n",
    "a2 = [[1, 1, 1], [1, 1, 1], [1, 1, 1]]\n",
    "a2 = array_mul(a2, 1/9)"
   ]
  },
  {
   "cell_type": "code",
   "execution_count": null,
   "metadata": {},
   "outputs": [],
   "source": [
    "# フィルタをかける\n",
    "l3 = convolve(l, a2)"
   ]
  },
  {
   "cell_type": "code",
   "execution_count": null,
   "metadata": {
    "scrolled": true
   },
   "outputs": [],
   "source": [
    "# 画像を表示\n",
    "show_image(l3)"
   ]
  },
  {
   "cell_type": "code",
   "execution_count": null,
   "metadata": {},
   "outputs": [],
   "source": [
    "# 画像を再読込\n",
    "l = load_image()\n",
    "# ぼかしフィルタ\n",
    "a3 = [[1]*9]*9\n",
    "a3 = array_mul(a3, 1/81)\n",
    "# フィルタをかける\n",
    "l4 = convolve(l, a3)\n",
    "show_image(l4)"
   ]
  },
  {
   "cell_type": "code",
   "execution_count": null,
   "metadata": {},
   "outputs": [],
   "source": [
    "# 画像を再読込\n",
    "l = load_image()\n",
    "# シャープ化\n",
    "a4 = [[0, -1, 0],\n",
    "        [-1, 5, -1],\n",
    "        [0, -1, 0]]\n",
    "# フィルタをかける\n",
    "l4 = convolve(l, a4)\n",
    "show_image(l4)\n"
   ]
  },
  {
   "cell_type": "code",
   "execution_count": null,
   "metadata": {},
   "outputs": [],
   "source": [
    "# フィルタリング\n",
    "# 輪郭抽出\n",
    "a2 = [[-1, -1, -1],\n",
    "         [-1, 8, -1],\n",
    "         [-1, -1, -1]]\n",
    "\n",
    "l2 = convolve(l, a2) # フィルタをかける\n",
    "show_image(l2)"
   ]
  },
  {
   "cell_type": "code",
   "execution_count": null,
   "metadata": {},
   "outputs": [],
   "source": []
  }
 ],
 "metadata": {
  "kernelspec": {
   "display_name": "Python 3",
   "language": "python",
   "name": "python3"
  },
  "language_info": {
   "codemirror_mode": {
    "name": "ipython",
    "version": 3
   },
   "file_extension": ".py",
   "mimetype": "text/x-python",
   "name": "python",
   "nbconvert_exporter": "python",
   "pygments_lexer": "ipython3",
   "version": "3.7.3"
  }
 },
 "nbformat": 4,
 "nbformat_minor": 2
}
