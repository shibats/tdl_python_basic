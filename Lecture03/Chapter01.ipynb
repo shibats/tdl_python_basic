{
 "cells": [
  {
   "cell_type": "markdown",
   "metadata": {},
   "source": [
    "# Lecture 3 データ構造とアルゴリズム"
   ]
  },
  {
   "cell_type": "markdown",
   "metadata": {},
   "source": [
    "## データ型"
   ]
  },
  {
   "cell_type": "code",
   "execution_count": null,
   "metadata": {},
   "outputs": [],
   "source": [
    "# 2つのリストが同一かどうか調べる\n",
    "l1 = [1, 2, 3]  # 対象となるリスト(1)\n",
    "l2 = [1, 2, 4]  # 対象となるリスト(2)\n",
    "\n",
    "same = 1  # 異なるなら0, 同じなら1\n",
    "for idx in range(len(l1)):\n",
    "    # リストの要素,数でループ\n",
    "    if l1[idx] != l2[idx]:\n",
    "        # 異なる要素を見つけたら0にする\n",
    "        same = 0\n",
    "    # 途中経過を表示\n",
    "    print(idx, l1[idx], l2[idx])\n",
    "\n",
    "same # 結果を表示"
   ]
  },
  {
   "cell_type": "code",
   "execution_count": null,
   "metadata": {},
   "outputs": [],
   "source": [
    "# 2つのリストが同一かどうか調べる(修正版)\n",
    "l1 = [1, 2, 3]  # 対象となるリスト(1)\n",
    "l2 = [1, 2, 3, 2]  # 対象となるリスト(2)\n",
    "\n",
    "same = 1  # 異なるなら0, 同じなら1\n",
    "if len(l1) != len(l2):\n",
    "    same = 0\n",
    "else:\n",
    "    for idx in range(len(l1)):\n",
    "        # リストの要素,数でループ\n",
    "        if l1[idx] != l2[idx]:\n",
    "            # 異なる要素を見つけたら0にする\n",
    "            same = 0\n",
    "\n",
    "same # 結果を表示\n",
    "\n",
    "# アルゴリズムは抽象的で\n",
    "# けっこうややこしい"
   ]
  },
  {
   "cell_type": "markdown",
   "metadata": {},
   "source": [
    "※ スライドに戻ります"
   ]
  },
  {
   "cell_type": "code",
   "execution_count": null,
   "metadata": {},
   "outputs": [],
   "source": [
    "# リストと演算子\n",
    "\n",
    "# リストを定義\n",
    "l1 = [1, 2, 3]\n",
    "l2 = [1, 2, 4]"
   ]
  },
  {
   "cell_type": "code",
   "execution_count": null,
   "metadata": {},
   "outputs": [],
   "source": [
    "#追加(リストの加算)\n",
    "l3 = l1+ l2\n",
    "l3  # 結果を確認"
   ]
  },
  {
   "cell_type": "code",
   "execution_count": null,
   "metadata": {},
   "outputs": [],
   "source": [
    "l3 = l1+[4]   # 要素を1つだけ追加\n",
    "l3  # 結果を確認"
   ]
  },
  {
   "cell_type": "code",
   "execution_count": null,
   "metadata": {},
   "outputs": [],
   "source": [
    "# リストと数値の足し算はできない(エラーになる)\n",
    "l3 = l1+4"
   ]
  },
  {
   "cell_type": "code",
   "execution_count": null,
   "metadata": {},
   "outputs": [],
   "source": [
    "# 比較演算子\n",
    "if l1 == l2:\n",
    "    print(\"l1とl2は一致\")\n",
    "else:\n",
    "    print(\"l1とl2は不一致\")"
   ]
  },
  {
   "cell_type": "code",
   "execution_count": null,
   "metadata": {},
   "outputs": [],
   "source": [
    "# in演算子を使った要素の検索\n",
    "if 1 in l1:\n",
    "    print(\"l1の中に1がある\")"
   ]
  },
  {
   "cell_type": "code",
   "execution_count": null,
   "metadata": {},
   "outputs": [],
   "source": [
    "# 文字列と演算子"
   ]
  },
  {
   "cell_type": "code",
   "execution_count": null,
   "metadata": {},
   "outputs": [],
   "source": [
    "# 文字列を定義\n",
    "s1 = \"Python\"\n",
    "s2 = \"Programming\""
   ]
  },
  {
   "cell_type": "code",
   "execution_count": null,
   "metadata": {},
   "outputs": [],
   "source": [
    "#追加(文字列の加算)\n",
    "s3 = s1+s2\n",
    "s3  # 結果を表示"
   ]
  },
  {
   "cell_type": "code",
   "execution_count": null,
   "metadata": {},
   "outputs": [],
   "source": [
    "# 文字列と文字列の引き算はできない(エラーになる)\n",
    "s3 = s1-\"Py\""
   ]
  },
  {
   "cell_type": "code",
   "execution_count": null,
   "metadata": {},
   "outputs": [],
   "source": [
    "# 比較演算子\n",
    "if s1 == s2:\n",
    "    print(\"s1とs2は一致\")\n",
    "else:\n",
    "    print(\"s1とs2は不一致\")"
   ]
  },
  {
   "cell_type": "code",
   "execution_count": null,
   "metadata": {},
   "outputs": [],
   "source": [
    "# in演算子を使った文字列の検索\n",
    "if \"th\" in s1:\n",
    "    print(\"s1の中にthがある\")"
   ]
  },
  {
   "cell_type": "markdown",
   "metadata": {},
   "source": [
    "※ スライドに戻ります"
   ]
  },
  {
   "cell_type": "markdown",
   "metadata": {},
   "source": [
    "### 型変換"
   ]
  },
  {
   "cell_type": "code",
   "execution_count": null,
   "metadata": {},
   "outputs": [],
   "source": [
    "sn = \"100\"\n",
    "a = 100+sn  # エラーになる"
   ]
  },
  {
   "cell_type": "code",
   "execution_count": null,
   "metadata": {},
   "outputs": [],
   "source": [
    "a = 100+int(sn)\n",
    "a  # 結果を表示"
   ]
  },
  {
   "cell_type": "code",
   "execution_count": null,
   "metadata": {},
   "outputs": [],
   "source": [
    "def dindex(temp, humid):\n",
    "    \"\"\"\n",
    "    不快指数を計算する関数\n",
    "    tempに気温，humidに湿度を渡す\n",
    "    \"\"\"\n",
    "    c_temp = 0.81*temp\n",
    "    c_humid = 0.01*humid\n",
    "    c_humid = c_humid*(0.99*temp-14.3)\n",
    "    idx = c_temp+c_humid+46.3\n",
    "    return idx"
   ]
  },
  {
   "cell_type": "code",
   "execution_count": null,
   "metadata": {},
   "outputs": [],
   "source": [
    "dindex(23, 70)"
   ]
  },
  {
   "cell_type": "code",
   "execution_count": null,
   "metadata": {},
   "outputs": [],
   "source": [
    "# 小数点以下を切り捨てる\n",
    "# 浮動小数点型から整数型に変換\n",
    "int(dindex(23, 70))"
   ]
  },
  {
   "cell_type": "code",
   "execution_count": null,
   "metadata": {},
   "outputs": [],
   "source": [
    "# 文字列への変換\n",
    "temp = 23\n",
    "s = \"ただいまの気温は\"+str(temp)+\"度です。\"\n",
    "s  # 結果を表示"
   ]
  },
  {
   "cell_type": "code",
   "execution_count": null,
   "metadata": {},
   "outputs": [],
   "source": [
    "temp = 23.3\n",
    "s = \"ただいまの気温は\"+str(temp)+\"度です。\"\n",
    "s  # 結果を表示"
   ]
  },
  {
   "cell_type": "code",
   "execution_count": null,
   "metadata": {},
   "outputs": [],
   "source": [
    "# 小数点以下を切り捨てたい\n",
    "temp = 23.3\n",
    "s = \"ただいまの気温は\"+str(int(temp))+\"度です。\"\n",
    "s  # 結果を表示"
   ]
  },
  {
   "cell_type": "code",
   "execution_count": null,
   "metadata": {},
   "outputs": [],
   "source": [
    "# 「f文字列」を使う\n",
    "s = f\"ただいまの気温は{temp}度です。\"\n",
    "s  # 結果を表示"
   ]
  },
  {
   "cell_type": "code",
   "execution_count": null,
   "metadata": {},
   "outputs": [],
   "source": [
    "name = \"Guido\"\n",
    "s = f\"こんにちは，{name}さん。Pythonを作ってくれてありがとう。{name}さん偉い。\"\n",
    "s  # 結果を表示"
   ]
  }
 ],
 "metadata": {
  "kernelspec": {
   "display_name": "Python 3",
   "language": "python",
   "name": "python3"
  },
  "language_info": {
   "codemirror_mode": {
    "name": "ipython",
    "version": 3
   },
   "file_extension": ".py",
   "mimetype": "text/x-python",
   "name": "python",
   "nbconvert_exporter": "python",
   "pygments_lexer": "ipython3",
   "version": "3.7.3"
  }
 },
 "nbformat": 4,
 "nbformat_minor": 2
}
